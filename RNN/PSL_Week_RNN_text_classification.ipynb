{
  "cells": [
    {
      "cell_type": "markdown",
      "metadata": {
        "id": "view-in-github",
        "colab_type": "text"
      },
      "source": [
        "<a href=\"https://colab.research.google.com/github/ACSS-PSL/NLP_lectures_PSLWeek_python/blob/main/PSL_Week_RNN_text_classification.ipynb\" target=\"_parent\"><img src=\"https://colab.research.google.com/assets/colab-badge.svg\" alt=\"Open In Colab\"/></a>"
      ]
    },
    {
      "cell_type": "markdown",
      "metadata": {
        "id": "9TnJztDZGw-n"
      },
      "source": [
        "# Text classification with an RNN"
      ]
    },
    {
      "cell_type": "markdown",
      "source": [
        "This text classification trains a recurrent neural network (RNN) on the IMDB large movie review dataset for sentiment analysis."
      ],
      "metadata": {
        "id": "HOayhFjE8mCs"
      }
    },
    {
      "cell_type": "markdown",
      "metadata": {
        "id": "_2VQo4bajwUU"
      },
      "source": [
        "## Setup"
      ]
    },
    {
      "cell_type": "markdown",
      "source": [
        "Before starting, it is interesting to check the capabilities we have in our server."
      ],
      "metadata": {
        "id": "U3gTGjBq8uAk"
      }
    },
    {
      "cell_type": "code",
      "source": [
        "!nvidia-smi #This is the command to know the GPU info "
      ],
      "metadata": {
        "colab": {
          "base_uri": "https://localhost:8080/"
        },
        "id": "96Ed-MkT8tM_",
        "outputId": "5efa439f-a8ad-44ce-f1fa-0d06455454bf"
      },
      "execution_count": 1,
      "outputs": [
        {
          "output_type": "stream",
          "name": "stdout",
          "text": [
            "Sun Nov 20 23:09:02 2022       \n",
            "+-----------------------------------------------------------------------------+\n",
            "| NVIDIA-SMI 460.32.03    Driver Version: 460.32.03    CUDA Version: 11.2     |\n",
            "|-------------------------------+----------------------+----------------------+\n",
            "| GPU  Name        Persistence-M| Bus-Id        Disp.A | Volatile Uncorr. ECC |\n",
            "| Fan  Temp  Perf  Pwr:Usage/Cap|         Memory-Usage | GPU-Util  Compute M. |\n",
            "|                               |                      |               MIG M. |\n",
            "|===============================+======================+======================|\n",
            "|   0  Tesla T4            Off  | 00000000:00:04.0 Off |                    0 |\n",
            "| N/A   44C    P8     9W /  70W |      0MiB / 15109MiB |      0%      Default |\n",
            "|                               |                      |                  N/A |\n",
            "+-------------------------------+----------------------+----------------------+\n",
            "                                                                               \n",
            "+-----------------------------------------------------------------------------+\n",
            "| Processes:                                                                  |\n",
            "|  GPU   GI   CI        PID   Type   Process name                  GPU Memory |\n",
            "|        ID   ID                                                   Usage      |\n",
            "|=============================================================================|\n",
            "|  No running processes found                                                 |\n",
            "+-----------------------------------------------------------------------------+\n"
          ]
        }
      ]
    },
    {
      "cell_type": "code",
      "source": [
        "cat /proc/meminfo # This is the command to know the RAM memory we have"
      ],
      "metadata": {
        "colab": {
          "base_uri": "https://localhost:8080/"
        },
        "id": "mVdHO08a808S",
        "outputId": "5deb5503-be38-49eb-b06d-5d097fdd732f"
      },
      "execution_count": 2,
      "outputs": [
        {
          "output_type": "stream",
          "name": "stdout",
          "text": [
            "MemTotal:       13297228 kB\n",
            "MemFree:         8600808 kB\n",
            "MemAvailable:   12387792 kB\n",
            "Buffers:           88728 kB\n",
            "Cached:          3810236 kB\n",
            "SwapCached:            0 kB\n",
            "Active:          1203676 kB\n",
            "Inactive:        3240496 kB\n",
            "Active(anon):       1056 kB\n",
            "Inactive(anon):   469104 kB\n",
            "Active(file):    1202620 kB\n",
            "Inactive(file):  2771392 kB\n",
            "Unevictable:           0 kB\n",
            "Mlocked:               0 kB\n",
            "SwapTotal:             0 kB\n",
            "SwapFree:              0 kB\n",
            "Dirty:              1208 kB\n",
            "Writeback:             0 kB\n",
            "AnonPages:        545348 kB\n",
            "Mapped:           309956 kB\n",
            "Shmem:              1324 kB\n",
            "KReclaimable:     108848 kB\n",
            "Slab:             148324 kB\n",
            "SReclaimable:     108848 kB\n",
            "SUnreclaim:        39476 kB\n",
            "KernelStack:        5808 kB\n",
            "PageTables:         8688 kB\n",
            "NFS_Unstable:          0 kB\n",
            "Bounce:                0 kB\n",
            "WritebackTmp:          0 kB\n",
            "CommitLimit:     6648612 kB\n",
            "Committed_AS:    3547964 kB\n",
            "VmallocTotal:   34359738367 kB\n",
            "VmallocUsed:       50400 kB\n",
            "VmallocChunk:          0 kB\n",
            "Percpu:             1416 kB\n",
            "HardwareCorrupted:     0 kB\n",
            "AnonHugePages:         0 kB\n",
            "ShmemHugePages:        0 kB\n",
            "ShmemPmdMapped:        0 kB\n",
            "FileHugePages:         0 kB\n",
            "FilePmdMapped:         0 kB\n",
            "CmaTotal:              0 kB\n",
            "CmaFree:               0 kB\n",
            "HugePages_Total:       0\n",
            "HugePages_Free:        0\n",
            "HugePages_Rsvd:        0\n",
            "HugePages_Surp:        0\n",
            "Hugepagesize:       2048 kB\n",
            "Hugetlb:               0 kB\n",
            "DirectMap4k:      291648 kB\n",
            "DirectMap2M:     8093696 kB\n",
            "DirectMap1G:     7340032 kB\n"
          ]
        }
      ]
    },
    {
      "cell_type": "code",
      "source": [
        "!lscpu #We can also check the CPU processor we have in our machine"
      ],
      "metadata": {
        "colab": {
          "base_uri": "https://localhost:8080/"
        },
        "id": "EBZp_0A588Hn",
        "outputId": "4342b608-526b-42eb-e41a-ea413edc8ca2"
      },
      "execution_count": 3,
      "outputs": [
        {
          "output_type": "stream",
          "name": "stdout",
          "text": [
            "Architecture:        x86_64\n",
            "CPU op-mode(s):      32-bit, 64-bit\n",
            "Byte Order:          Little Endian\n",
            "CPU(s):              2\n",
            "On-line CPU(s) list: 0,1\n",
            "Thread(s) per core:  2\n",
            "Core(s) per socket:  1\n",
            "Socket(s):           1\n",
            "NUMA node(s):        1\n",
            "Vendor ID:           GenuineIntel\n",
            "CPU family:          6\n",
            "Model:               85\n",
            "Model name:          Intel(R) Xeon(R) CPU @ 2.00GHz\n",
            "Stepping:            3\n",
            "CPU MHz:             2000.170\n",
            "BogoMIPS:            4000.34\n",
            "Hypervisor vendor:   KVM\n",
            "Virtualization type: full\n",
            "L1d cache:           32K\n",
            "L1i cache:           32K\n",
            "L2 cache:            1024K\n",
            "L3 cache:            39424K\n",
            "NUMA node0 CPU(s):   0,1\n",
            "Flags:               fpu vme de pse tsc msr pae mce cx8 apic sep mtrr pge mca cmov pat pse36 clflush mmx fxsr sse sse2 ss ht syscall nx pdpe1gb rdtscp lm constant_tsc rep_good nopl xtopology nonstop_tsc cpuid tsc_known_freq pni pclmulqdq ssse3 fma cx16 pcid sse4_1 sse4_2 x2apic movbe popcnt aes xsave avx f16c rdrand hypervisor lahf_lm abm 3dnowprefetch invpcid_single ssbd ibrs ibpb stibp fsgsbase tsc_adjust bmi1 hle avx2 smep bmi2 erms invpcid rtm mpx avx512f avx512dq rdseed adx smap clflushopt clwb avx512cd avx512bw avx512vl xsaveopt xsavec xgetbv1 xsaves arat md_clear arch_capabilities\n"
          ]
        }
      ]
    },
    {
      "cell_type": "code",
      "execution_count": 4,
      "metadata": {
        "execution": {
          "iopub.execute_input": "2022-04-05T11:08:43.157837Z",
          "iopub.status.busy": "2022-04-05T11:08:43.157626Z",
          "iopub.status.idle": "2022-04-05T11:08:45.498180Z",
          "shell.execute_reply": "2022-04-05T11:08:45.497485Z"
        },
        "id": "z682XYsrjkY9"
      },
      "outputs": [],
      "source": [
        "import numpy as np\n",
        "\n",
        "import tensorflow_datasets as tfds\n",
        "import tensorflow as tf"
      ]
    },
    {
      "cell_type": "markdown",
      "metadata": {
        "id": "1rXHa-w9JZhb"
      },
      "source": [
        "Import `matplotlib` and create a helper function to plot graphs:"
      ]
    },
    {
      "cell_type": "code",
      "execution_count": 5,
      "metadata": {
        "execution": {
          "iopub.execute_input": "2022-04-05T11:08:45.502330Z",
          "iopub.status.busy": "2022-04-05T11:08:45.502098Z",
          "iopub.status.idle": "2022-04-05T11:08:46.590808Z",
          "shell.execute_reply": "2022-04-05T11:08:46.590087Z"
        },
        "id": "Mp1Z7P9pYRSK"
      },
      "outputs": [],
      "source": [
        "import matplotlib.pyplot as plt\n",
        "\n",
        "\n",
        "def plot_graphs(history, metric):\n",
        "  plt.plot(history.history[metric])\n",
        "  plt.plot(history.history['val_'+metric], '')\n",
        "  plt.xlabel(\"Epochs\")\n",
        "  plt.ylabel(metric)\n",
        "  plt.legend([metric, 'val_'+metric])"
      ]
    },
    {
      "cell_type": "markdown",
      "metadata": {
        "id": "pRmMubr0jrE2"
      },
      "source": [
        "## Setup input pipeline\n",
        "\n",
        "\n",
        "The IMDB large movie review dataset is a *binary classification* dataset—all the reviews have either a *positive* or *negative* sentiment.\n"
      ]
    },
    {
      "cell_type": "code",
      "execution_count": 6,
      "metadata": {
        "execution": {
          "iopub.execute_input": "2022-04-05T11:08:46.594935Z",
          "iopub.status.busy": "2022-04-05T11:08:46.594430Z",
          "iopub.status.idle": "2022-04-05T11:08:52.116992Z",
          "shell.execute_reply": "2022-04-05T11:08:52.116404Z"
        },
        "id": "SHRwRoP2nVHX",
        "colab": {
          "base_uri": "https://localhost:8080/"
        },
        "outputId": "a7cc0dd2-7edb-4575-d53f-7de0faef6742"
      },
      "outputs": [
        {
          "output_type": "execute_result",
          "data": {
            "text/plain": [
              "(TensorSpec(shape=(), dtype=tf.string, name=None),\n",
              " TensorSpec(shape=(), dtype=tf.int64, name=None))"
            ]
          },
          "metadata": {},
          "execution_count": 6
        }
      ],
      "source": [
        "dataset, info = tfds.load('imdb_reviews', with_info=True,\n",
        "                          as_supervised=True)\n",
        "train_dataset, test_dataset = dataset['train'], dataset['test']\n",
        "\n",
        "train_dataset.element_spec"
      ]
    },
    {
      "cell_type": "code",
      "source": [
        "len(dataset['train'])"
      ],
      "metadata": {
        "colab": {
          "base_uri": "https://localhost:8080/"
        },
        "id": "t6hC5dDZPlwR",
        "outputId": "673ef908-aa1d-46fd-e603-04d4c14e5a2e"
      },
      "execution_count": 7,
      "outputs": [
        {
          "output_type": "execute_result",
          "data": {
            "text/plain": [
              "25000"
            ]
          },
          "metadata": {},
          "execution_count": 7
        }
      ]
    },
    {
      "cell_type": "code",
      "source": [
        "len(dataset['test'])"
      ],
      "metadata": {
        "colab": {
          "base_uri": "https://localhost:8080/"
        },
        "id": "J255bntpP73A",
        "outputId": "7b5fb16f-a2b6-4fcd-80a1-7378a797cb98"
      },
      "execution_count": 8,
      "outputs": [
        {
          "output_type": "execute_result",
          "data": {
            "text/plain": [
              "25000"
            ]
          },
          "metadata": {},
          "execution_count": 8
        }
      ]
    },
    {
      "cell_type": "markdown",
      "metadata": {
        "id": "nWA4c2ir7g6p"
      },
      "source": [
        "Initially this returns a dataset of (text, label) pairs:"
      ]
    },
    {
      "cell_type": "code",
      "execution_count": 9,
      "metadata": {
        "execution": {
          "iopub.execute_input": "2022-04-05T11:08:52.145332Z",
          "iopub.status.busy": "2022-04-05T11:08:52.144734Z",
          "iopub.status.idle": "2022-04-05T11:08:54.698953Z",
          "shell.execute_reply": "2022-04-05T11:08:54.698259Z"
        },
        "id": "vd4_BGKyurao",
        "colab": {
          "base_uri": "https://localhost:8080/"
        },
        "outputId": "5b0bb37a-6c09-48e7-8ee8-a702f8b76051"
      },
      "outputs": [
        {
          "output_type": "stream",
          "name": "stdout",
          "text": [
            "text:  b\"This was an absolutely terrible movie. Don't be lured in by Christopher Walken or Michael Ironside. Both are great actors, but this must simply be their worst role in history. Even their great acting could not redeem this movie's ridiculous storyline. This movie is an early nineties US propaganda piece. The most pathetic scenes were those when the Columbian rebels were making their cases for revolutions. Maria Conchita Alonso appeared phony, and her pseudo-love affair with Walken was nothing but a pathetic emotional plug in a movie that was devoid of any real meaning. I am disappointed that there are movies like this, ruining actor's like Christopher Walken's good name. I could barely sit through it.\"\n",
            "label:  0\n"
          ]
        }
      ],
      "source": [
        "for example, label in train_dataset.take(1):\n",
        "  print('text: ', example.numpy())\n",
        "  print('label: ', label.numpy())"
      ]
    },
    {
      "cell_type": "markdown",
      "metadata": {
        "id": "z2qVJzcEluH_"
      },
      "source": [
        "Next shuffle the data for training and create batches of these `(text, label)` pairs:"
      ]
    },
    {
      "cell_type": "code",
      "execution_count": 10,
      "metadata": {
        "execution": {
          "iopub.execute_input": "2022-04-05T11:08:54.702399Z",
          "iopub.status.busy": "2022-04-05T11:08:54.702163Z",
          "iopub.status.idle": "2022-04-05T11:08:54.705604Z",
          "shell.execute_reply": "2022-04-05T11:08:54.705039Z"
        },
        "id": "dDsCaZCDYZgm"
      },
      "outputs": [],
      "source": [
        "BUFFER_SIZE = 10000\n",
        "BATCH_SIZE = 64"
      ]
    },
    {
      "cell_type": "code",
      "execution_count": 11,
      "metadata": {
        "execution": {
          "iopub.execute_input": "2022-04-05T11:08:54.708533Z",
          "iopub.status.busy": "2022-04-05T11:08:54.708305Z",
          "iopub.status.idle": "2022-04-05T11:08:54.715615Z",
          "shell.execute_reply": "2022-04-05T11:08:54.715018Z"
        },
        "id": "VznrltNOnUc5"
      },
      "outputs": [],
      "source": [
        "train_dataset = train_dataset.shuffle(BUFFER_SIZE).batch(BATCH_SIZE).prefetch(tf.data.AUTOTUNE)\n",
        "test_dataset = test_dataset.batch(BATCH_SIZE).prefetch(tf.data.AUTOTUNE)"
      ]
    },
    {
      "cell_type": "code",
      "execution_count": 12,
      "metadata": {
        "execution": {
          "iopub.execute_input": "2022-04-05T11:08:54.718654Z",
          "iopub.status.busy": "2022-04-05T11:08:54.718442Z",
          "iopub.status.idle": "2022-04-05T11:08:55.590184Z",
          "shell.execute_reply": "2022-04-05T11:08:55.589440Z"
        },
        "id": "jqkvdcFv41wC",
        "colab": {
          "base_uri": "https://localhost:8080/"
        },
        "outputId": "19006ee9-a5bb-45d0-80e9-dc8b446f47d6"
      },
      "outputs": [
        {
          "output_type": "stream",
          "name": "stdout",
          "text": [
            "texts:  [b\"This was so lame that I turned the DVD off...maybe halfway through. It was so weak, I couldn't even pay full enough attention to tell you how far in I made it.Though I really wanted to believe that the depiction of the young Carlito would be somewhat different, I just couldn't buy it. I don't really blame the actors, because I think it was the script that may have fallen flat. I did find myself laughing a few times, but I don't think those lines were intended to be funny.<br /><br />It's only saving grace is that I bought it in a 2 DVD set and I would have paid the price I did for the original alone. This is one of those cases when they should have let the classic stand alone.\"\n",
            " b'You remember the Spice Girls movie and how bad it was (besides the songs), well their manager Simon Fuller (also this band\\'s manager) makes the same error putting S Club (another of my favourite bands) in their own film. S Club: Tina Barrett, Jon Lee, Bradley Mcintosh, Jo O\\'Meara, Hannah Spearritt and Rachel Stevens (what happened to the seventh member, Paul Cattermole?) basically ask their boss for a break, they go on, and while there they see themselves on TV! Three of them swap, and vice versa, half discover they are clones made by a greedy scientist, and the other half just get themselves in trouble. Also starring Gareth Gates as a clone of himself. This film may have more of a plot than Spice Girls\\' film did, but besides the songs \"Bring It All Back\", \"Don\\'t Stop Movin\\'\" and \"Never Had A Dream Come True\" this is no goo reason to see this film. Not too long after the band split for good. Adequate!'\n",
            " b\"First of all sorry for giving even a rating of 1 to this movie (nothing less than this available). The film fails in every department be it screenplay, direction, characterization or acting. <br /><br />1) To start with, the name of the movie is really C class (though the movie itself match up to the name). 2) Amitabh Bachchan tries his best to live up to the character but the weak script coupled with pathetic direction ends up making him a humorous character. 3) In Sholay Gabbar Singh has reward of 50,000 on him (which was convincing). Here in Aag the figure was 100 crores for Babban (Amitabh Bachchan but poor man was beaten by our so called hero's and had only few men bikes to commute (with all automatic guns). Making a Sholay like movie in Mumbai type setup in modern time doesn't look convincing. 4) As for Nisha Kothari, somebody needs to tell her that she doesn't know acting. Why is Ram Gopal Verma casting her again and again ? 5) Mohanlal was good but there is hardly anything for him to do. 6) Sushant Singh and Rajpal Yadav who are great actors are wasted in the movie. 7) Legendry role played by Lila Misra (Mausi of Basanti) in Sholay is replaced cheaply in this movie by some Gangu Mummy. Ramu please grow up and understand that there needs to be some intellect in your movie. Enough of stupid characters in your movie like Shiva and Aag. 8) Should not say anything about modern Jai and Veeru..pathetic to the greatest extent.<br /><br />To summarize, I was shocked to see this movie because it looks like a cheap and comic translation of original classic. Please don't waste money and time on this movie. I think watching Aap Ka Surror (which I thought was the worst movie possible) would be a better idea than to see this horrible package of stupid characters, bad songs and miserable direction.<br /><br />Thanks, Saurabh\"]\n",
            "\n",
            "labels:  [0 0 0]\n"
          ]
        }
      ],
      "source": [
        "for example, label in train_dataset.take(1):\n",
        "  print('texts: ', example.numpy()[:3])\n",
        "  print()\n",
        "  print('labels: ', label.numpy()[:3])"
      ]
    },
    {
      "cell_type": "markdown",
      "metadata": {
        "id": "s5eWCo88voPY"
      },
      "source": [
        "## Create the text encoder"
      ]
    },
    {
      "cell_type": "markdown",
      "metadata": {
        "id": "TFevcItw15P_"
      },
      "source": [
        "The raw text needs to be processed before it can be used in a model. The simplest way to process text for training is using the `TextVectorization` function."
      ]
    },
    {
      "cell_type": "code",
      "execution_count": 13,
      "metadata": {
        "execution": {
          "iopub.execute_input": "2022-04-05T11:08:55.594290Z",
          "iopub.status.busy": "2022-04-05T11:08:55.594056Z",
          "iopub.status.idle": "2022-04-05T11:09:00.906388Z",
          "shell.execute_reply": "2022-04-05T11:09:00.905603Z"
        },
        "id": "uC25Lu1Yvuqy"
      },
      "outputs": [],
      "source": [
        "VOCAB_SIZE = 1000\n",
        "encoder = tf.keras.layers.TextVectorization(\n",
        "    max_tokens=VOCAB_SIZE)\n",
        "encoder.adapt(train_dataset.map(lambda text, label: text))"
      ]
    },
    {
      "cell_type": "markdown",
      "metadata": {
        "id": "IuQzVBbe3Ldu"
      },
      "source": [
        "The `.adapt` method sets the layer's vocabulary. Here are the first 20 tokens."
      ]
    },
    {
      "cell_type": "code",
      "execution_count": 14,
      "metadata": {
        "execution": {
          "iopub.execute_input": "2022-04-05T11:09:00.911143Z",
          "iopub.status.busy": "2022-04-05T11:09:00.910456Z",
          "iopub.status.idle": "2022-04-05T11:09:00.919381Z",
          "shell.execute_reply": "2022-04-05T11:09:00.918659Z"
        },
        "id": "tBoyjjWg0Ac9",
        "colab": {
          "base_uri": "https://localhost:8080/"
        },
        "outputId": "f14d4a92-e6b7-43a8-915a-689be8ea2ebd"
      },
      "outputs": [
        {
          "output_type": "execute_result",
          "data": {
            "text/plain": [
              "array(['', '[UNK]', 'the', 'and', 'a', 'of', 'to', 'is', 'in', 'it', 'i',\n",
              "       'this', 'that', 'br', 'was', 'as', 'for', 'with', 'movie', 'but'],\n",
              "      dtype='<U14')"
            ]
          },
          "metadata": {},
          "execution_count": 14
        }
      ],
      "source": [
        "vocab = np.array(encoder.get_vocabulary())\n",
        "vocab[:20]"
      ]
    },
    {
      "cell_type": "markdown",
      "metadata": {
        "id": "bjUqGVBxGw-t"
      },
      "source": [
        "## Create the model"
      ]
    },
    {
      "cell_type": "markdown",
      "metadata": {
        "id": "bgs6nnSTGw-t"
      },
      "source": [
        "\n",
        "1. This model is built with `tf.keras.Sequential`.\n",
        "\n",
        "2. The first layer is the `encoder`, which converts the text to a sequence of token indices.\n",
        "\n",
        "3. After the encoder is an embedding layer. An embedding layer stores one vector per word. When called, it converts the sequences of word indices to sequences of vectors. These vectors are trainable. After training (on enough data), words with similar meanings often have similar vectors.\n",
        "\n",
        "4. A recurrent neural network (RNN) processes sequence input by iterating through the elements. RNNs pass the outputs from one timestep to their input on the next timestep.\n"
      ]
    },
    {
      "cell_type": "markdown",
      "metadata": {
        "id": "V4fodCI7soQi"
      },
      "source": [
        "The code to implement this is below:"
      ]
    },
    {
      "cell_type": "code",
      "execution_count": 15,
      "metadata": {
        "execution": {
          "iopub.execute_input": "2022-04-05T11:09:00.954934Z",
          "iopub.status.busy": "2022-04-05T11:09:00.954389Z",
          "iopub.status.idle": "2022-04-05T11:09:02.517462Z",
          "shell.execute_reply": "2022-04-05T11:09:02.516860Z"
        },
        "id": "LwfoBkmRYcP3"
      },
      "outputs": [],
      "source": [
        "model = tf.keras.Sequential([\n",
        "    encoder,\n",
        "    tf.keras.layers.Embedding(\n",
        "        input_dim=len(encoder.get_vocabulary()),\n",
        "        output_dim=64,\n",
        "        # Use masking to handle the variable sequence lengths\n",
        "        mask_zero=True),\n",
        "    tf.keras.layers.Bidirectional(tf.keras.layers.LSTM(64)),\n",
        "    tf.keras.layers.Dense(64, activation='relu'),\n",
        "    tf.keras.layers.Dense(1)\n",
        "])"
      ]
    },
    {
      "cell_type": "markdown",
      "metadata": {
        "id": "sRI776ZcH3Tf"
      },
      "source": [
        "Compile the Keras model to configure the training process:"
      ]
    },
    {
      "cell_type": "code",
      "execution_count": 16,
      "metadata": {
        "execution": {
          "iopub.execute_input": "2022-04-05T11:09:08.772981Z",
          "iopub.status.busy": "2022-04-05T11:09:08.772575Z",
          "iopub.status.idle": "2022-04-05T11:09:08.785616Z",
          "shell.execute_reply": "2022-04-05T11:09:08.784770Z"
        },
        "id": "kj2xei41YZjC"
      },
      "outputs": [],
      "source": [
        "model.compile(loss=tf.keras.losses.BinaryCrossentropy(from_logits=True),\n",
        "              optimizer=tf.keras.optimizers.Adam(1e-4),\n",
        "              metrics=['accuracy'])"
      ]
    },
    {
      "cell_type": "markdown",
      "metadata": {
        "id": "zIwH3nto596k"
      },
      "source": [
        "## Train the model"
      ]
    },
    {
      "cell_type": "code",
      "source": [
        "import os\n",
        "checkpoint_path = \"training_rnn/cp.ckpt\"\n",
        "checkpoint_dir = os.path.dirname(checkpoint_path)"
      ],
      "metadata": {
        "id": "b-xc0X-nIZzo"
      },
      "execution_count": 17,
      "outputs": []
    },
    {
      "cell_type": "code",
      "source": [
        "# Create a callback that saves the model's weights\n",
        "cp_callback = tf.keras.callbacks.ModelCheckpoint(filepath=checkpoint_path,\n",
        "                                                 save_weights_only=True,\n",
        "                                                 verbose=1)"
      ],
      "metadata": {
        "id": "SHOxvm1eI3MT"
      },
      "execution_count": 18,
      "outputs": []
    },
    {
      "cell_type": "code",
      "execution_count": 19,
      "metadata": {
        "execution": {
          "iopub.execute_input": "2022-04-05T11:09:08.789543Z",
          "iopub.status.busy": "2022-04-05T11:09:08.789017Z",
          "iopub.status.idle": "2022-04-05T11:14:26.672101Z",
          "shell.execute_reply": "2022-04-05T11:14:26.671445Z"
        },
        "id": "hw86wWS4YgR2",
        "colab": {
          "base_uri": "https://localhost:8080/"
        },
        "outputId": "7e3ebadc-8161-424d-adf6-c287d533a3fc"
      },
      "outputs": [
        {
          "output_type": "stream",
          "name": "stdout",
          "text": [
            "Epoch 1/10\n",
            "391/391 [==============================] - ETA: 0s - loss: 0.6471 - accuracy: 0.5680\n",
            "Epoch 1: saving model to training_rnn/cp.ckpt\n",
            "391/391 [==============================] - 47s 91ms/step - loss: 0.6471 - accuracy: 0.5680 - val_loss: 0.5087 - val_accuracy: 0.7797\n",
            "Epoch 2/10\n",
            "391/391 [==============================] - ETA: 0s - loss: 0.4151 - accuracy: 0.8038\n",
            "Epoch 2: saving model to training_rnn/cp.ckpt\n",
            "391/391 [==============================] - 35s 89ms/step - loss: 0.4151 - accuracy: 0.8038 - val_loss: 0.3689 - val_accuracy: 0.8411\n",
            "Epoch 3/10\n",
            "391/391 [==============================] - ETA: 0s - loss: 0.3418 - accuracy: 0.8480\n",
            "Epoch 3: saving model to training_rnn/cp.ckpt\n",
            "391/391 [==============================] - 34s 87ms/step - loss: 0.3418 - accuracy: 0.8480 - val_loss: 0.3399 - val_accuracy: 0.8516\n",
            "Epoch 4/10\n",
            "391/391 [==============================] - ETA: 0s - loss: 0.3214 - accuracy: 0.8602\n",
            "Epoch 4: saving model to training_rnn/cp.ckpt\n",
            "391/391 [==============================] - 34s 87ms/step - loss: 0.3214 - accuracy: 0.8602 - val_loss: 0.3442 - val_accuracy: 0.8552\n",
            "Epoch 5/10\n",
            "391/391 [==============================] - ETA: 0s - loss: 0.3123 - accuracy: 0.8641\n",
            "Epoch 5: saving model to training_rnn/cp.ckpt\n",
            "391/391 [==============================] - 34s 86ms/step - loss: 0.3123 - accuracy: 0.8641 - val_loss: 0.3285 - val_accuracy: 0.8401\n",
            "Epoch 6/10\n",
            "391/391 [==============================] - ETA: 0s - loss: 0.3115 - accuracy: 0.8649\n",
            "Epoch 6: saving model to training_rnn/cp.ckpt\n",
            "391/391 [==============================] - 34s 86ms/step - loss: 0.3115 - accuracy: 0.8649 - val_loss: 0.3277 - val_accuracy: 0.8594\n",
            "Epoch 7/10\n",
            "391/391 [==============================] - ETA: 0s - loss: 0.3032 - accuracy: 0.8688\n",
            "Epoch 7: saving model to training_rnn/cp.ckpt\n",
            "391/391 [==============================] - 34s 87ms/step - loss: 0.3032 - accuracy: 0.8688 - val_loss: 0.3194 - val_accuracy: 0.8542\n",
            "Epoch 8/10\n",
            "391/391 [==============================] - ETA: 0s - loss: 0.3032 - accuracy: 0.8696\n",
            "Epoch 8: saving model to training_rnn/cp.ckpt\n",
            "391/391 [==============================] - 34s 87ms/step - loss: 0.3032 - accuracy: 0.8696 - val_loss: 0.3211 - val_accuracy: 0.8469\n",
            "Epoch 9/10\n",
            "391/391 [==============================] - ETA: 0s - loss: 0.2989 - accuracy: 0.8715\n",
            "Epoch 9: saving model to training_rnn/cp.ckpt\n",
            "391/391 [==============================] - 34s 87ms/step - loss: 0.2989 - accuracy: 0.8715 - val_loss: 0.3187 - val_accuracy: 0.8516\n",
            "Epoch 10/10\n",
            "391/391 [==============================] - ETA: 0s - loss: 0.2977 - accuracy: 0.8712\n",
            "Epoch 10: saving model to training_rnn/cp.ckpt\n",
            "391/391 [==============================] - 34s 86ms/step - loss: 0.2977 - accuracy: 0.8712 - val_loss: 0.3180 - val_accuracy: 0.8589\n"
          ]
        }
      ],
      "source": [
        "history = model.fit(train_dataset, epochs=10,\n",
        "                    validation_data=test_dataset,\n",
        "                    validation_steps=30,\n",
        "                    callbacks=[cp_callback])"
      ]
    },
    {
      "cell_type": "code",
      "source": [
        "# This comand is to download the trained model so we don't need to retrain each time we want to use it\n",
        "\n",
        "#from google.colab import files\n",
        "#os.system( \"zip -r {} {}\".format( 'training_rnn.zip' , 'training_rnn' ) )\n",
        "#files.download('training_rnn.zip')"
      ],
      "metadata": {
        "id": "mDE4-4hzMf4V"
      },
      "execution_count": 20,
      "outputs": []
    },
    {
      "cell_type": "code",
      "execution_count": 21,
      "metadata": {
        "execution": {
          "iopub.execute_input": "2022-04-05T11:14:26.675786Z",
          "iopub.status.busy": "2022-04-05T11:14:26.675392Z",
          "iopub.status.idle": "2022-04-05T11:14:41.004483Z",
          "shell.execute_reply": "2022-04-05T11:14:41.003831Z"
        },
        "id": "BaNbXi43YgUT",
        "colab": {
          "base_uri": "https://localhost:8080/"
        },
        "outputId": "322e2ac3-d33f-4768-b08e-8942aa68424f"
      },
      "outputs": [
        {
          "output_type": "stream",
          "name": "stdout",
          "text": [
            "391/391 [==============================] - 19s 49ms/step - loss: 0.3141 - accuracy: 0.8618\n",
            "Test Loss: 0.31409668922424316\n",
            "Test Accuracy: 0.8617600202560425\n"
          ]
        }
      ],
      "source": [
        "# If we execute this evaluation withouth training the model, is going to execute the default model\n",
        "# The default model has no training so the accuracy is going to be low.\n",
        "\n",
        "test_loss, test_acc = model.evaluate(test_dataset)\n",
        "\n",
        "print('Test Loss:', test_loss)\n",
        "print('Test Accuracy:', test_acc)"
      ]
    },
    {
      "cell_type": "code",
      "source": [
        "#We can use this command to upload our trained model, or just click on the upload icon on the left upper corner.\n",
        "\n",
        "#files.upload()"
      ],
      "metadata": {
        "id": "W1Fh83xGNi1V"
      },
      "execution_count": 22,
      "outputs": []
    },
    {
      "cell_type": "code",
      "source": [
        "#!unzip training_rnn.zip"
      ],
      "metadata": {
        "id": "NMMabeDYO893"
      },
      "execution_count": 23,
      "outputs": []
    },
    {
      "cell_type": "code",
      "source": [
        "# Loads the weights\n",
        "model.load_weights(checkpoint_path)"
      ],
      "metadata": {
        "colab": {
          "base_uri": "https://localhost:8080/"
        },
        "id": "CP-iY9fuKzrM",
        "outputId": "822357c4-1c93-4bce-bb23-85c13a7094f2"
      },
      "execution_count": 24,
      "outputs": [
        {
          "output_type": "execute_result",
          "data": {
            "text/plain": [
              "<tensorflow.python.training.tracking.util.CheckpointLoadStatus at 0x7f3b3c529fd0>"
            ]
          },
          "metadata": {},
          "execution_count": 24
        }
      ]
    },
    {
      "cell_type": "code",
      "source": [
        "test_loss, test_acc = model.evaluate(test_dataset)\n",
        "\n",
        "print('Test Loss:', test_loss)\n",
        "print('Test Accuracy:', test_acc)"
      ],
      "metadata": {
        "colab": {
          "base_uri": "https://localhost:8080/"
        },
        "id": "PbefiC8hK2_o",
        "outputId": "0e6b2e48-e9df-4866-d5e2-88459dcf293b"
      },
      "execution_count": 25,
      "outputs": [
        {
          "output_type": "stream",
          "name": "stdout",
          "text": [
            "391/391 [==============================] - 20s 50ms/step - loss: 0.3141 - accuracy: 0.8618\n",
            "Test Loss: 0.31409668922424316\n",
            "Test Accuracy: 0.8617600202560425\n"
          ]
        }
      ]
    },
    {
      "cell_type": "code",
      "source": [],
      "metadata": {
        "id": "M9xDw7rARtlv"
      },
      "execution_count": 25,
      "outputs": []
    },
    {
      "cell_type": "code",
      "execution_count": 26,
      "metadata": {
        "execution": {
          "iopub.execute_input": "2022-04-05T11:14:41.007809Z",
          "iopub.status.busy": "2022-04-05T11:14:41.007366Z",
          "iopub.status.idle": "2022-04-05T11:14:41.306819Z",
          "shell.execute_reply": "2022-04-05T11:14:41.306126Z"
        },
        "id": "OZmwt_mzaQJk",
        "colab": {
          "base_uri": "https://localhost:8080/",
          "height": 518
        },
        "outputId": "c5f9634f-cff4-4c76-e5ce-7eb7fee75077"
      },
      "outputs": [
        {
          "output_type": "execute_result",
          "data": {
            "text/plain": [
              "(0.0, 0.6646199494600296)"
            ]
          },
          "metadata": {},
          "execution_count": 26
        },
        {
          "output_type": "display_data",
          "data": {
            "text/plain": [
              "<Figure size 1152x576 with 2 Axes>"
            ],
            "image/png": "[encoded data removed]"
          },
          "metadata": {
            "needs_background": "light"
          }
        }
      ],
      "source": [
        "# These plots only works with the trained model during execution, as shows the evolution of the accuracy and loss in the differents epochs during training\n",
        "plt.figure(figsize=(16, 8))\n",
        "plt.subplot(1, 2, 1)\n",
        "plot_graphs(history, 'accuracy')\n",
        "plt.ylim(None, 1)\n",
        "plt.subplot(1, 2, 2)\n",
        "plot_graphs(history, 'loss')\n",
        "plt.ylim(0, None)"
      ]
    },
    {
      "cell_type": "markdown",
      "metadata": {
        "id": "DwSE_386uhxD"
      },
      "source": [
        "Run a prediction on a new sentence:\n",
        "\n",
        "If the prediction is >= 0.0, it is positive else it is negative."
      ]
    },
    {
      "cell_type": "code",
      "execution_count": 32,
      "metadata": {
        "execution": {
          "iopub.execute_input": "2022-04-05T11:14:41.310342Z",
          "iopub.status.busy": "2022-04-05T11:14:41.309922Z",
          "iopub.status.idle": "2022-04-05T11:14:43.743957Z",
          "shell.execute_reply": "2022-04-05T11:14:43.743292Z"
        },
        "id": "ZXgfQSgRW6zU",
        "colab": {
          "base_uri": "https://localhost:8080/"
        },
        "outputId": "636c7260-7859-4b97-8cd0-bc2ebc81e8a8"
      },
      "outputs": [
        {
          "output_type": "stream",
          "name": "stdout",
          "text": [
            "1/1 [==============================] - 0s 19ms/step\n",
            "[[-1.8472258]]\n"
          ]
        }
      ],
      "source": [
        "sample_text = ('The movie was the worst. The animation and the graphics '\n",
        "               'were out of this world. I would not recommend this movie.')\n",
        "predictions = model.predict(np.array([sample_text]))\n",
        "print(predictions)"
      ]
    },
    {
      "cell_type": "code",
      "source": [
        "sample_text = ('The movie was the best. The animation and the graphics '\n",
        "               'were out of this world. I would highly recommend this movie.')\n",
        "predictions = model.predict(np.array([sample_text]))\n",
        "print(predictions)"
      ],
      "metadata": {
        "colab": {
          "base_uri": "https://localhost:8080/"
        },
        "id": "h8Iu6RqxVKi-",
        "outputId": "48e54f93-5e45-42e1-fb1e-b22c2276fecc"
      },
      "execution_count": 33,
      "outputs": [
        {
          "output_type": "stream",
          "name": "stdout",
          "text": [
            "1/1 [==============================] - 0s 20ms/step\n",
            "[[2.396447]]\n"
          ]
        }
      ]
    }
  ],
  "metadata": {
    "accelerator": "GPU",
    "colab": {
      "provenance": [],
      "include_colab_link": true
    },
    "kernelspec": {
      "display_name": "Python 3",
      "language": "python",
      "name": "python3"
    },
    "language_info": {
      "codemirror_mode": {
        "name": "ipython",
        "version": 3
      },
      "file_extension": ".py",
      "mimetype": "text/x-python",
      "name": "python",
      "nbconvert_exporter": "python",
      "pygments_lexer": "ipython3",
      "version": "3.6.5"
    }
  },
  "nbformat": 4,
  "nbformat_minor": 0
}
