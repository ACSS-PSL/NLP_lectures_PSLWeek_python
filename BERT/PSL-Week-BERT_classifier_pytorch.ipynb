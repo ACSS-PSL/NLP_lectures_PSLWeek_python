{
 "cells": [
  {
   "cell_type": "markdown",
   "metadata": {
    "id": "OFOTiqrtNvyy"
   },
   "source": [
    "# 1.Libraries"
   ]
  },
  {
   "cell_type": "code",
   "execution_count": null,
   "metadata": {
    "id": "cr2hux50N7mF"
   },
   "outputs": [],
   "source": [
    "#!pip install torch==1.9.0 torchvision==0.10.0 torchaudio==0.9.0 torchtext==0.10.0\n",
    "#!pip uninstall transformers\n",
    "#!pip install transformers==4.8.0"
   ]
  },
  {
   "cell_type": "code",
   "execution_count": null,
   "metadata": {
    "colab": {
     "base_uri": "https://localhost:8080/"
    },
    "executionInfo": {
     "elapsed": 20799,
     "status": "ok",
     "timestamp": 1647883890381,
     "user": {
      "displayName": "Jose Carlos Romero Moreno",
      "photoUrl": "https://lh3.googleusercontent.com/a-/AOh14GjzF8xkOOGIRSxLmltpndj0IEhQZ_eRXV20jAtklg=s64",
      "userId": "18382225234885919746"
     },
     "user_tz": -120
    },
    "id": "1hkhc10wNrGt",
    "outputId": "851a5a92-3241-4598-86ef-d535dbc5d6f4"
   },
   "outputs": [
    {
     "name": "stdout",
     "output_type": "stream",
     "text": [
      "Collecting transformers\n",
      "  Downloading transformers-4.17.0-py3-none-any.whl (3.8 MB)\n",
      "\u001b[K     |████████████████████████████████| 3.8 MB 6.8 MB/s \n",
      "\u001b[?25hCollecting pyyaml>=5.1\n",
      "  Downloading PyYAML-6.0-cp37-cp37m-manylinux_2_5_x86_64.manylinux1_x86_64.manylinux_2_12_x86_64.manylinux2010_x86_64.whl (596 kB)\n",
      "\u001b[K     |████████████████████████████████| 596 kB 12.9 MB/s \n",
      "\u001b[?25hRequirement already satisfied: requests in /usr/local/lib/python3.7/dist-packages (from transformers) (2.23.0)\n",
      "Requirement already satisfied: packaging>=20.0 in /usr/local/lib/python3.7/dist-packages (from transformers) (21.3)\n",
      "Requirement already satisfied: tqdm>=4.27 in /usr/local/lib/python3.7/dist-packages (from transformers) (4.63.0)\n",
      "Requirement already satisfied: numpy>=1.17 in /usr/local/lib/python3.7/dist-packages (from transformers) (1.21.5)\n",
      "Collecting tokenizers!=0.11.3,>=0.11.1\n",
      "  Downloading tokenizers-0.11.6-cp37-cp37m-manylinux_2_12_x86_64.manylinux2010_x86_64.whl (6.5 MB)\n",
      "\u001b[K     |████████████████████████████████| 6.5 MB 30.4 MB/s \n",
      "\u001b[?25hRequirement already satisfied: importlib-metadata in /usr/local/lib/python3.7/dist-packages (from transformers) (4.11.2)\n",
      "Collecting huggingface-hub<1.0,>=0.1.0\n",
      "  Downloading huggingface_hub-0.4.0-py3-none-any.whl (67 kB)\n",
      "\u001b[K     |████████████████████████████████| 67 kB 4.7 MB/s \n",
      "\u001b[?25hRequirement already satisfied: regex!=2019.12.17 in /usr/local/lib/python3.7/dist-packages (from transformers) (2019.12.20)\n",
      "Collecting sacremoses\n",
      "  Downloading sacremoses-0.0.49-py3-none-any.whl (895 kB)\n",
      "\u001b[K     |████████████████████████████████| 895 kB 31.1 MB/s \n",
      "\u001b[?25hRequirement already satisfied: filelock in /usr/local/lib/python3.7/dist-packages (from transformers) (3.6.0)\n",
      "Requirement already satisfied: typing-extensions>=3.7.4.3 in /usr/local/lib/python3.7/dist-packages (from huggingface-hub<1.0,>=0.1.0->transformers) (3.10.0.2)\n",
      "Requirement already satisfied: pyparsing!=3.0.5,>=2.0.2 in /usr/local/lib/python3.7/dist-packages (from packaging>=20.0->transformers) (3.0.7)\n",
      "Requirement already satisfied: zipp>=0.5 in /usr/local/lib/python3.7/dist-packages (from importlib-metadata->transformers) (3.7.0)\n",
      "Requirement already satisfied: urllib3!=1.25.0,!=1.25.1,<1.26,>=1.21.1 in /usr/local/lib/python3.7/dist-packages (from requests->transformers) (1.24.3)\n",
      "Requirement already satisfied: idna<3,>=2.5 in /usr/local/lib/python3.7/dist-packages (from requests->transformers) (2.10)\n",
      "Requirement already satisfied: certifi>=2017.4.17 in /usr/local/lib/python3.7/dist-packages (from requests->transformers) (2021.10.8)\n",
      "Requirement already satisfied: chardet<4,>=3.0.2 in /usr/local/lib/python3.7/dist-packages (from requests->transformers) (3.0.4)\n",
      "Requirement already satisfied: joblib in /usr/local/lib/python3.7/dist-packages (from sacremoses->transformers) (1.1.0)\n",
      "Requirement already satisfied: six in /usr/local/lib/python3.7/dist-packages (from sacremoses->transformers) (1.15.0)\n",
      "Requirement already satisfied: click in /usr/local/lib/python3.7/dist-packages (from sacremoses->transformers) (7.1.2)\n",
      "Installing collected packages: pyyaml, tokenizers, sacremoses, huggingface-hub, transformers\n",
      "  Attempting uninstall: pyyaml\n",
      "    Found existing installation: PyYAML 3.13\n",
      "    Uninstalling PyYAML-3.13:\n",
      "      Successfully uninstalled PyYAML-3.13\n",
      "Successfully installed huggingface-hub-0.4.0 pyyaml-6.0 sacremoses-0.0.49 tokenizers-0.11.6 transformers-4.17.0\n"
     ]
    }
   ],
   "source": [
    "!pip install transformers"
   ]
  },
  {
   "cell_type": "code",
   "execution_count": null,
   "metadata": {
    "id": "x4giRzM7NtHJ"
   },
   "outputs": [],
   "source": [
    "import numpy as np\n",
    "import pandas as pd\n",
    "import torch\n",
    "import torch.nn as nn\n",
    "from sklearn.model_selection import train_test_split\n",
    "from sklearn.metrics import classification_report\n",
    "import transformers\n",
    "from transformers import AutoModel, BertTokenizerFast\n",
    "from google.colab import files\n",
    "\n",
    "# specify GPU\n",
    "device = torch.device(\"cuda\")"
   ]
  },
  {
   "cell_type": "markdown",
   "metadata": {
    "id": "kKd-Tj3hOMsZ"
   },
   "source": [
    "# 2.Load Dataset"
   ]
  },
  {
   "cell_type": "code",
   "execution_count": null,
   "metadata": {
    "colab": {
     "base_uri": "https://localhost:8080/"
    },
    "executionInfo": {
     "elapsed": 25098,
     "status": "ok",
     "timestamp": 1647883923247,
     "user": {
      "displayName": "Jose Carlos Romero Moreno",
      "photoUrl": "https://lh3.googleusercontent.com/a-/AOh14GjzF8xkOOGIRSxLmltpndj0IEhQZ_eRXV20jAtklg=s64",
      "userId": "18382225234885919746"
     },
     "user_tz": -120
    },
    "id": "-EMLRdVlmdy2",
    "outputId": "2692ad6d-c22d-4c9c-e822-649f90ea99be"
   },
   "outputs": [
    {
     "name": "stdout",
     "output_type": "stream",
     "text": [
      "Mounted at /content/drive\n"
     ]
    }
   ],
   "source": [
    "#Por si se desean cargar los archivos desde google drive\n",
    "\n",
    "from google.colab import drive\n",
    " \n",
    "drive.mount('/content/drive')\n"
   ]
  },
  {
   "cell_type": "code",
   "execution_count": null,
   "metadata": {
    "id": "OzC7974uy357"
   },
   "outputs": [],
   "source": [
    "#files.upload()"
   ]
  },
  {
   "cell_type": "markdown",
   "metadata": {
    "id": "d89_GY7zyjln"
   },
   "source": [
    "## 2.1 Dataset fake."
   ]
  },
  {
   "cell_type": "markdown",
   "metadata": {},
   "source": [
    "### The name of *fake* is updated in this notebook for *deceptive* to be a bit more formal."
   ]
  },
  {
   "cell_type": "code",
   "execution_count": null,
   "metadata": {
    "id": "A711QxK069Pu"
   },
   "outputs": [],
   "source": [
    "df=pd.read_csv('CellPhonesAccessoriesdeceptivetruthful_dataset.txt')"
   ]
  },
  {
   "cell_type": "code",
   "execution_count": null,
   "metadata": {
    "colab": {
     "base_uri": "https://localhost:8080/",
     "height": 419
    },
    "executionInfo": {
     "elapsed": 69,
     "status": "ok",
     "timestamp": 1647883927687,
     "user": {
      "displayName": "Jose Carlos Romero Moreno",
      "photoUrl": "https://lh3.googleusercontent.com/a-/AOh14GjzF8xkOOGIRSxLmltpndj0IEhQZ_eRXV20jAtklg=s64",
      "userId": "18382225234885919746"
     },
     "user_tz": -120
    },
    "id": "KqE5n0TA6_Jw",
    "outputId": "da2787d1-f9d4-472d-a33a-9c0bdfa0c705",
    "scrolled": true
   },
   "outputs": [
    {
     "data": {
      "text/html": [
       "\n",
       "  <div id=\"df-b99ff030-a922-443e-a681-4787ed3ca8d2\">\n",
       "    <div class=\"colab-df-container\">\n",
       "      <div>\n",
       "<style scoped>\n",
       "    .dataframe tbody tr th:only-of-type {\n",
       "        vertical-align: middle;\n",
       "    }\n",
       "\n",
       "    .dataframe tbody tr th {\n",
       "        vertical-align: top;\n",
       "    }\n",
       "\n",
       "    .dataframe thead th {\n",
       "        text-align: right;\n",
       "    }\n",
       "</style>\n",
       "<table border=\"1\" class=\"dataframe\">\n",
       "  <thead>\n",
       "    <tr style=\"text-align: right;\">\n",
       "      <th></th>\n",
       "      <th>reviewText</th>\n",
       "      <th>deceptive</th>\n",
       "    </tr>\n",
       "  </thead>\n",
       "  <tbody>\n",
       "    <tr>\n",
       "      <th>0</th>\n",
       "      <td>I originally ordered screen protectors in Dece...</td>\n",
       "      <td>0</td>\n",
       "    </tr>\n",
       "    <tr>\n",
       "      <th>1</th>\n",
       "      <td>I used this item for little over a month and t...</td>\n",
       "      <td>0</td>\n",
       "    </tr>\n",
       "    <tr>\n",
       "      <th>2</th>\n",
       "      <td>I wanted something to protect my phone from bo...</td>\n",
       "      <td>0</td>\n",
       "    </tr>\n",
       "    <tr>\n",
       "      <th>3</th>\n",
       "      <td>I had a local stereo shop install this item.\\n...</td>\n",
       "      <td>0</td>\n",
       "    </tr>\n",
       "    <tr>\n",
       "      <th>4</th>\n",
       "      <td>I've went through a few cases from Case Crown,...</td>\n",
       "      <td>0</td>\n",
       "    </tr>\n",
       "    <tr>\n",
       "      <th>...</th>\n",
       "      <td>...</td>\n",
       "      <td>...</td>\n",
       "    </tr>\n",
       "    <tr>\n",
       "      <th>656</th>\n",
       "      <td>&lt;|start|&gt;,\"I have been using this phone for a ...</td>\n",
       "      <td>1</td>\n",
       "    </tr>\n",
       "    <tr>\n",
       "      <th>657</th>\n",
       "      <td>Camera If you have not used a smartphone the i...</td>\n",
       "      <td>1</td>\n",
       "    </tr>\n",
       "    <tr>\n",
       "      <th>658</th>\n",
       "      <td>,\"I have owned these for less than a week and ...</td>\n",
       "      <td>1</td>\n",
       "    </tr>\n",
       "    <tr>\n",
       "      <th>659</th>\n",
       "      <td>I like that the charger will charge all the de...</td>\n",
       "      <td>1</td>\n",
       "    </tr>\n",
       "    <tr>\n",
       "      <th>660</th>\n",
       "      <td>&lt;|start|&gt;,\"I have to admit I was a little conc...</td>\n",
       "      <td>1</td>\n",
       "    </tr>\n",
       "  </tbody>\n",
       "</table>\n",
       "<p>661 rows × 2 columns</p>\n",
       "</div>\n",
       "      <button class=\"colab-df-convert\" onclick=\"convertToInteractive('df-b99ff030-a922-443e-a681-4787ed3ca8d2')\"\n",
       "              title=\"Convert this dataframe to an interactive table.\"\n",
       "              style=\"display:none;\">\n",
       "        \n",
       "  <svg xmlns=\"http://www.w3.org/2000/svg\" height=\"24px\"viewBox=\"0 0 24 24\"\n",
       "       width=\"24px\">\n",
       "    <path d=\"M0 0h24v24H0V0z\" fill=\"none\"/>\n",
       "    <path d=\"M18.56 5.44l.94 2.06.94-2.06 2.06-.94-2.06-.94-.94-2.06-.94 2.06-2.06.94zm-11 1L8.5 8.5l.94-2.06 2.06-.94-2.06-.94L8.5 2.5l-.94 2.06-2.06.94zm10 10l.94 2.06.94-2.06 2.06-.94-2.06-.94-.94-2.06-.94 2.06-2.06.94z\"/><path d=\"M17.41 7.96l-1.37-1.37c-.4-.4-.92-.59-1.43-.59-.52 0-1.04.2-1.43.59L10.3 9.45l-7.72 7.72c-.78.78-.78 2.05 0 2.83L4 21.41c.39.39.9.59 1.41.59.51 0 1.02-.2 1.41-.59l7.78-7.78 2.81-2.81c.8-.78.8-2.07 0-2.86zM5.41 20L4 18.59l7.72-7.72 1.47 1.35L5.41 20z\"/>\n",
       "  </svg>\n",
       "      </button>\n",
       "      \n",
       "  <style>\n",
       "    .colab-df-container {\n",
       "      display:flex;\n",
       "      flex-wrap:wrap;\n",
       "      gap: 12px;\n",
       "    }\n",
       "\n",
       "    .colab-df-convert {\n",
       "      background-color: #E8F0FE;\n",
       "      border: none;\n",
       "      border-radius: 50%;\n",
       "      cursor: pointer;\n",
       "      display: none;\n",
       "      fill: #1967D2;\n",
       "      height: 32px;\n",
       "      padding: 0 0 0 0;\n",
       "      width: 32px;\n",
       "    }\n",
       "\n",
       "    .colab-df-convert:hover {\n",
       "      background-color: #E2EBFA;\n",
       "      box-shadow: 0px 1px 2px rgba(60, 64, 67, 0.3), 0px 1px 3px 1px rgba(60, 64, 67, 0.15);\n",
       "      fill: #174EA6;\n",
       "    }\n",
       "\n",
       "    [theme=dark] .colab-df-convert {\n",
       "      background-color: #3B4455;\n",
       "      fill: #D2E3FC;\n",
       "    }\n",
       "\n",
       "    [theme=dark] .colab-df-convert:hover {\n",
       "      background-color: #434B5C;\n",
       "      box-shadow: 0px 1px 3px 1px rgba(0, 0, 0, 0.15);\n",
       "      filter: drop-shadow(0px 1px 2px rgba(0, 0, 0, 0.3));\n",
       "      fill: #FFFFFF;\n",
       "    }\n",
       "  </style>\n",
       "\n",
       "      <script>\n",
       "        const buttonEl =\n",
       "          document.querySelector('#df-b99ff030-a922-443e-a681-4787ed3ca8d2 button.colab-df-convert');\n",
       "        buttonEl.style.display =\n",
       "          google.colab.kernel.accessAllowed ? 'block' : 'none';\n",
       "\n",
       "        async function convertToInteractive(key) {\n",
       "          const element = document.querySelector('#df-b99ff030-a922-443e-a681-4787ed3ca8d2');\n",
       "          const dataTable =\n",
       "            await google.colab.kernel.invokeFunction('convertToInteractive',\n",
       "                                                     [key], {});\n",
       "          if (!dataTable) return;\n",
       "\n",
       "          const docLinkHtml = 'Like what you see? Visit the ' +\n",
       "            '<a target=\"_blank\" href=https://colab.research.google.com/notebooks/data_table.ipynb>data table notebook</a>'\n",
       "            + ' to learn more about interactive tables.';\n",
       "          element.innerHTML = '';\n",
       "          dataTable['output_type'] = 'display_data';\n",
       "          await google.colab.output.renderOutput(dataTable, element);\n",
       "          const docLink = document.createElement('div');\n",
       "          docLink.innerHTML = docLinkHtml;\n",
       "          element.appendChild(docLink);\n",
       "        }\n",
       "      </script>\n",
       "    </div>\n",
       "  </div>\n",
       "  "
      ],
      "text/plain": [
       "                                            reviewText  deceptive\n",
       "0    I originally ordered screen protectors in Dece...          0\n",
       "1    I used this item for little over a month and t...          0\n",
       "2    I wanted something to protect my phone from bo...          0\n",
       "3    I had a local stereo shop install this item.\\n...          0\n",
       "4    I've went through a few cases from Case Crown,...          0\n",
       "..                                                 ...        ...\n",
       "656  <|start|>,\"I have been using this phone for a ...          1\n",
       "657  Camera If you have not used a smartphone the i...          1\n",
       "658  ,\"I have owned these for less than a week and ...          1\n",
       "659  I like that the charger will charge all the de...          1\n",
       "660  <|start|>,\"I have to admit I was a little conc...          1\n",
       "\n",
       "[661 rows x 2 columns]"
      ]
     },
     "execution_count": 12,
     "metadata": {},
     "output_type": "execute_result"
    }
   ],
   "source": [
    "df"
   ]
  },
  {
   "cell_type": "markdown",
   "metadata": {},
   "source": [
    "Here we divide the dataset in *Train,Validation and Test data*"
   ]
  },
  {
   "cell_type": "code",
   "execution_count": null,
   "metadata": {
    "colab": {
     "base_uri": "https://localhost:8080/"
    },
    "executionInfo": {
     "elapsed": 64,
     "status": "ok",
     "timestamp": 1647883927688,
     "user": {
      "displayName": "Jose Carlos Romero Moreno",
      "photoUrl": "https://lh3.googleusercontent.com/a-/AOh14GjzF8xkOOGIRSxLmltpndj0IEhQZ_eRXV20jAtklg=s64",
      "userId": "18382225234885919746"
     },
     "user_tz": -120
    },
    "id": "9W2g1SSVyumL",
    "outputId": "11f3f069-89eb-46fd-8cfb-b53254c102b8"
   },
   "outputs": [
    {
     "data": {
      "text/plain": [
       "0    0.76\n",
       "1    0.24\n",
       "Name: deceptive, dtype: float64"
      ]
     },
     "execution_count": 13,
     "metadata": {},
     "output_type": "execute_result"
    }
   ],
   "source": [
    "df=pd.read_csv(url)\n",
    "\n",
    "df = df.sample(frac=1).reset_index(drop=True) #To suffle the data\n",
    "\n",
    "train_text, temp_text,train_labels, temp_labels = train_test_split(df['reviewText'],df['deceptive'], random_state=42, train_size=0.7, stratify=df.deceptive)\n",
    "val_text, test_text, val_labels, test_labels = train_test_split(temp_text, temp_labels, random_state=42, train_size=0.5, stratify= temp_labels)  \n",
    "test_labels.value_counts(normalize=True)"
   ]
  },
  {
   "cell_type": "code",
   "execution_count": null,
   "metadata": {
    "colab": {
     "base_uri": "https://localhost:8080/"
    },
    "executionInfo": {
     "elapsed": 52,
     "status": "ok",
     "timestamp": 1647883927689,
     "user": {
      "displayName": "Jose Carlos Romero Moreno",
      "photoUrl": "https://lh3.googleusercontent.com/a-/AOh14GjzF8xkOOGIRSxLmltpndj0IEhQZ_eRXV20jAtklg=s64",
      "userId": "18382225234885919746"
     },
     "user_tz": -120
    },
    "id": "w8Mm8PE57vgz",
    "outputId": "5e5aa409-4d52-415c-cc70-0418d94ee2ed",
    "scrolled": true
   },
   "outputs": [
    {
     "data": {
      "text/plain": [
       "0      This is a great product.  I almost crashed on ...\n",
       "1      So far the best case I've used on any phone.\\n...\n",
       "2      <div id=\"video-block-R2N0B5T3BLYT6Z\" class=\"a-...\n",
       "3      Please do the math and see how long it will ta...\n",
       "4      When charging the battery up to 100%\\n But whe...\n",
       "                             ...                        \n",
       "656    <|start|>,\"First of all, I would like to point...\n",
       "657    <|start|>,\"I just received this today and trie...\n",
       "658    I adore this little company and hope that they...\n",
       "659    This device seems to be working fairly well - ...\n",
       "660                                 Other nice features:\n",
       "Name: reviewText, Length: 661, dtype: object"
      ]
     },
     "execution_count": 14,
     "metadata": {},
     "output_type": "execute_result"
    }
   ],
   "source": [
    "df['reviewText']"
   ]
  },
  {
   "cell_type": "markdown",
   "metadata": {},
   "source": [
    "Now we can see that the order of the rows have changed"
   ]
  },
  {
   "cell_type": "code",
   "execution_count": null,
   "metadata": {
    "colab": {
     "base_uri": "https://localhost:8080/",
     "height": 419
    },
    "executionInfo": {
     "elapsed": 17,
     "status": "ok",
     "timestamp": 1647883928235,
     "user": {
      "displayName": "Jose Carlos Romero Moreno",
      "photoUrl": "https://lh3.googleusercontent.com/a-/AOh14GjzF8xkOOGIRSxLmltpndj0IEhQZ_eRXV20jAtklg=s64",
      "userId": "18382225234885919746"
     },
     "user_tz": -120
    },
    "id": "ihlN-jCiyy69",
    "outputId": "bf1fd950-5627-45b0-f087-402a9ef6a8c1"
   },
   "outputs": [
    {
     "data": {
      "text/html": [
       "\n",
       "  <div id=\"df-cbfcaaeb-cffc-4e53-a392-7bf08952636f\">\n",
       "    <div class=\"colab-df-container\">\n",
       "      <div>\n",
       "<style scoped>\n",
       "    .dataframe tbody tr th:only-of-type {\n",
       "        vertical-align: middle;\n",
       "    }\n",
       "\n",
       "    .dataframe tbody tr th {\n",
       "        vertical-align: top;\n",
       "    }\n",
       "\n",
       "    .dataframe thead th {\n",
       "        text-align: right;\n",
       "    }\n",
       "</style>\n",
       "<table border=\"1\" class=\"dataframe\">\n",
       "  <thead>\n",
       "    <tr style=\"text-align: right;\">\n",
       "      <th></th>\n",
       "      <th>reviewText</th>\n",
       "      <th>deceptive</th>\n",
       "    </tr>\n",
       "  </thead>\n",
       "  <tbody>\n",
       "    <tr>\n",
       "      <th>0</th>\n",
       "      <td>This is a great product.  I almost crashed on ...</td>\n",
       "      <td>0</td>\n",
       "    </tr>\n",
       "    <tr>\n",
       "      <th>1</th>\n",
       "      <td>So far the best case I've used on any phone.\\n...</td>\n",
       "      <td>0</td>\n",
       "    </tr>\n",
       "    <tr>\n",
       "      <th>2</th>\n",
       "      <td>&lt;div id=\"video-block-R2N0B5T3BLYT6Z\" class=\"a-...</td>\n",
       "      <td>0</td>\n",
       "    </tr>\n",
       "    <tr>\n",
       "      <th>3</th>\n",
       "      <td>Please do the math and see how long it will ta...</td>\n",
       "      <td>1</td>\n",
       "    </tr>\n",
       "    <tr>\n",
       "      <th>4</th>\n",
       "      <td>When charging the battery up to 100%\\n But whe...</td>\n",
       "      <td>0</td>\n",
       "    </tr>\n",
       "    <tr>\n",
       "      <th>...</th>\n",
       "      <td>...</td>\n",
       "      <td>...</td>\n",
       "    </tr>\n",
       "    <tr>\n",
       "      <th>656</th>\n",
       "      <td>&lt;|start|&gt;,\"First of all, I would like to point...</td>\n",
       "      <td>1</td>\n",
       "    </tr>\n",
       "    <tr>\n",
       "      <th>657</th>\n",
       "      <td>&lt;|start|&gt;,\"I just received this today and trie...</td>\n",
       "      <td>1</td>\n",
       "    </tr>\n",
       "    <tr>\n",
       "      <th>658</th>\n",
       "      <td>I adore this little company and hope that they...</td>\n",
       "      <td>1</td>\n",
       "    </tr>\n",
       "    <tr>\n",
       "      <th>659</th>\n",
       "      <td>This device seems to be working fairly well - ...</td>\n",
       "      <td>0</td>\n",
       "    </tr>\n",
       "    <tr>\n",
       "      <th>660</th>\n",
       "      <td>Other nice features:</td>\n",
       "      <td>1</td>\n",
       "    </tr>\n",
       "  </tbody>\n",
       "</table>\n",
       "<p>661 rows × 2 columns</p>\n",
       "</div>\n",
       "      <button class=\"colab-df-convert\" onclick=\"convertToInteractive('df-cbfcaaeb-cffc-4e53-a392-7bf08952636f')\"\n",
       "              title=\"Convert this dataframe to an interactive table.\"\n",
       "              style=\"display:none;\">\n",
       "        \n",
       "  <svg xmlns=\"http://www.w3.org/2000/svg\" height=\"24px\"viewBox=\"0 0 24 24\"\n",
       "       width=\"24px\">\n",
       "    <path d=\"M0 0h24v24H0V0z\" fill=\"none\"/>\n",
       "    <path d=\"M18.56 5.44l.94 2.06.94-2.06 2.06-.94-2.06-.94-.94-2.06-.94 2.06-2.06.94zm-11 1L8.5 8.5l.94-2.06 2.06-.94-2.06-.94L8.5 2.5l-.94 2.06-2.06.94zm10 10l.94 2.06.94-2.06 2.06-.94-2.06-.94-.94-2.06-.94 2.06-2.06.94z\"/><path d=\"M17.41 7.96l-1.37-1.37c-.4-.4-.92-.59-1.43-.59-.52 0-1.04.2-1.43.59L10.3 9.45l-7.72 7.72c-.78.78-.78 2.05 0 2.83L4 21.41c.39.39.9.59 1.41.59.51 0 1.02-.2 1.41-.59l7.78-7.78 2.81-2.81c.8-.78.8-2.07 0-2.86zM5.41 20L4 18.59l7.72-7.72 1.47 1.35L5.41 20z\"/>\n",
       "  </svg>\n",
       "      </button>\n",
       "      \n",
       "  <style>\n",
       "    .colab-df-container {\n",
       "      display:flex;\n",
       "      flex-wrap:wrap;\n",
       "      gap: 12px;\n",
       "    }\n",
       "\n",
       "    .colab-df-convert {\n",
       "      background-color: #E8F0FE;\n",
       "      border: none;\n",
       "      border-radius: 50%;\n",
       "      cursor: pointer;\n",
       "      display: none;\n",
       "      fill: #1967D2;\n",
       "      height: 32px;\n",
       "      padding: 0 0 0 0;\n",
       "      width: 32px;\n",
       "    }\n",
       "\n",
       "    .colab-df-convert:hover {\n",
       "      background-color: #E2EBFA;\n",
       "      box-shadow: 0px 1px 2px rgba(60, 64, 67, 0.3), 0px 1px 3px 1px rgba(60, 64, 67, 0.15);\n",
       "      fill: #174EA6;\n",
       "    }\n",
       "\n",
       "    [theme=dark] .colab-df-convert {\n",
       "      background-color: #3B4455;\n",
       "      fill: #D2E3FC;\n",
       "    }\n",
       "\n",
       "    [theme=dark] .colab-df-convert:hover {\n",
       "      background-color: #434B5C;\n",
       "      box-shadow: 0px 1px 3px 1px rgba(0, 0, 0, 0.15);\n",
       "      filter: drop-shadow(0px 1px 2px rgba(0, 0, 0, 0.3));\n",
       "      fill: #FFFFFF;\n",
       "    }\n",
       "  </style>\n",
       "\n",
       "      <script>\n",
       "        const buttonEl =\n",
       "          document.querySelector('#df-cbfcaaeb-cffc-4e53-a392-7bf08952636f button.colab-df-convert');\n",
       "        buttonEl.style.display =\n",
       "          google.colab.kernel.accessAllowed ? 'block' : 'none';\n",
       "\n",
       "        async function convertToInteractive(key) {\n",
       "          const element = document.querySelector('#df-cbfcaaeb-cffc-4e53-a392-7bf08952636f');\n",
       "          const dataTable =\n",
       "            await google.colab.kernel.invokeFunction('convertToInteractive',\n",
       "                                                     [key], {});\n",
       "          if (!dataTable) return;\n",
       "\n",
       "          const docLinkHtml = 'Like what you see? Visit the ' +\n",
       "            '<a target=\"_blank\" href=https://colab.research.google.com/notebooks/data_table.ipynb>data table notebook</a>'\n",
       "            + ' to learn more about interactive tables.';\n",
       "          element.innerHTML = '';\n",
       "          dataTable['output_type'] = 'display_data';\n",
       "          await google.colab.output.renderOutput(dataTable, element);\n",
       "          const docLink = document.createElement('div');\n",
       "          docLink.innerHTML = docLinkHtml;\n",
       "          element.appendChild(docLink);\n",
       "        }\n",
       "      </script>\n",
       "    </div>\n",
       "  </div>\n",
       "  "
      ],
      "text/plain": [
       "                                            reviewText  deceptive\n",
       "0    This is a great product.  I almost crashed on ...          0\n",
       "1    So far the best case I've used on any phone.\\n...          0\n",
       "2    <div id=\"video-block-R2N0B5T3BLYT6Z\" class=\"a-...          0\n",
       "3    Please do the math and see how long it will ta...          1\n",
       "4    When charging the battery up to 100%\\n But whe...          0\n",
       "..                                                 ...        ...\n",
       "656  <|start|>,\"First of all, I would like to point...          1\n",
       "657  <|start|>,\"I just received this today and trie...          1\n",
       "658  I adore this little company and hope that they...          1\n",
       "659  This device seems to be working fairly well - ...          0\n",
       "660                               Other nice features:          1\n",
       "\n",
       "[661 rows x 2 columns]"
      ]
     },
     "execution_count": 19,
     "metadata": {},
     "output_type": "execute_result"
    }
   ],
   "source": [
    "df"
   ]
  },
  {
   "cell_type": "markdown",
   "metadata": {
    "id": "n7hsdLoCO7uB"
   },
   "source": [
    "# 3.Import BERT Model and BERT Tokenizer"
   ]
  },
  {
   "cell_type": "code",
   "execution_count": null,
   "metadata": {
    "colab": {
     "base_uri": "https://localhost:8080/",
     "height": 248,
     "referenced_widgets": [
      "6e4e78f629d0442ba546a5c5165d6091",
      "effba2f36c4540848ec139cd50b91612",
      "51abd2d6bd594a3880dfc4563eaf310b",
      "90f04a7ddeac4f98a8192ecb5b5ec5bd",
      "c15c9b0c687749a0a7551c477d57475c",
      "cc218c48578a4993a74271bcfe4c9417",
      "c5c7ea26ba4b42369dbb731f76b9cfe6",
      "3053594127da42d7a3853e4bf11085a8",
      "ed1cda39c6fe4bb486a0979fb998f5f9",
      "764e527b3ff94bcabbc6e540e3882ad0",
      "d01a653d5d4e4d6b88c5567cf4f9f83b",
      "9f6d4fcf17f74091997c1da0ec584564",
      "9f4cc98028de4daebba964eabef9f698",
      "4d88a3622bcf4ed9961d56cd924aebea",
      "c166a935258d4254b84acb84aaf29587",
      "75a15f29c8ca42d0991fd2750ad33f19",
      "d7819000c5964e76843f64a9ba05b45c",
      "79007bfd2c2e4188932119913dacf67c",
      "6e022e47929c4a6ea6e3215327c104ef",
      "bf719c84b4d54a6cae733d049af7fd60",
      "868b7756916f43808790d6f957c3a268",
      "6e8554159ad2430e93506da45dd3855e",
      "6cf840f7e9f343c8b0dcbfe3c034270f",
      "69c1eb6a9da74b0f8b77bb9e26db7c91",
      "de4873b26ad14c41bf93bfab21badf5e",
      "13d6c23e598e4920a1d3ea87247667ca",
      "241a0457fe4e48ed9b2eb6a24c04a1f0",
      "846b4a8b0d7f4a3e87ccb85fee0a5fc9",
      "103fd3fd5ddb4cada382cf17a2661036",
      "e81a8de7e47d4e1589a637b238a1b9cb",
      "f53f84cb2c33483abad174aa7187e11f",
      "13a2741ad3fa4068b98d20bc0b59f6d4",
      "f61a618eb84340ee8b5b3d6dac4eadc0",
      "c3d507d5d52c4bf0b1223915189cd9ac",
      "04518b99e68040fcbfd9e3175ca1557e",
      "58cd02ddfcb742d193031aea7eb1a3b7",
      "29d3ca18cd604ff482a554e793c7634b",
      "d75bdbc91c3c4db89596b4370751e645",
      "615fd31082404b9e92c577c05db38974",
      "3b5dc790feab4d4c98475109d780bce6",
      "b475d0efaf034d3cbb67fef02e190b76",
      "1201686698e6424b8e2ee30853d8d296",
      "fc5da3d00fc44366ac13b55fedbde3b1",
      "0bf399dcb13a4054ae388874b693542d",
      "034cdef0a3bd4c1d9b0d40c008ef6f81",
      "460d64fb29c740abaa056b628f835f17",
      "595adf5fd18f4e209e1b3002f0956df5",
      "f66656c1bb794a5e824ddbb70fd9637f",
      "43b2301646264110a55bfc46f5425946",
      "d0c60ef9c5f04677bba3275095a3d6b1",
      "0026388285604e53b2718fddd23da21f",
      "592b077fbbcb4d48a608ed514cec84eb",
      "d5d9ef3522204920bd48fa5539d7ca7b",
      "34907786eb7445259728e35b9b1b2545",
      "a6deead89b3f413997ad25654b1179be"
     ]
    },
    "executionInfo": {
     "elapsed": 30069,
     "status": "ok",
     "timestamp": 1647883958293,
     "user": {
      "displayName": "Jose Carlos Romero Moreno",
      "photoUrl": "https://lh3.googleusercontent.com/a-/AOh14GjzF8xkOOGIRSxLmltpndj0IEhQZ_eRXV20jAtklg=s64",
      "userId": "18382225234885919746"
     },
     "user_tz": -120
    },
    "id": "S1kY3gZjO2RE",
    "outputId": "c02b2c12-4989-4b54-c62b-a01a6ab3ee33"
   },
   "outputs": [
    {
     "data": {
      "application/vnd.jupyter.widget-view+json": {
       "model_id": "6e4e78f629d0442ba546a5c5165d6091",
       "version_major": 2,
       "version_minor": 0
      },
      "text/plain": [
       "Downloading:   0%|          | 0.00/570 [00:00<?, ?B/s]"
      ]
     },
     "metadata": {},
     "output_type": "display_data"
    },
    {
     "data": {
      "application/vnd.jupyter.widget-view+json": {
       "model_id": "9f6d4fcf17f74091997c1da0ec584564",
       "version_major": 2,
       "version_minor": 0
      },
      "text/plain": [
       "Downloading:   0%|          | 0.00/420M [00:00<?, ?B/s]"
      ]
     },
     "metadata": {},
     "output_type": "display_data"
    },
    {
     "name": "stderr",
     "output_type": "stream",
     "text": [
      "Some weights of the model checkpoint at bert-base-uncased were not used when initializing BertModel: ['cls.predictions.transform.LayerNorm.weight', 'cls.seq_relationship.weight', 'cls.predictions.transform.LayerNorm.bias', 'cls.seq_relationship.bias', 'cls.predictions.decoder.weight', 'cls.predictions.bias', 'cls.predictions.transform.dense.weight', 'cls.predictions.transform.dense.bias']\n",
      "- This IS expected if you are initializing BertModel from the checkpoint of a model trained on another task or with another architecture (e.g. initializing a BertForSequenceClassification model from a BertForPreTraining model).\n",
      "- This IS NOT expected if you are initializing BertModel from the checkpoint of a model that you expect to be exactly identical (initializing a BertForSequenceClassification model from a BertForSequenceClassification model).\n"
     ]
    },
    {
     "data": {
      "application/vnd.jupyter.widget-view+json": {
       "model_id": "6cf840f7e9f343c8b0dcbfe3c034270f",
       "version_major": 2,
       "version_minor": 0
      },
      "text/plain": [
       "Downloading:   0%|          | 0.00/28.0 [00:00<?, ?B/s]"
      ]
     },
     "metadata": {},
     "output_type": "display_data"
    },
    {
     "data": {
      "application/vnd.jupyter.widget-view+json": {
       "model_id": "c3d507d5d52c4bf0b1223915189cd9ac",
       "version_major": 2,
       "version_minor": 0
      },
      "text/plain": [
       "Downloading:   0%|          | 0.00/226k [00:00<?, ?B/s]"
      ]
     },
     "metadata": {},
     "output_type": "display_data"
    },
    {
     "data": {
      "application/vnd.jupyter.widget-view+json": {
       "model_id": "034cdef0a3bd4c1d9b0d40c008ef6f81",
       "version_major": 2,
       "version_minor": 0
      },
      "text/plain": [
       "Downloading:   0%|          | 0.00/455k [00:00<?, ?B/s]"
      ]
     },
     "metadata": {},
     "output_type": "display_data"
    }
   ],
   "source": [
    "# import BERT-base pretrained model\n",
    "bert = AutoModel.from_pretrained('bert-base-uncased')\n",
    "\n",
    "# Load the BERT tokenizer\n",
    "tokenizer = BertTokenizerFast.from_pretrained('bert-base-uncased')"
   ]
  },
  {
   "cell_type": "markdown",
   "metadata": {
    "id": "8wIYaWI_Prg8"
   },
   "source": [
    "# 4.Tokenization"
   ]
  },
  {
   "cell_type": "code",
   "execution_count": null,
   "metadata": {
    "colab": {
     "base_uri": "https://localhost:8080/",
     "height": 282
    },
    "executionInfo": {
     "elapsed": 527,
     "status": "ok",
     "timestamp": 1647883958801,
     "user": {
      "displayName": "Jose Carlos Romero Moreno",
      "photoUrl": "https://lh3.googleusercontent.com/a-/AOh14GjzF8xkOOGIRSxLmltpndj0IEhQZ_eRXV20jAtklg=s64",
      "userId": "18382225234885919746"
     },
     "user_tz": -120
    },
    "id": "yKwbpeN_PMiu",
    "outputId": "76280fe3-cfb7-4980-906f-b63ea06e124c"
   },
   "outputs": [
    {
     "data": {
      "text/plain": [
       "<matplotlib.axes._subplots.AxesSubplot at 0x7f54c503f9d0>"
      ]
     },
     "execution_count": 25,
     "metadata": {},
     "output_type": "execute_result"
    },
    {
     "data": {
      "image/png": "[encoded data removed]",
      "text/plain": [
       "<Figure size 432x288 with 1 Axes>"
      ]
     },
     "metadata": {
      "needs_background": "light"
     },
     "output_type": "display_data"
    }
   ],
   "source": [
    "# get length of all the messages in the train set\n",
    "seq_len = [len(i.split()) for i in train_text]\n",
    "\n",
    "pd.Series(seq_len).hist(bins = 30)"
   ]
  },
  {
   "cell_type": "code",
   "execution_count": null,
   "metadata": {
    "id": "OXcswEIRPvGe"
   },
   "outputs": [],
   "source": [
    "max_seq_len = 500"
   ]
  },
  {
   "cell_type": "code",
   "execution_count": null,
   "metadata": {
    "colab": {
     "base_uri": "https://localhost:8080/"
    },
    "executionInfo": {
     "elapsed": 35,
     "status": "ok",
     "timestamp": 1647883958802,
     "user": {
      "displayName": "Jose Carlos Romero Moreno",
      "photoUrl": "https://lh3.googleusercontent.com/a-/AOh14GjzF8xkOOGIRSxLmltpndj0IEhQZ_eRXV20jAtklg=s64",
      "userId": "18382225234885919746"
     },
     "user_tz": -120
    },
    "id": "tk5S7DWaP2t6",
    "outputId": "ad00f8be-9e2f-44d9-d30c-54cbe2b415b6"
   },
   "outputs": [
    {
     "name": "stderr",
     "output_type": "stream",
     "text": [
      "/usr/local/lib/python3.7/dist-packages/transformers/tokenization_utils_base.py:2277: FutureWarning: The `pad_to_max_length` argument is deprecated and will be removed in a future version, use `padding=True` or `padding='longest'` to pad to the longest sequence in the batch, or use `padding='max_length'` to pad to a max length. In this case, you can give a specific length with `max_length` (e.g. `max_length=45`) or leave max_length to None to pad to the maximal input size of the model (e.g. 512 for Bert).\n",
      "  FutureWarning,\n"
     ]
    }
   ],
   "source": [
    "# tokenize and encode sequences in the training set\n",
    "tokens_train = tokenizer.batch_encode_plus(\n",
    "    train_text.tolist(),\n",
    "    max_length = max_seq_len,\n",
    "    pad_to_max_length=True,\n",
    "    truncation=True,\n",
    "    return_token_type_ids=False\n",
    ")\n",
    "\n",
    "# tokenize and encode sequences in the validation set\n",
    "tokens_val = tokenizer.batch_encode_plus(\n",
    "    val_text.tolist(),\n",
    "    max_length = max_seq_len,\n",
    "    pad_to_max_length=True,\n",
    "    truncation=True,\n",
    "    return_token_type_ids=False\n",
    ")\n",
    "\n",
    "# tokenize and encode sequences in the test set\n",
    "tokens_test = tokenizer.batch_encode_plus(\n",
    "    test_text.tolist(),\n",
    "    max_length = max_seq_len,\n",
    "    pad_to_max_length=True,\n",
    "    truncation=True,\n",
    "    return_token_type_ids=False\n",
    ")\n"
   ]
  },
  {
   "cell_type": "code",
   "execution_count": null,
   "metadata": {
    "colab": {
     "base_uri": "https://localhost:8080/"
    },
    "executionInfo": {
     "elapsed": 35,
     "status": "ok",
     "timestamp": 1647883958803,
     "user": {
      "displayName": "Jose Carlos Romero Moreno",
      "photoUrl": "https://lh3.googleusercontent.com/a-/AOh14GjzF8xkOOGIRSxLmltpndj0IEhQZ_eRXV20jAtklg=s64",
      "userId": "18382225234885919746"
     },
     "user_tz": -120
    },
    "id": "E3F8l7uTkyuI",
    "outputId": "dc3df1db-15e5-465b-d7d5-eb8e75ee6c21"
   },
   "outputs": [
    {
     "data": {
      "text/plain": [
       "571    This case is super cute! Fits my iPhone perfec...\n",
       "128    I purchased this item, because the case from P...\n",
       "343    This is a great entry-level Android phone!  I ...\n",
       "294    Review Update:\\n\\nOnly after I wrote my initia...\n",
       "73     When I got my phone, I soon realized that beca...\n",
       "                             ...                        \n",
       "447    The phone recognizes the \"clone\" battery and c...\n",
       "190    fits the s3 well, and the cutouts line up well...\n",
       "280    Purchased this item as an external power sourc...\n",
       "316    The case was much thicker than than I would ex...\n",
       "604     - It does cancel some of the sluggish USB speeds\n",
       "Name: reviewText, Length: 100, dtype: object"
      ]
     },
     "execution_count": 28,
     "metadata": {},
     "output_type": "execute_result"
    }
   ],
   "source": [
    "test_text"
   ]
  },
  {
   "cell_type": "code",
   "execution_count": null,
   "metadata": {
    "colab": {
     "base_uri": "https://localhost:8080/"
    },
    "executionInfo": {
     "elapsed": 23,
     "status": "ok",
     "timestamp": 1647883958803,
     "user": {
      "displayName": "Jose Carlos Romero Moreno",
      "photoUrl": "https://lh3.googleusercontent.com/a-/AOh14GjzF8xkOOGIRSxLmltpndj0IEhQZ_eRXV20jAtklg=s64",
      "userId": "18382225234885919746"
     },
     "user_tz": -120
    },
    "id": "-cA5iAWvk746",
    "outputId": "f61e0021-d8d1-4866-8124-3e7de7c0c2e9"
   },
   "outputs": [
    {
     "data": {
      "text/plain": [
       "100"
      ]
     },
     "execution_count": 29,
     "metadata": {},
     "output_type": "execute_result"
    }
   ],
   "source": [
    "len(test_text)"
   ]
  },
  {
   "cell_type": "markdown",
   "metadata": {
    "id": "Wsm8bkRZQTw9"
   },
   "source": [
    "## Convert Integer Sequences to Tensors"
   ]
  },
  {
   "cell_type": "code",
   "execution_count": null,
   "metadata": {
    "id": "QR-lXwmzQPd6"
   },
   "outputs": [],
   "source": [
    "# for train set\n",
    "train_seq = torch.tensor(tokens_train['input_ids'])\n",
    "train_mask = torch.tensor(tokens_train['attention_mask'])\n",
    "train_y = torch.tensor(train_labels.tolist())\n",
    "\n",
    "# for validation set\n",
    "val_seq = torch.tensor(tokens_val['input_ids'])\n",
    "val_mask = torch.tensor(tokens_val['attention_mask'])\n",
    "val_y = torch.tensor(val_labels.tolist())\n",
    "\n",
    "# for test set\n",
    "test_seq = torch.tensor(tokens_test['input_ids'])\n",
    "test_mask = torch.tensor(tokens_test['attention_mask'])\n",
    "test_y = torch.tensor(test_labels.tolist())\n"
   ]
  },
  {
   "cell_type": "markdown",
   "metadata": {
    "id": "Ov1cOBlcRLuk"
   },
   "source": [
    "## Create DataLoaders"
   ]
  },
  {
   "cell_type": "code",
   "execution_count": null,
   "metadata": {
    "id": "qUy9JKFYQYLp"
   },
   "outputs": [],
   "source": [
    "from torch.utils.data import TensorDataset, DataLoader, RandomSampler, SequentialSampler\n",
    "\n",
    "#define a batch size\n",
    "batch_size = 32\n",
    "\n",
    "# wrap tensors\n",
    "train_data = TensorDataset(train_seq, train_mask, train_y)\n",
    "\n",
    "# sampler for sampling the data during training\n",
    "train_sampler = RandomSampler(train_data)\n",
    "\n",
    "# dataLoader for train set\n",
    "train_dataloader = DataLoader(train_data, sampler=train_sampler, batch_size=batch_size)\n",
    "\n",
    "# wrap tensors\n",
    "val_data = TensorDataset(val_seq, val_mask, val_y)\n",
    "\n",
    "# sampler for sampling the data during training\n",
    "val_sampler = SequentialSampler(val_data)\n",
    "\n",
    "# dataLoader for validation set\n",
    "val_dataloader = DataLoader(val_data, sampler = val_sampler, batch_size=batch_size)\n"
   ]
  },
  {
   "cell_type": "markdown",
   "metadata": {
    "id": "PKAr5norXYDn"
   },
   "source": [
    "# 5.Model"
   ]
  },
  {
   "cell_type": "markdown",
   "metadata": {
    "id": "s7ahGBUWRi3X"
   },
   "source": [
    "## Define Model Architecture"
   ]
  },
  {
   "cell_type": "code",
   "execution_count": null,
   "metadata": {
    "id": "b3iEtGyYRd0A"
   },
   "outputs": [],
   "source": [
    "class BERT_Arch(nn.Module):\n",
    "\n",
    "    def __init__(self, bert):\n",
    "      \n",
    "      super(BERT_Arch, self).__init__()\n",
    "\n",
    "      self.bert = bert \n",
    "      \n",
    "      # dropout layer\n",
    "      self.dropout = nn.Dropout(0.2) ###\n",
    "      \n",
    "      # relu activation function\n",
    "      self.relu =  nn.ReLU()\n",
    "\n",
    "      # dense layer 1\n",
    "      self.fc1 = nn.Linear(768,512)   #input dimension \n",
    "      \n",
    "      # dense layer 2 (Output layer)\n",
    "      self.fc2 = nn.Linear(512,2)\n",
    "\n",
    "      #softmax activation function\n",
    "      self.softmax = nn.LogSoftmax(dim=1)   #LogSoftmax inicial\n",
    "      self.prob = nn.Softmax(dim=1)\n",
    "      #self.sigmoid=nn.Sigmoid()\n",
    "\n",
    "    #define the forward pass\n",
    "    def forward(self, sent_id, mask):\n",
    "\n",
    "      #pass the inputs to the model  \n",
    "      _, cls_hs = self.bert(sent_id, attention_mask=mask, return_dict=False)\n",
    "      \n",
    "      x = self.fc1(cls_hs) #Full conected layer (Dense)\n",
    "\n",
    "      x = self.relu(x)  #Relu activation\n",
    "\n",
    "      x = self.dropout(x) #Dropout\n",
    "\n",
    "      # output layer\n",
    "      x = self.fc2(x)  #Full contected layer\n",
    "      \n",
    "      # apply softmax activation\n",
    "      x1 = self.softmax(x)\n",
    "      \n",
    "      probs= self.prob(x)\n",
    "\n",
    "      return x1, probs"
   ]
  },
  {
   "cell_type": "code",
   "execution_count": null,
   "metadata": {
    "id": "n6yWRNVBI_Jq"
   },
   "outputs": [],
   "source": [
    "#device = torch.device(\"cpu\")"
   ]
  },
  {
   "cell_type": "code",
   "execution_count": null,
   "metadata": {
    "id": "cBAJJVuJRliv"
   },
   "outputs": [],
   "source": [
    "# pass the pre-trained BERT to our define architecture\n",
    "model = BERT_Arch(bert)\n",
    "\n",
    "# push the model to GPU\n",
    "model = model.to(device)"
   ]
  },
  {
   "cell_type": "code",
   "execution_count": null,
   "metadata": {
    "colab": {
     "base_uri": "https://localhost:8080/"
    },
    "executionInfo": {
     "elapsed": 2887,
     "status": "ok",
     "timestamp": 1647883970567,
     "user": {
      "displayName": "Jose Carlos Romero Moreno",
      "photoUrl": "https://lh3.googleusercontent.com/a-/AOh14GjzF8xkOOGIRSxLmltpndj0IEhQZ_eRXV20jAtklg=s64",
      "userId": "18382225234885919746"
     },
     "user_tz": -120
    },
    "id": "taXS0IilRn9J",
    "outputId": "30d02e0e-0a52-4205-ab52-0ac982929ec4"
   },
   "outputs": [
    {
     "name": "stderr",
     "output_type": "stream",
     "text": [
      "/usr/local/lib/python3.7/dist-packages/transformers/optimization.py:309: FutureWarning: This implementation of AdamW is deprecated and will be removed in a future version. Use the PyTorch implementation torch.optim.AdamW instead, or set `no_deprecation_warning=True` to disable this warning\n",
      "  FutureWarning,\n"
     ]
    }
   ],
   "source": [
    "# optimizer from hugging face transformers\n",
    "from transformers import AdamW\n",
    "\n",
    "# define the optimizer\n",
    "optimizer = AdamW(model.parameters(), lr = 1e-3)"
   ]
  },
  {
   "cell_type": "markdown",
   "metadata": {
    "id": "j9CDpoMQR_rK"
   },
   "source": [
    "### Find Class Weights"
   ]
  },
  {
   "cell_type": "code",
   "execution_count": null,
   "metadata": {
    "colab": {
     "base_uri": "https://localhost:8080/"
    },
    "executionInfo": {
     "elapsed": 22,
     "status": "ok",
     "timestamp": 1647883970568,
     "user": {
      "displayName": "Jose Carlos Romero Moreno",
      "photoUrl": "https://lh3.googleusercontent.com/a-/AOh14GjzF8xkOOGIRSxLmltpndj0IEhQZ_eRXV20jAtklg=s64",
      "userId": "18382225234885919746"
     },
     "user_tz": -120
    },
    "id": "izY5xH5eR7Ur",
    "outputId": "0b865f12-c697-4e63-fa7e-6da5164d2906"
   },
   "outputs": [
    {
     "name": "stdout",
     "output_type": "stream",
     "text": [
      "[0.66189112 2.04424779]\n"
     ]
    }
   ],
   "source": [
    "###To know if a dataset is balanced /unbalanced\n",
    "\n",
    "from sklearn.utils.class_weight import compute_class_weight\n",
    "\n",
    "#compute the class weights\n",
    "class_wts = compute_class_weight(class_weight = 'balanced', classes = np.unique(train_labels), y= train_labels)\n",
    "\n",
    "print(class_wts)"
   ]
  },
  {
   "cell_type": "code",
   "execution_count": null,
   "metadata": {
    "id": "r1WvfY2vSGKi"
   },
   "outputs": [],
   "source": [
    "# convert class weights to tensor\n",
    "weights= torch.tensor(class_wts,dtype=torch.float)\n",
    "weights = weights.to(device)\n",
    "\n",
    "# loss function\n",
    "cross_entropy  = nn.NLLLoss(weight=weights) \n",
    "\n",
    "# number of training epochs\n",
    "epochs = 20"
   ]
  },
  {
   "cell_type": "markdown",
   "metadata": {
    "id": "My4CA0qaShLq"
   },
   "source": [
    "# Fine-Tune BERT"
   ]
  },
  {
   "cell_type": "markdown",
   "metadata": {
    "id": "VkRThwgyX28C"
   },
   "source": [
    "### TRAINING"
   ]
  },
  {
   "cell_type": "code",
   "execution_count": null,
   "metadata": {
    "id": "rskLk8R_SahS"
   },
   "outputs": [],
   "source": [
    "# function to train the model\n",
    "def train():\n",
    "  \n",
    "  model.train()\n",
    "\n",
    "  total_loss, total_accuracy = 0, 0\n",
    "  \n",
    "  # empty list to save model predictions\n",
    "  total_preds=[]\n",
    "  total_pred_prob=[]\n",
    "\n",
    "  # iterate over batches\n",
    "  for step,batch in enumerate(train_dataloader):\n",
    "    \n",
    "    # progress update after every 50 batches.\n",
    "    if step % 50 == 0 and not step == 0:\n",
    "      print('  Batch {:>5,}  of  {:>5,}.'.format(step, len(train_dataloader)))\n",
    "\n",
    "    # push the batch to gpu\n",
    "    batch = [r.to(device) for r in batch]\n",
    " \n",
    "    sent_id, mask, labels = batch\n",
    "\n",
    "    # clear previously calculated gradients \n",
    "    model.zero_grad()        \n",
    "\n",
    "    # get model predictions for the current batch\n",
    "    preds, pred_prob = model(sent_id, mask)  ##\n",
    "\n",
    "    # compute the loss between actual and predicted values\n",
    "    loss = cross_entropy(preds, labels)\n",
    "\n",
    "    # add on to the total loss\n",
    "    total_loss = total_loss + loss.item()\n",
    "\n",
    "    # backward pass to calculate the gradients\n",
    "    loss.backward()\n",
    "\n",
    "    # clip the the gradients to 1.0. It helps in preventing the exploding gradient problem\n",
    "    torch.nn.utils.clip_grad_norm_(model.parameters(), 1.0)\n",
    "\n",
    "    # update parameters\n",
    "    optimizer.step()\n",
    "\n",
    "    # model predictions are stored on GPU. So, push it to CPU\n",
    "    preds=preds.detach().cpu().numpy()\n",
    "    pred_prob=pred_prob.detach().cpu().numpy()\n",
    "    \n",
    "    # append the model predictions\n",
    "    total_preds.append(preds)\n",
    "    total_pred_prob.append(pred_prob)\n",
    "    \n",
    "  # compute the training loss of the epoch\n",
    "  avg_loss = total_loss / len(train_dataloader)\n",
    "  \n",
    "  # predictions are in the form of (no. of batches, size of batch, no. of classes).\n",
    "  # reshape the predictions in form of (number of samples, no. of classes)\n",
    "  total_preds  = np.concatenate(total_preds, axis=0)\n",
    "\n",
    "  #returns the loss and predictions\n",
    "  return avg_loss, total_preds, total_pred_prob"
   ]
  },
  {
   "cell_type": "markdown",
   "metadata": {
    "id": "0pZTVHoZD6X6"
   },
   "source": [
    "### VALIDATION"
   ]
  },
  {
   "cell_type": "code",
   "execution_count": null,
   "metadata": {
    "id": "yGXovFDlSxB5"
   },
   "outputs": [],
   "source": [
    "# function for evaluating the model\n",
    "def evaluate():\n",
    "  \n",
    "  print(\"\\nEvaluating...\")\n",
    "  \n",
    "  # deactivate dropout layers\n",
    "  model.eval()\n",
    "\n",
    "  total_loss, total_accuracy = 0, 0\n",
    "  \n",
    "  # empty list to save the model predictions\n",
    "  total_preds = []\n",
    "  total_pred_prob=[]\n",
    "\n",
    "  # iterate over batches\n",
    "  for step,batch in enumerate(val_dataloader):\n",
    "    \n",
    "    # Progress update every 50 batches.\n",
    "    if step % 50 == 0 and not step == 0:\n",
    "      \n",
    "      # Calculate elapsed time in minutes.\n",
    "      elapsed = format_time(time.time() - t0)\n",
    "            \n",
    "      # Report progress.\n",
    "      print('  Batch {:>5,}  of  {:>5,}.'.format(step, len(val_dataloader)))\n",
    "\n",
    "    # push the batch to gpu\n",
    "    batch = [t.to(device) for t in batch]\n",
    "\n",
    "    sent_id, mask, labels = batch\n",
    "\n",
    "    # deactivate autograd\n",
    "    with torch.no_grad():\n",
    "      \n",
    "      # model predictions\n",
    "      preds, pred_prob = model(sent_id, mask)\n",
    "\n",
    "      # compute the validation loss between actual and predicted values\n",
    "      loss = cross_entropy(preds,labels)\n",
    "\n",
    "      total_loss = total_loss + loss.item()\n",
    "\n",
    "      #preds = preds.detach().cpu().numpy()\n",
    "\n",
    "      #total_preds.append(preds)\n",
    "\n",
    "      preds=preds.detach().cpu().numpy()\n",
    "      pred_prob=pred_prob.detach().cpu().numpy()\n",
    "    \n",
    "      # append the model predictions\n",
    "      total_preds.append(preds)\n",
    "      total_pred_prob.append(pred_prob)\n",
    "\n",
    "  # compute the validation loss of the epoch\n",
    "  avg_loss = total_loss / len(val_dataloader) \n",
    "\n",
    "  # reshape the predictions in form of (number of samples, no. of classes)\n",
    "  total_preds  = np.concatenate(total_preds, axis=0)\n",
    "\n",
    "  return avg_loss, total_preds, total_pred_prob"
   ]
  },
  {
   "cell_type": "markdown",
   "metadata": {
    "id": "9KZEgxRRTLXG"
   },
   "source": [
    "## Start Model Training"
   ]
  },
  {
   "cell_type": "code",
   "execution_count": null,
   "metadata": {
    "colab": {
     "base_uri": "https://localhost:8080/"
    },
    "executionInfo": {
     "elapsed": 800313,
     "status": "ok",
     "timestamp": 1647481643917,
     "user": {
      "displayName": "Jose Carlos Romero Moreno",
      "photoUrl": "https://lh3.googleusercontent.com/a-/AOh14GjzF8xkOOGIRSxLmltpndj0IEhQZ_eRXV20jAtklg=s64",
      "userId": "18382225234885919746"
     },
     "user_tz": -120
    },
    "id": "k1USGTntS3TS",
    "outputId": "f094f7df-1513-4f5f-a6c6-fa4097e55447"
   },
   "outputs": [
    {
     "name": "stdout",
     "output_type": "stream",
     "text": [
      "\n",
      " Epoch 1 / 20\n",
      "\n",
      "Evaluating...\n",
      "\n",
      "Training Loss: 0.698\n",
      "Validation Loss: 0.637\n",
      "\n",
      " Epoch 2 / 20\n",
      "\n",
      "Evaluating...\n",
      "\n",
      "Training Loss: 0.660\n",
      "Validation Loss: 0.567\n",
      "\n",
      " Epoch 3 / 20\n",
      "\n",
      "Evaluating...\n",
      "\n",
      "Training Loss: 0.593\n",
      "Validation Loss: 0.470\n",
      "\n",
      " Epoch 4 / 20\n",
      "\n",
      "Evaluating...\n",
      "\n",
      "Training Loss: 0.535\n",
      "Validation Loss: 0.436\n",
      "\n",
      " Epoch 5 / 20\n",
      "\n",
      "Evaluating...\n",
      "\n",
      "Training Loss: 0.499\n",
      "Validation Loss: 0.456\n",
      "\n",
      " Epoch 6 / 20\n",
      "\n",
      "Evaluating...\n",
      "\n",
      "Training Loss: 0.483\n",
      "Validation Loss: 0.424\n",
      "\n",
      " Epoch 7 / 20\n",
      "\n",
      "Evaluating...\n",
      "\n",
      "Training Loss: 0.470\n",
      "Validation Loss: 0.402\n",
      "\n",
      " Epoch 8 / 20\n",
      "\n",
      "Evaluating...\n",
      "\n",
      "Training Loss: 0.397\n",
      "Validation Loss: 0.446\n",
      "\n",
      " Epoch 9 / 20\n",
      "\n",
      "Evaluating...\n",
      "\n",
      "Training Loss: 0.491\n",
      "Validation Loss: 0.316\n",
      "\n",
      " Epoch 10 / 20\n",
      "\n",
      "Evaluating...\n",
      "\n",
      "Training Loss: 0.398\n",
      "Validation Loss: 0.385\n",
      "\n",
      " Epoch 11 / 20\n",
      "\n",
      "Evaluating...\n",
      "\n",
      "Training Loss: 0.374\n",
      "Validation Loss: 0.298\n",
      "\n",
      " Epoch 12 / 20\n",
      "\n",
      "Evaluating...\n",
      "\n",
      "Training Loss: 0.559\n",
      "Validation Loss: 0.390\n",
      "\n",
      " Epoch 13 / 20\n",
      "\n",
      "Evaluating...\n",
      "\n",
      "Training Loss: 0.714\n",
      "Validation Loss: 0.376\n",
      "\n",
      " Epoch 14 / 20\n",
      "\n",
      "Evaluating...\n",
      "\n",
      "Training Loss: 0.445\n",
      "Validation Loss: 0.598\n",
      "\n",
      " Epoch 15 / 20\n",
      "\n",
      "Evaluating...\n",
      "\n",
      "Training Loss: 0.384\n",
      "Validation Loss: 0.268\n",
      "\n",
      " Epoch 16 / 20\n",
      "\n",
      "Evaluating...\n",
      "\n",
      "Training Loss: 0.446\n",
      "Validation Loss: 0.281\n",
      "\n",
      " Epoch 17 / 20\n",
      "\n",
      "Evaluating...\n",
      "\n",
      "Training Loss: 0.378\n",
      "Validation Loss: 0.283\n",
      "\n",
      " Epoch 18 / 20\n",
      "\n",
      "Evaluating...\n",
      "\n",
      "Training Loss: 0.328\n",
      "Validation Loss: 0.291\n",
      "\n",
      " Epoch 19 / 20\n",
      "\n",
      "Evaluating...\n",
      "\n",
      "Training Loss: 0.352\n",
      "Validation Loss: 0.354\n",
      "\n",
      " Epoch 20 / 20\n",
      "\n",
      "Evaluating...\n",
      "\n",
      "Training Loss: 0.455\n",
      "Validation Loss: 0.322\n"
     ]
    }
   ],
   "source": [
    "# set initial loss to infinite\n",
    "best_valid_loss = float('inf')\n",
    "\n",
    "# empty lists to store training and validation loss of each epoch\n",
    "train_losses=[]\n",
    "valid_losses=[]\n",
    "\n",
    "\n",
    "#for each epoch\n",
    "for epoch in range(epochs):\n",
    "     \n",
    "    print('\\n Epoch {:} / {:}'.format(epoch + 1, epochs))\n",
    "    \n",
    "    #train model\n",
    "    train_loss, _ , pred_prob = train()\n",
    "    \n",
    "    #evaluate model\n",
    "    valid_loss, _ , pred_prob = evaluate()\n",
    "    \n",
    "    #save the best model\n",
    "    if valid_loss < best_valid_loss:\n",
    "        best_valid_loss = valid_loss\n",
    "        torch.save(model.state_dict(), '/content/drive/MyDrive/Colab Notebooks/saved_weights1.pt')\n",
    "    \n",
    "    # append training and validation loss\n",
    "    train_losses.append(train_loss)\n",
    "    valid_losses.append(valid_loss)\n",
    "    \n",
    "    print(f'\\nTraining Loss: {train_loss:.3f}')\n",
    "    print(f'Validation Loss: {valid_loss:.3f}')"
   ]
  },
  {
   "cell_type": "markdown",
   "metadata": {
    "id": "_yrhUc9kTI5a"
   },
   "source": [
    "## Load Saved Model"
   ]
  },
  {
   "cell_type": "code",
   "execution_count": null,
   "metadata": {
    "colab": {
     "base_uri": "https://localhost:8080/"
    },
    "executionInfo": {
     "elapsed": 7082,
     "status": "ok",
     "timestamp": 1647883983259,
     "user": {
      "displayName": "Jose Carlos Romero Moreno",
      "photoUrl": "https://lh3.googleusercontent.com/a-/AOh14GjzF8xkOOGIRSxLmltpndj0IEhQZ_eRXV20jAtklg=s64",
      "userId": "18382225234885919746"
     },
     "user_tz": -120
    },
    "id": "OacxUyizS8d1",
    "outputId": "c1304327-60bb-4958-fb8e-d9f4218edced"
   },
   "outputs": [
    {
     "data": {
      "text/plain": [
       "<All keys matched successfully>"
      ]
     },
     "execution_count": 40,
     "metadata": {},
     "output_type": "execute_result"
    }
   ],
   "source": [
    "#load weights of best model\n",
    "path = '/content/drive/MyDrive/Colab Notebooks/saved_weights.pt'\n",
    "model.load_state_dict(torch.load(path))"
   ]
  },
  {
   "cell_type": "markdown",
   "metadata": {
    "id": "x4SVftkkTZXA"
   },
   "source": [
    "# 6. Get Predictions for Test Data"
   ]
  },
  {
   "cell_type": "markdown",
   "metadata": {
    "id": "KCYR2w4VYmCb"
   },
   "source": [
    "## Predictions"
   ]
  },
  {
   "cell_type": "code",
   "execution_count": null,
   "metadata": {
    "id": "-SaE5EAgMwHe"
   },
   "outputs": [],
   "source": []
  },
  {
   "cell_type": "code",
   "execution_count": null,
   "metadata": {
    "id": "y3BB1DXZkQNQ"
   },
   "outputs": [],
   "source": [
    "with torch.no_grad():\n",
    "  preds, pred_prob = model(test_seq.to(device), test_mask.to(device))\n",
    "  preds = preds.detach().cpu().numpy()\n",
    "  pred_prob = pred_prob.detach().cpu().numpy()"
   ]
  },
  {
   "cell_type": "markdown",
   "metadata": {},
   "source": [
    "## Our model is going to classify the reviews in the test seet as True or Fake.\n",
    "\n",
    "## We define the terms we see in the results.\n",
    "## We name the 0 (true) as negative and 1 (fake) as positive, as we are identifying fake reviews.\n",
    "\n",
    "### We have different kinds of results:\n",
    "### -Reviews true that are really true (True negative, TN)\n",
    "### -Reviews fake that are really fake ( True positive, TP)\n",
    "### -Reviews fake that are really true (False positive, FP)\n",
    "### -Reviews true that are really fake. (False negative, FN)"
   ]
  },
  {
   "cell_type": "markdown",
   "metadata": {},
   "source": [
    "## According these results we can measure different metrics"
   ]
  },
  {
   "cell_type": "markdown",
   "metadata": {},
   "source": [
    "## Accuracy - Accuracy is the most intuitive performance measure and it is simply a ratio of correctly predicted observation to the total observations\n",
    "### Accuracy = TP+TN/TP+FP+FN+TN\n",
    "\n",
    "## Precision - Precision is the ratio of correctly predicted positive observations to the total predicted positive observations.\n",
    "### Precision = TP/TP+FP\n",
    "\n",
    "## Recall (Sensitivity) - Recall is the ratio of correctly predicted positive observations to the all observations in actual class \n",
    "### Recall = TP/TP+FN\n",
    "\n",
    "## F1 score - F1 Score is the weighted average of Precision and Recall.\n",
    "### F1 Score = 2*(Recall * Precision) / (Recall + Precision)"
   ]
  },
  {
   "cell_type": "markdown",
   "metadata": {},
   "source": []
  },
  {
   "cell_type": "markdown",
   "metadata": {},
   "source": []
  },
  {
   "cell_type": "code",
   "execution_count": null,
   "metadata": {
    "colab": {
     "base_uri": "https://localhost:8080/"
    },
    "executionInfo": {
     "elapsed": 117,
     "status": "ok",
     "timestamp": 1647883990323,
     "user": {
      "displayName": "Jose Carlos Romero Moreno",
      "photoUrl": "https://lh3.googleusercontent.com/a-/AOh14GjzF8xkOOGIRSxLmltpndj0IEhQZ_eRXV20jAtklg=s64",
      "userId": "18382225234885919746"
     },
     "user_tz": -120
    },
    "id": "Ms1ObHZxTYSI",
    "outputId": "4ac13c73-26c9-489d-b20e-cbb4547d33d5",
    "scrolled": true
   },
   "outputs": [
    {
     "name": "stdout",
     "output_type": "stream",
     "text": [
      "              precision    recall  f1-score   support\n",
      "\n",
      "           0       0.97      0.89      0.93        76\n",
      "           1       0.73      0.92      0.81        24\n",
      "\n",
      "    accuracy                           0.90       100\n",
      "   macro avg       0.85      0.91      0.87       100\n",
      "weighted avg       0.91      0.90      0.90       100\n",
      "\n"
     ]
    }
   ],
   "source": [
    "# model's performance\n",
    "preds = np.argmax(preds, axis = 1)\n",
    "print(classification_report(test_y, preds))"
   ]
  },
  {
   "cell_type": "markdown",
   "metadata": {},
   "source": []
  },
  {
   "cell_type": "markdown",
   "metadata": {},
   "source": []
  },
  {
   "cell_type": "markdown",
   "metadata": {},
   "source": []
  },
  {
   "cell_type": "code",
   "execution_count": null,
   "metadata": {},
   "outputs": [],
   "source": []
  },
  {
   "cell_type": "markdown",
   "metadata": {},
   "source": []
  },
  {
   "cell_type": "code",
   "execution_count": null,
   "metadata": {
    "colab": {
     "base_uri": "https://localhost:8080/",
     "height": 142
    },
    "executionInfo": {
     "elapsed": 92,
     "status": "ok",
     "timestamp": 1647883990325,
     "user": {
      "displayName": "Jose Carlos Romero Moreno",
      "photoUrl": "https://lh3.googleusercontent.com/a-/AOh14GjzF8xkOOGIRSxLmltpndj0IEhQZ_eRXV20jAtklg=s64",
      "userId": "18382225234885919746"
     },
     "user_tz": -120
    },
    "id": "YqzLS7rHTp4T",
    "outputId": "2fd7814d-7096-484c-b63a-4dee7b068d5a",
    "scrolled": true
   },
   "outputs": [
    {
     "data": {
      "text/html": [
       "\n",
       "  <div id=\"df-0f6d5372-3f35-4590-a93f-d59b80234346\">\n",
       "    <div class=\"colab-df-container\">\n",
       "      <div>\n",
       "<style scoped>\n",
       "    .dataframe tbody tr th:only-of-type {\n",
       "        vertical-align: middle;\n",
       "    }\n",
       "\n",
       "    .dataframe tbody tr th {\n",
       "        vertical-align: top;\n",
       "    }\n",
       "\n",
       "    .dataframe thead th {\n",
       "        text-align: right;\n",
       "    }\n",
       "</style>\n",
       "<table border=\"1\" class=\"dataframe\">\n",
       "  <thead>\n",
       "    <tr style=\"text-align: right;\">\n",
       "      <th>col_0</th>\n",
       "      <th>0</th>\n",
       "      <th>1</th>\n",
       "    </tr>\n",
       "    <tr>\n",
       "      <th>row_0</th>\n",
       "      <th></th>\n",
       "      <th></th>\n",
       "    </tr>\n",
       "  </thead>\n",
       "  <tbody>\n",
       "    <tr>\n",
       "      <th>0</th>\n",
       "      <td>68</td>\n",
       "      <td>8</td>\n",
       "    </tr>\n",
       "    <tr>\n",
       "      <th>1</th>\n",
       "      <td>2</td>\n",
       "      <td>22</td>\n",
       "    </tr>\n",
       "  </tbody>\n",
       "</table>\n",
       "</div>\n",
       "      <button class=\"colab-df-convert\" onclick=\"convertToInteractive('df-0f6d5372-3f35-4590-a93f-d59b80234346')\"\n",
       "              title=\"Convert this dataframe to an interactive table.\"\n",
       "              style=\"display:none;\">\n",
       "        \n",
       "  <svg xmlns=\"http://www.w3.org/2000/svg\" height=\"24px\"viewBox=\"0 0 24 24\"\n",
       "       width=\"24px\">\n",
       "    <path d=\"M0 0h24v24H0V0z\" fill=\"none\"/>\n",
       "    <path d=\"M18.56 5.44l.94 2.06.94-2.06 2.06-.94-2.06-.94-.94-2.06-.94 2.06-2.06.94zm-11 1L8.5 8.5l.94-2.06 2.06-.94-2.06-.94L8.5 2.5l-.94 2.06-2.06.94zm10 10l.94 2.06.94-2.06 2.06-.94-2.06-.94-.94-2.06-.94 2.06-2.06.94z\"/><path d=\"M17.41 7.96l-1.37-1.37c-.4-.4-.92-.59-1.43-.59-.52 0-1.04.2-1.43.59L10.3 9.45l-7.72 7.72c-.78.78-.78 2.05 0 2.83L4 21.41c.39.39.9.59 1.41.59.51 0 1.02-.2 1.41-.59l7.78-7.78 2.81-2.81c.8-.78.8-2.07 0-2.86zM5.41 20L4 18.59l7.72-7.72 1.47 1.35L5.41 20z\"/>\n",
       "  </svg>\n",
       "      </button>\n",
       "      \n",
       "  <style>\n",
       "    .colab-df-container {\n",
       "      display:flex;\n",
       "      flex-wrap:wrap;\n",
       "      gap: 12px;\n",
       "    }\n",
       "\n",
       "    .colab-df-convert {\n",
       "      background-color: #E8F0FE;\n",
       "      border: none;\n",
       "      border-radius: 50%;\n",
       "      cursor: pointer;\n",
       "      display: none;\n",
       "      fill: #1967D2;\n",
       "      height: 32px;\n",
       "      padding: 0 0 0 0;\n",
       "      width: 32px;\n",
       "    }\n",
       "\n",
       "    .colab-df-convert:hover {\n",
       "      background-color: #E2EBFA;\n",
       "      box-shadow: 0px 1px 2px rgba(60, 64, 67, 0.3), 0px 1px 3px 1px rgba(60, 64, 67, 0.15);\n",
       "      fill: #174EA6;\n",
       "    }\n",
       "\n",
       "    [theme=dark] .colab-df-convert {\n",
       "      background-color: #3B4455;\n",
       "      fill: #D2E3FC;\n",
       "    }\n",
       "\n",
       "    [theme=dark] .colab-df-convert:hover {\n",
       "      background-color: #434B5C;\n",
       "      box-shadow: 0px 1px 3px 1px rgba(0, 0, 0, 0.15);\n",
       "      filter: drop-shadow(0px 1px 2px rgba(0, 0, 0, 0.3));\n",
       "      fill: #FFFFFF;\n",
       "    }\n",
       "  </style>\n",
       "\n",
       "      <script>\n",
       "        const buttonEl =\n",
       "          document.querySelector('#df-0f6d5372-3f35-4590-a93f-d59b80234346 button.colab-df-convert');\n",
       "        buttonEl.style.display =\n",
       "          google.colab.kernel.accessAllowed ? 'block' : 'none';\n",
       "\n",
       "        async function convertToInteractive(key) {\n",
       "          const element = document.querySelector('#df-0f6d5372-3f35-4590-a93f-d59b80234346');\n",
       "          const dataTable =\n",
       "            await google.colab.kernel.invokeFunction('convertToInteractive',\n",
       "                                                     [key], {});\n",
       "          if (!dataTable) return;\n",
       "\n",
       "          const docLinkHtml = 'Like what you see? Visit the ' +\n",
       "            '<a target=\"_blank\" href=https://colab.research.google.com/notebooks/data_table.ipynb>data table notebook</a>'\n",
       "            + ' to learn more about interactive tables.';\n",
       "          element.innerHTML = '';\n",
       "          dataTable['output_type'] = 'display_data';\n",
       "          await google.colab.output.renderOutput(dataTable, element);\n",
       "          const docLink = document.createElement('div');\n",
       "          docLink.innerHTML = docLinkHtml;\n",
       "          element.appendChild(docLink);\n",
       "        }\n",
       "      </script>\n",
       "    </div>\n",
       "  </div>\n",
       "  "
      ],
      "text/plain": [
       "col_0   0   1\n",
       "row_0        \n",
       "0      68   8\n",
       "1       2  22"
      ]
     },
     "execution_count": 45,
     "metadata": {},
     "output_type": "execute_result"
    }
   ],
   "source": [
    "# confusion matrix\n",
    "pd.crosstab(test_y, preds)"
   ]
  },
  {
   "cell_type": "markdown",
   "metadata": {},
   "source": [
    "## We can see the distribution of classifications with the Confussion matrix\n",
    "## The model identifies: 1) 68 true that are really true (True negative, TN); 2) 22 fake that are really fake ( True positive, TP); 3) 8 as fake that is really true (False positive, FP); and 4) 2 as true that are really fake. (False negative, FN)"
   ]
  },
  {
   "cell_type": "markdown",
   "metadata": {
    "id": "0xUQe4LytPpe"
   },
   "source": [
    "## We can also see the probability predicted by the model for each classification.\n",
    "## Threshold: Probability that the prediction is in one of the two options: (Left 0: True, Right 1: Fake)"
   ]
  },
  {
   "cell_type": "markdown",
   "metadata": {},
   "source": []
  },
  {
   "cell_type": "code",
   "execution_count": null,
   "metadata": {
    "colab": {
     "base_uri": "https://localhost:8080/"
    },
    "executionInfo": {
     "elapsed": 90,
     "status": "ok",
     "timestamp": 1647883990325,
     "user": {
      "displayName": "Jose Carlos Romero Moreno",
      "photoUrl": "https://lh3.googleusercontent.com/a-/AOh14GjzF8xkOOGIRSxLmltpndj0IEhQZ_eRXV20jAtklg=s64",
      "userId": "18382225234885919746"
     },
     "user_tz": -120
    },
    "id": "xLtx3SectW0x",
    "outputId": "ba11f73d-c43e-4954-8f6a-039cab82086f",
    "scrolled": true
   },
   "outputs": [
    {
     "data": {
      "text/plain": [
       "array([[0.88662684, 0.11337318],\n",
       "       [0.9357682 , 0.06423175],\n",
       "       [0.58312714, 0.4168729 ],\n",
       "       [0.7693554 , 0.23064466],\n",
       "       [0.9727278 , 0.02727215],\n",
       "       [0.02870584, 0.9712941 ],\n",
       "       [0.8829566 , 0.11704339],\n",
       "       [0.2355792 , 0.7644208 ],\n",
       "       [0.01471928, 0.9852807 ],\n",
       "       [0.13733631, 0.8626637 ],\n",
       "       [0.9617571 , 0.03824291],\n",
       "       [0.5561303 , 0.4438697 ],\n",
       "       [0.5613225 , 0.43867746],\n",
       "       [0.04429593, 0.95570403],\n",
       "       [0.01810705, 0.98189294],\n",
       "       [0.689463  , 0.31053704],\n",
       "       [0.9402163 , 0.05978369],\n",
       "       [0.7347708 , 0.26522925],\n",
       "       [0.9555195 , 0.04448054],\n",
       "       [0.05140695, 0.9485931 ],\n",
       "       [0.89833134, 0.10166863],\n",
       "       [0.8191772 , 0.1808228 ],\n",
       "       [0.9353645 , 0.0646355 ],\n",
       "       [0.96109027, 0.03890973],\n",
       "       [0.6403086 , 0.35969138],\n",
       "       [0.9015703 , 0.09842967],\n",
       "       [0.18207407, 0.81792593],\n",
       "       [0.94207937, 0.05792065],\n",
       "       [0.94960994, 0.05039008],\n",
       "       [0.9041356 , 0.09586444],\n",
       "       [0.90996945, 0.0900306 ],\n",
       "       [0.92735595, 0.07264406],\n",
       "       [0.04580656, 0.9541934 ],\n",
       "       [0.315215  , 0.684785  ],\n",
       "       [0.46012685, 0.5398731 ],\n",
       "       [0.90008265, 0.09991742],\n",
       "       [0.7714382 , 0.22856183],\n",
       "       [0.9365453 , 0.06345472],\n",
       "       [0.520246  , 0.47975394],\n",
       "       [0.77365035, 0.22634962],\n",
       "       [0.7562406 , 0.24375936],\n",
       "       [0.519907  , 0.48009297],\n",
       "       [0.85871077, 0.14128919],\n",
       "       [0.45791534, 0.54208463],\n",
       "       [0.1726441 , 0.8273559 ],\n",
       "       [0.00810756, 0.99189246],\n",
       "       [0.9703214 , 0.02967861],\n",
       "       [0.9395869 , 0.06041314],\n",
       "       [0.93763095, 0.06236905],\n",
       "       [0.68553835, 0.3144616 ],\n",
       "       [0.8237733 , 0.17622672],\n",
       "       [0.8049791 , 0.1950209 ],\n",
       "       [0.07450525, 0.9254948 ],\n",
       "       [0.62700987, 0.3729902 ],\n",
       "       [0.863265  , 0.13673508],\n",
       "       [0.21731284, 0.7826872 ],\n",
       "       [0.9766291 , 0.02337092],\n",
       "       [0.89415765, 0.1058423 ],\n",
       "       [0.99308574, 0.00691426],\n",
       "       [0.9727035 , 0.02729648],\n",
       "       [0.691424  , 0.30857596],\n",
       "       [0.02687596, 0.97312397],\n",
       "       [0.3277839 , 0.6722161 ],\n",
       "       [0.8227824 , 0.17721756],\n",
       "       [0.46964523, 0.5303548 ],\n",
       "       [0.72927105, 0.27072895],\n",
       "       [0.97201455, 0.02798551],\n",
       "       [0.01104587, 0.9889542 ],\n",
       "       [0.02826246, 0.97173756],\n",
       "       [0.93744063, 0.06255931],\n",
       "       [0.98078877, 0.01921122],\n",
       "       [0.887573  , 0.11242697],\n",
       "       [0.31330737, 0.68669266],\n",
       "       [0.2709063 , 0.72909373],\n",
       "       [0.120185  , 0.879815  ],\n",
       "       [0.8277792 , 0.1722209 ],\n",
       "       [0.2791633 , 0.7208367 ],\n",
       "       [0.97463155, 0.02536848],\n",
       "       [0.7580716 , 0.2419284 ],\n",
       "       [0.71698993, 0.28301004],\n",
       "       [0.7155331 , 0.28446686],\n",
       "       [0.97019434, 0.02980562],\n",
       "       [0.9710566 , 0.02894343],\n",
       "       [0.8307194 , 0.16928059],\n",
       "       [0.05688956, 0.9431104 ],\n",
       "       [0.18787682, 0.8121232 ],\n",
       "       [0.32973212, 0.6702679 ],\n",
       "       [0.9849858 , 0.01501419],\n",
       "       [0.93046343, 0.06953657],\n",
       "       [0.949498  , 0.05050198],\n",
       "       [0.8421202 , 0.15787981],\n",
       "       [0.7842397 , 0.21576029],\n",
       "       [0.33116952, 0.66883045],\n",
       "       [0.6125548 , 0.38744518],\n",
       "       [0.81542355, 0.18457638],\n",
       "       [0.8869252 , 0.11307479],\n",
       "       [0.81611454, 0.18388544],\n",
       "       [0.98737437, 0.01262562],\n",
       "       [0.8519548 , 0.1480452 ],\n",
       "       [0.05338287, 0.9466172 ]], dtype=float32)"
      ]
     },
     "execution_count": 46,
     "metadata": {},
     "output_type": "execute_result"
    }
   ],
   "source": [
    "pred_prob"
   ]
  },
  {
   "cell_type": "markdown",
   "metadata": {},
   "source": [
    "# Now we tune our predictions increasing the threshold to classify reviews. The default is in 50%, we want to increase the likelihood to make correct classifications. "
   ]
  },
  {
   "cell_type": "markdown",
   "metadata": {},
   "source": [
    "## The cost of this adjustment is to get less fake reviews, as the ones with lower probability wont be classified as fake"
   ]
  },
  {
   "cell_type": "code",
   "execution_count": null,
   "metadata": {
    "colab": {
     "base_uri": "https://localhost:8080/"
    },
    "executionInfo": {
     "elapsed": 80,
     "status": "ok",
     "timestamp": 1647883990326,
     "user": {
      "displayName": "Jose Carlos Romero Moreno",
      "photoUrl": "https://lh3.googleusercontent.com/a-/AOh14GjzF8xkOOGIRSxLmltpndj0IEhQZ_eRXV20jAtklg=s64",
      "userId": "18382225234885919746"
     },
     "user_tz": -120
    },
    "id": "iFxxugRKqI5P",
    "outputId": "39f33ac3-0668-4ac4-ef96-030483926d80"
   },
   "outputs": [
    {
     "name": "stdout",
     "output_type": "stream",
     "text": [
      "[0, 0, 0, 0, 0, 1, 0, 0, 1, 1, 0, 0, 0, 1, 1, 0, 0, 0, 0, 1, 0, 0, 0, 0, 0, 0, 1, 0, 0, 0, 0, 0, 1, 0, 0, 0, 0, 0, 0, 0, 0, 0, 0, 0, 1, 1, 0, 0, 0, 0, 0, 0, 1, 0, 0, 0, 0, 0, 0, 0, 0, 1, 0, 0, 0, 0, 0, 1, 1, 0, 0, 0, 0, 0, 1, 0, 0, 0, 0, 0, 0, 0, 0, 0, 1, 1, 0, 0, 0, 0, 0, 0, 0, 0, 0, 0, 0, 0, 0, 1]\n"
     ]
    }
   ],
   "source": [
    "threshold= 0.8 #Inicial 0.8\n",
    "probability= pred_prob[:,1] #We keep only second column: probability of fake.\n",
    "\n",
    "total_preds=[]\n",
    "for i in range(len(probability)):\n",
    "  if probability[i]>threshold:\n",
    "    help=1\n",
    "  if probability[i]<threshold:  \n",
    "    help=0\n",
    "  total_preds.append(help)\n",
    "\n",
    "print(total_preds)"
   ]
  },
  {
   "cell_type": "code",
   "execution_count": null,
   "metadata": {
    "colab": {
     "base_uri": "https://localhost:8080/"
    },
    "executionInfo": {
     "elapsed": 68,
     "status": "ok",
     "timestamp": 1647883990326,
     "user": {
      "displayName": "Jose Carlos Romero Moreno",
      "photoUrl": "https://lh3.googleusercontent.com/a-/AOh14GjzF8xkOOGIRSxLmltpndj0IEhQZ_eRXV20jAtklg=s64",
      "userId": "18382225234885919746"
     },
     "user_tz": -120
    },
    "id": "Y6Y42B76tbSr",
    "outputId": "69894851-fc62-4dfd-c7f9-83409e8566b0",
    "scrolled": true
   },
   "outputs": [
    {
     "name": "stdout",
     "output_type": "stream",
     "text": [
      "              precision    recall  f1-score   support\n",
      "\n",
      "           0       0.91      0.99      0.95        76\n",
      "           1       0.94      0.71      0.81        24\n",
      "\n",
      "    accuracy                           0.92       100\n",
      "   macro avg       0.93      0.85      0.88       100\n",
      "weighted avg       0.92      0.92      0.92       100\n",
      "\n"
     ]
    }
   ],
   "source": [
    "print(classification_report(test_y, total_preds))  #Obtenemos una precision de 1 en las reviews que son utiles"
   ]
  },
  {
   "cell_type": "markdown",
   "metadata": {},
   "source": [
    "## The model identifies: 1)75 true that are really true, 2) 17 fake that are really fake "
   ]
  },
  {
   "cell_type": "markdown",
   "metadata": {},
   "source": [
    "## 3) 1 as fake that is really true and 4) 7 as true that are really fake."
   ]
  },
  {
   "cell_type": "markdown",
   "metadata": {},
   "source": [
    "### changing the thresshold our model works different, identifying less fake reviews but with more accuracy, as the model only classify when the probability is aboce 80%, rather than before where the threshold was 50%"
   ]
  },
  {
   "cell_type": "code",
   "execution_count": null,
   "metadata": {
    "colab": {
     "base_uri": "https://localhost:8080/",
     "height": 142
    },
    "executionInfo": {
     "elapsed": 57,
     "status": "ok",
     "timestamp": 1647883990326,
     "user": {
      "displayName": "Jose Carlos Romero Moreno",
      "photoUrl": "https://lh3.googleusercontent.com/a-/AOh14GjzF8xkOOGIRSxLmltpndj0IEhQZ_eRXV20jAtklg=s64",
      "userId": "18382225234885919746"
     },
     "user_tz": -120
    },
    "id": "gd85El7PtlOO",
    "outputId": "b7a4b125-f516-462a-a9b5-4101a4ddf63e",
    "scrolled": true
   },
   "outputs": [
    {
     "data": {
      "text/html": [
       "\n",
       "  <div id=\"df-f3dd34e8-57d9-4d4f-bf7c-bc84eaf0853e\">\n",
       "    <div class=\"colab-df-container\">\n",
       "      <div>\n",
       "<style scoped>\n",
       "    .dataframe tbody tr th:only-of-type {\n",
       "        vertical-align: middle;\n",
       "    }\n",
       "\n",
       "    .dataframe tbody tr th {\n",
       "        vertical-align: top;\n",
       "    }\n",
       "\n",
       "    .dataframe thead th {\n",
       "        text-align: right;\n",
       "    }\n",
       "</style>\n",
       "<table border=\"1\" class=\"dataframe\">\n",
       "  <thead>\n",
       "    <tr style=\"text-align: right;\">\n",
       "      <th>col_0</th>\n",
       "      <th>0</th>\n",
       "      <th>1</th>\n",
       "    </tr>\n",
       "    <tr>\n",
       "      <th>row_0</th>\n",
       "      <th></th>\n",
       "      <th></th>\n",
       "    </tr>\n",
       "  </thead>\n",
       "  <tbody>\n",
       "    <tr>\n",
       "      <th>0</th>\n",
       "      <td>75</td>\n",
       "      <td>1</td>\n",
       "    </tr>\n",
       "    <tr>\n",
       "      <th>1</th>\n",
       "      <td>7</td>\n",
       "      <td>17</td>\n",
       "    </tr>\n",
       "  </tbody>\n",
       "</table>\n",
       "</div>\n",
       "      <button class=\"colab-df-convert\" onclick=\"convertToInteractive('df-f3dd34e8-57d9-4d4f-bf7c-bc84eaf0853e')\"\n",
       "              title=\"Convert this dataframe to an interactive table.\"\n",
       "              style=\"display:none;\">\n",
       "        \n",
       "  <svg xmlns=\"http://www.w3.org/2000/svg\" height=\"24px\"viewBox=\"0 0 24 24\"\n",
       "       width=\"24px\">\n",
       "    <path d=\"M0 0h24v24H0V0z\" fill=\"none\"/>\n",
       "    <path d=\"M18.56 5.44l.94 2.06.94-2.06 2.06-.94-2.06-.94-.94-2.06-.94 2.06-2.06.94zm-11 1L8.5 8.5l.94-2.06 2.06-.94-2.06-.94L8.5 2.5l-.94 2.06-2.06.94zm10 10l.94 2.06.94-2.06 2.06-.94-2.06-.94-.94-2.06-.94 2.06-2.06.94z\"/><path d=\"M17.41 7.96l-1.37-1.37c-.4-.4-.92-.59-1.43-.59-.52 0-1.04.2-1.43.59L10.3 9.45l-7.72 7.72c-.78.78-.78 2.05 0 2.83L4 21.41c.39.39.9.59 1.41.59.51 0 1.02-.2 1.41-.59l7.78-7.78 2.81-2.81c.8-.78.8-2.07 0-2.86zM5.41 20L4 18.59l7.72-7.72 1.47 1.35L5.41 20z\"/>\n",
       "  </svg>\n",
       "      </button>\n",
       "      \n",
       "  <style>\n",
       "    .colab-df-container {\n",
       "      display:flex;\n",
       "      flex-wrap:wrap;\n",
       "      gap: 12px;\n",
       "    }\n",
       "\n",
       "    .colab-df-convert {\n",
       "      background-color: #E8F0FE;\n",
       "      border: none;\n",
       "      border-radius: 50%;\n",
       "      cursor: pointer;\n",
       "      display: none;\n",
       "      fill: #1967D2;\n",
       "      height: 32px;\n",
       "      padding: 0 0 0 0;\n",
       "      width: 32px;\n",
       "    }\n",
       "\n",
       "    .colab-df-convert:hover {\n",
       "      background-color: #E2EBFA;\n",
       "      box-shadow: 0px 1px 2px rgba(60, 64, 67, 0.3), 0px 1px 3px 1px rgba(60, 64, 67, 0.15);\n",
       "      fill: #174EA6;\n",
       "    }\n",
       "\n",
       "    [theme=dark] .colab-df-convert {\n",
       "      background-color: #3B4455;\n",
       "      fill: #D2E3FC;\n",
       "    }\n",
       "\n",
       "    [theme=dark] .colab-df-convert:hover {\n",
       "      background-color: #434B5C;\n",
       "      box-shadow: 0px 1px 3px 1px rgba(0, 0, 0, 0.15);\n",
       "      filter: drop-shadow(0px 1px 2px rgba(0, 0, 0, 0.3));\n",
       "      fill: #FFFFFF;\n",
       "    }\n",
       "  </style>\n",
       "\n",
       "      <script>\n",
       "        const buttonEl =\n",
       "          document.querySelector('#df-f3dd34e8-57d9-4d4f-bf7c-bc84eaf0853e button.colab-df-convert');\n",
       "        buttonEl.style.display =\n",
       "          google.colab.kernel.accessAllowed ? 'block' : 'none';\n",
       "\n",
       "        async function convertToInteractive(key) {\n",
       "          const element = document.querySelector('#df-f3dd34e8-57d9-4d4f-bf7c-bc84eaf0853e');\n",
       "          const dataTable =\n",
       "            await google.colab.kernel.invokeFunction('convertToInteractive',\n",
       "                                                     [key], {});\n",
       "          if (!dataTable) return;\n",
       "\n",
       "          const docLinkHtml = 'Like what you see? Visit the ' +\n",
       "            '<a target=\"_blank\" href=https://colab.research.google.com/notebooks/data_table.ipynb>data table notebook</a>'\n",
       "            + ' to learn more about interactive tables.';\n",
       "          element.innerHTML = '';\n",
       "          dataTable['output_type'] = 'display_data';\n",
       "          await google.colab.output.renderOutput(dataTable, element);\n",
       "          const docLink = document.createElement('div');\n",
       "          docLink.innerHTML = docLinkHtml;\n",
       "          element.appendChild(docLink);\n",
       "        }\n",
       "      </script>\n",
       "    </div>\n",
       "  </div>\n",
       "  "
      ],
      "text/plain": [
       "col_0   0   1\n",
       "row_0        \n",
       "0      75   1\n",
       "1       7  17"
      ]
     },
     "execution_count": 49,
     "metadata": {},
     "output_type": "execute_result"
    }
   ],
   "source": [
    "# confusion matrix\n",
    "total_preds=np.array(total_preds) \n",
    "pd.crosstab(test_y, total_preds)\n"
   ]
  },
  {
   "cell_type": "code",
   "execution_count": null,
   "metadata": {},
   "outputs": [],
   "source": []
  },
  {
   "cell_type": "markdown",
   "metadata": {},
   "source": [
    "# We can do a little research to analyze the fake reviews to understand their main keywords"
   ]
  },
  {
   "cell_type": "code",
   "execution_count": null,
   "metadata": {
    "colab": {
     "base_uri": "https://localhost:8080/"
    },
    "executionInfo": {
     "elapsed": 56,
     "status": "ok",
     "timestamp": 1647883990327,
     "user": {
      "displayName": "Jose Carlos Romero Moreno",
      "photoUrl": "https://lh3.googleusercontent.com/a-/AOh14GjzF8xkOOGIRSxLmltpndj0IEhQZ_eRXV20jAtklg=s64",
      "userId": "18382225234885919746"
     },
     "user_tz": -120
    },
    "id": "NGsBK30jqOko",
    "outputId": "7744bbef-e25a-4792-c6e1-17068e0bd981"
   },
   "outputs": [
    {
     "data": {
      "text/plain": [
       "100"
      ]
     },
     "execution_count": 50,
     "metadata": {},
     "output_type": "execute_result"
    }
   ],
   "source": [
    "len(test_y)"
   ]
  },
  {
   "cell_type": "code",
   "execution_count": null,
   "metadata": {
    "colab": {
     "base_uri": "https://localhost:8080/"
    },
    "executionInfo": {
     "elapsed": 112,
     "status": "ok",
     "timestamp": 1647883990899,
     "user": {
      "displayName": "Jose Carlos Romero Moreno",
      "photoUrl": "https://lh3.googleusercontent.com/a-/AOh14GjzF8xkOOGIRSxLmltpndj0IEhQZ_eRXV20jAtklg=s64",
      "userId": "18382225234885919746"
     },
     "user_tz": -120
    },
    "id": "pxU7FeKmqKJN",
    "outputId": "88ecb247-25cd-448a-da4e-e7f6d200ff12"
   },
   "outputs": [
    {
     "data": {
      "text/plain": [
       "(array([ 5,  8,  9, 13, 14, 19, 26, 32, 44, 45, 52, 61, 67, 68, 74, 84, 85,\n",
       "        99]),)"
      ]
     },
     "execution_count": 55,
     "metadata": {},
     "output_type": "execute_result"
    }
   ],
   "source": [
    "np.where(total_preds==1)"
   ]
  },
  {
   "cell_type": "code",
   "execution_count": null,
   "metadata": {
    "colab": {
     "base_uri": "https://localhost:8080/"
    },
    "executionInfo": {
     "elapsed": 100,
     "status": "ok",
     "timestamp": 1647883990900,
     "user": {
      "displayName": "Jose Carlos Romero Moreno",
      "photoUrl": "https://lh3.googleusercontent.com/a-/AOh14GjzF8xkOOGIRSxLmltpndj0IEhQZ_eRXV20jAtklg=s64",
      "userId": "18382225234885919746"
     },
     "user_tz": -120
    },
    "id": "jFMjRCAzrkQL",
    "outputId": "aaf1dead-1950-4dbb-e047-c78eff078f51"
   },
   "outputs": [
    {
     "data": {
      "text/plain": [
       "(array([ 5,  8,  9, 13, 14, 19, 26, 32, 44, 45, 52, 61, 67, 68, 74, 84, 85,\n",
       "        99]),)"
      ]
     },
     "execution_count": 56,
     "metadata": {},
     "output_type": "execute_result"
    }
   ],
   "source": [
    "index_thrustworthy=np.where(total_preds==1)\n",
    "index_thrustworthy"
   ]
  },
  {
   "cell_type": "code",
   "execution_count": null,
   "metadata": {
    "colab": {
     "base_uri": "https://localhost:8080/"
    },
    "executionInfo": {
     "elapsed": 87,
     "status": "ok",
     "timestamp": 1647883990900,
     "user": {
      "displayName": "Jose Carlos Romero Moreno",
      "photoUrl": "https://lh3.googleusercontent.com/a-/AOh14GjzF8xkOOGIRSxLmltpndj0IEhQZ_eRXV20jAtklg=s64",
      "userId": "18382225234885919746"
     },
     "user_tz": -120
    },
    "id": "jMRvzILOrrrB",
    "outputId": "f60f65e3-12c4-4086-c14f-fcbcd67fe969"
   },
   "outputs": [
    {
     "data": {
      "text/plain": [
       "110    ,\"Can't beat the quality for all of the featur...\n",
       "157    |<|start|>,\"I had previously a Galaxy S case t...\n",
       "362    <|start|>,\"The ID Case fits the Samsung Captiv...\n",
       "278    <|start|>,\"The phone is very good is a very go...\n",
       "464                                                    6\n",
       "377    ,\"I got the white case and it fits great.  It'...\n",
       "613    I purchased a&nbsp;<a data-hook=\"product-link-...\n",
       "211    <|start|>,\"I did a lot of research before fina...\n",
       "170    The clip has a good fit, and the phone feels q...\n",
       "539    ,\"I just received this case and holder today. ...\n",
       "295    <|start|>,\"I was looking for a 5V battery for ...\n",
       "250    ,\"I've been trading off between Symbian and An...\n",
       "529    Screen is Sharp and Magnetic \"\"PierNo\"\"\"\" patt...\n",
       "98     ,\"I was a bit skeptical of this headset, but i...\n",
       "23     <|start|>,\"I read many of the reviews for this...\n",
       "198    <|start|>,\"I was skeptical of buying this cabl...\n",
       "486    Note: I didn't know that intuit if it was in t...\n",
       "604     - It does cancel some of the sluggish USB speeds\n",
       "Name: reviewText, dtype: object"
      ]
     },
     "execution_count": 57,
     "metadata": {},
     "output_type": "execute_result"
    }
   ],
   "source": [
    "test_text.iloc[index_thrustworthy]"
   ]
  },
  {
   "cell_type": "markdown",
   "metadata": {},
   "source": [
    "### Here I identify reviews in chunks of 100 reviews, for computational limitations."
   ]
  },
  {
   "cell_type": "code",
   "execution_count": null,
   "metadata": {
    "id": "jRKQo3GdGpFX"
   },
   "outputs": [],
   "source": [
    "Array_Thrustworthy_0_100=[11, 14, 16, 37, 57, 69, 77, 81, 98]\n",
    "Array_Thrustworthy_100_200=[104, 140, 147, 157, 168, 177, 178, 184, 190, 193, 194, 196, 197]\n",
    "Array_Thrustworthy_200_300=[206, 215, 222, 230, 232, 235, 236, 240, 245, 248, 253, 265, 291,292]\n",
    "Array_Thrustworthy_300_400=[307, 331, 332, 340, 341, 345, 351, 362, 364, 376, 382, 390]\n",
    "Array_Thrustworthy_400_500=[403, 412, 414, 441, 478, 480, 481, 498]\n",
    "Array_Thrustworthy_500_600=[501, 503, 511, 513, 530, 559, 568, 582, 586, 590, 595]"
   ]
  },
  {
   "cell_type": "code",
   "execution_count": null,
   "metadata": {
    "id": "VWmob5OSaghR"
   },
   "outputs": [],
   "source": [
    "Array_Index_Complete=[11, 14, 16, 37, 57, 69, 77, 81, 98,104, 140, 147, 157, 168, 177, 178, 184, 190, 193, 194, 196, 197,206, 215, 222, 230, 232, 235, 236, 240, 245, 248, 253, 265, 291,292,307, 331, 332, 340, 341, 345, 351, 362, 364, 376, 382, 390,403, 412, 414, 441, 478, 480, 481, 498,501, 503, 511, 513, 530, 559, 568, 582, 586, 590, 595]"
   ]
  },
  {
   "cell_type": "code",
   "execution_count": null,
   "metadata": {
    "id": "iT4CvB71bUBf"
   },
   "outputs": [],
   "source": []
  },
  {
   "cell_type": "code",
   "execution_count": null,
   "metadata": {
    "colab": {
     "base_uri": "https://localhost:8080/"
    },
    "executionInfo": {
     "elapsed": 77,
     "status": "ok",
     "timestamp": 1647883998688,
     "user": {
      "displayName": "Jose Carlos Romero Moreno",
      "photoUrl": "https://lh3.googleusercontent.com/a-/AOh14GjzF8xkOOGIRSxLmltpndj0IEhQZ_eRXV20jAtklg=s64",
      "userId": "18382225234885919746"
     },
     "user_tz": -120
    },
    "id": "mnwahGm4ao71",
    "outputId": "f90c4563-000d-4e52-d563-39830e19c842",
    "scrolled": true
   },
   "outputs": [
    {
     "name": "stdout",
     "output_type": "stream",
     "text": [
      "11     Bows out in the back, creating a gap that allows in whatever is in your pocket which then scratches the back of the phone, defeating the purpose of the case.\\n\\nWill try reaching out to the seller.  If I get a replacement (at no cost or hassle) that fits correctly I will promptly update this review.\\n\\nI like the case in concept, there is a small protrusion on the top and bottom which gives an additional small measure of protection.  At first I wasn't sure about that bit, but I've decided I like it.\\nThere's also enough coverage on the front to keep the screen off of a flat surface when placed screen down.\n",
      "14     At first I wasn't to sure about a Motorola droid phone as I owned a Samsung; but I have to say that I'm more than happy with this cell phone; after upgrading to ICS the menus and the applications are a lot faster; the battery duration is very good and I'm very suprised by the resolution of the display; It is a very cheap phone for the quality it has.                                                                                                                                                                                                                                                                     \n",
      "16     My biggest complaint about my iPhone is by far, the battery power. In my opinion, it just does not last as long as it should. The Mophie Juice Pack Plus is a great addition to my phone. I do a lot of traveling, and with that, comes the need to be in touch with work, family and friends. That takes up a lot of time and even more battery. This is an indispensable tool to have in my day to day life.  The only complaint I have is that you have to remove the case to use any line-in device you might have for the iPhone. Other than that...A+++                                                                        \n",
      "37     This battery was for an older LG phone. It was the same battery as the original and a LG brand. Works well with phone and the phone works like new. The battery arrived about four days earlier than estimated arrival date. My origianl battery can no longer hold a charge. This battery resolved the problem.                                                                                                                                                                                                                                                                                                                     \n",
      "57     <|start|>,\"I just received this today and tried them out. I was a little worried that they would not fit my olfactory bubble and the larger size, but they certainly are nice and snug. The olfactory area is very nicely ventilated. I can also hear my clients very well and really like their design. I didn't think that I would like the olfactory area but now that I know how to use them, I will.                                                                                                                                                                                                                            \n",
      "                                                                                                                                                                                                         ...                                                                                                                                                                                                                                                                                                                                                                                                                                \n",
      "568    I was quite taken back when I discovered on the box inside the charger that the actual cable was made by a different manufacturer! The end result is exactly the same as the original: a neat, neat little charger, but it's an actual pinhole in the USB port, NOT a micro USB cable. I'm not aware of any other product that provides true neat keys, so I'm left with the less expensive, cleaner, sanitary-scale charger.                                                                                                                                                                                                        \n",
      "582    I'm the worst when it comes to tripping, slipping and dropping my phone. The otterbox has been a life saver!  And call me weird, but as much as I love my iPhone its just too small and slick when it's not in the case so the otterbox adds some bulk and grip which is great for me.                                                                                                                                                                                                                                                                                                                                               \n",
      "586    I like that this case comes with a card (you need to bring both).  Card slots are provided for options such as foam or soft silicone.  I can't imagine there's anything unusual about combining two cases (of the same brand) and adding foam or soft silicone.  I'm quite happy about                                                                                                                                                                                                                                                                                                                                               \n",
      "590    I recently sent this unit flying into a brick wall, so im in the market again thats why im here now. The Clipper should be known as the chopper the unit does not seem to be able to hold on to a solid signal.  When you walk it cuts out, if you run it cuts out, sometimes if your just standing still it cuts outs.  went back to my corded headphones it was a good try but fails in the end.                                                                                                                                                                                                                                   \n",
      "595    Hey people! I mean u people with ANY complaints. Guess what? This is a $100 phone. It acts like a $100 phone should. If u wana whine about what it doesnt do. Then buy a $300 phone and quit whining cuz u were cheap to start with.... Ok maybe there is a battery issue. Maybe there is a memory issue. Its a $100 phone. Deal with it!                                                                                                                                                                                                                                                                                            \n",
      "Name: reviewText, Length: 67, dtype: object\n"
     ]
    }
   ],
   "source": [
    "print(df.iloc[Array_Index_Complete]['reviewText'])"
   ]
  },
  {
   "cell_type": "code",
   "execution_count": null,
   "metadata": {
    "colab": {
     "base_uri": "https://localhost:8080/"
    },
    "executionInfo": {
     "elapsed": 48,
     "status": "ok",
     "timestamp": 1647883998688,
     "user": {
      "displayName": "Jose Carlos Romero Moreno",
      "photoUrl": "https://lh3.googleusercontent.com/a-/AOh14GjzF8xkOOGIRSxLmltpndj0IEhQZ_eRXV20jAtklg=s64",
      "userId": "18382225234885919746"
     },
     "user_tz": -120
    },
    "id": "dFeOedC5bx7Y",
    "outputId": "c03f6265-102d-410d-d2ad-d992ccd47407",
    "scrolled": true
   },
   "outputs": [
    {
     "data": {
      "text/plain": [
       "11     Bows out in the back, creating a gap that allows in whatever is in your pocket which then scratches the back of the phone, defeating the purpose of the case.\\n\\nWill try reaching out to the seller.  If I get a replacement (at no cost or hassle) that fits correctly I will promptly update this review.\\n\\nI like the case in concept, there is a small protrusion on the top and bottom which gives an additional small measure of protection.  At first I wasn't sure about that bit, but I've decided I like it.\\nThere's also enough coverage on the front to keep the screen off of a flat surface when placed screen down.\n",
       "14     At first I wasn't to sure about a Motorola droid phone as I owned a Samsung; but I have to say that I'm more than happy with this cell phone; after upgrading to ICS the menus and the applications are a lot faster; the battery duration is very good and I'm very suprised by the resolution of the display; It is a very cheap phone for the quality it has.                                                                                                                                                                                                                                                                     \n",
       "16     My biggest complaint about my iPhone is by far, the battery power. In my opinion, it just does not last as long as it should. The Mophie Juice Pack Plus is a great addition to my phone. I do a lot of traveling, and with that, comes the need to be in touch with work, family and friends. That takes up a lot of time and even more battery. This is an indispensable tool to have in my day to day life.  The only complaint I have is that you have to remove the case to use any line-in device you might have for the iPhone. Other than that...A+++                                                                        \n",
       "37     This battery was for an older LG phone. It was the same battery as the original and a LG brand. Works well with phone and the phone works like new. The battery arrived about four days earlier than estimated arrival date. My origianl battery can no longer hold a charge. This battery resolved the problem.                                                                                                                                                                                                                                                                                                                     \n",
       "57     <|start|>,\"I just received this today and tried them out. I was a little worried that they would not fit my olfactory bubble and the larger size, but they certainly are nice and snug. The olfactory area is very nicely ventilated. I can also hear my clients very well and really like their design. I didn't think that I would like the olfactory area but now that I know how to use them, I will.                                                                                                                                                                                                                            \n",
       "                                                                                                                                                                                                         ...                                                                                                                                                                                                                                                                                                                                                                                                                                \n",
       "568    I was quite taken back when I discovered on the box inside the charger that the actual cable was made by a different manufacturer! The end result is exactly the same as the original: a neat, neat little charger, but it's an actual pinhole in the USB port, NOT a micro USB cable. I'm not aware of any other product that provides true neat keys, so I'm left with the less expensive, cleaner, sanitary-scale charger.                                                                                                                                                                                                        \n",
       "582    I'm the worst when it comes to tripping, slipping and dropping my phone. The otterbox has been a life saver!  And call me weird, but as much as I love my iPhone its just too small and slick when it's not in the case so the otterbox adds some bulk and grip which is great for me.                                                                                                                                                                                                                                                                                                                                               \n",
       "586    I like that this case comes with a card (you need to bring both).  Card slots are provided for options such as foam or soft silicone.  I can't imagine there's anything unusual about combining two cases (of the same brand) and adding foam or soft silicone.  I'm quite happy about                                                                                                                                                                                                                                                                                                                                               \n",
       "590    I recently sent this unit flying into a brick wall, so im in the market again thats why im here now. The Clipper should be known as the chopper the unit does not seem to be able to hold on to a solid signal.  When you walk it cuts out, if you run it cuts out, sometimes if your just standing still it cuts outs.  went back to my corded headphones it was a good try but fails in the end.                                                                                                                                                                                                                                   \n",
       "595    Hey people! I mean u people with ANY complaints. Guess what? This is a $100 phone. It acts like a $100 phone should. If u wana whine about what it doesnt do. Then buy a $300 phone and quit whining cuz u were cheap to start with.... Ok maybe there is a battery issue. Maybe there is a memory issue. Its a $100 phone. Deal with it!                                                                                                                                                                                                                                                                                            \n",
       "Name: reviewText, Length: 67, dtype: object"
      ]
     },
     "execution_count": 91,
     "metadata": {},
     "output_type": "execute_result"
    }
   ],
   "source": [
    "df.iloc[Array_Index_Complete]['reviewText']"
   ]
  },
  {
   "cell_type": "markdown",
   "metadata": {},
   "source": [
    "# Now we install KEYBERT, a model based on BERT to analyze a text and report the main keywords"
   ]
  },
  {
   "cell_type": "code",
   "execution_count": null,
   "metadata": {
    "colab": {
     "base_uri": "https://localhost:8080/"
    },
    "executionInfo": {
     "elapsed": 7736,
     "status": "ok",
     "timestamp": 1647884006397,
     "user": {
      "displayName": "Jose Carlos Romero Moreno",
      "photoUrl": "https://lh3.googleusercontent.com/a-/AOh14GjzF8xkOOGIRSxLmltpndj0IEhQZ_eRXV20jAtklg=s64",
      "userId": "18382225234885919746"
     },
     "user_tz": -120
    },
    "id": "crRVCJvbbbp3",
    "outputId": "7ff74b1e-0463-4ad0-bbf9-3be10a8d3467"
   },
   "outputs": [
    {
     "name": "stdout",
     "output_type": "stream",
     "text": [
      "Collecting keybert\n",
      "  Downloading keybert-0.5.0.tar.gz (19 kB)\n",
      "Collecting sentence-transformers>=0.3.8\n",
      "  Downloading sentence-transformers-2.2.0.tar.gz (79 kB)\n",
      "\u001b[K     |████████████████████████████████| 79 kB 6.0 MB/s \n",
      "\u001b[?25hRequirement already satisfied: scikit-learn>=0.22.2 in /usr/local/lib/python3.7/dist-packages (from keybert) (1.0.2)\n",
      "Requirement already satisfied: numpy>=1.18.5 in /usr/local/lib/python3.7/dist-packages (from keybert) (1.21.5)\n",
      "Collecting rich>=10.4.0\n",
      "  Downloading rich-12.0.0-py3-none-any.whl (224 kB)\n",
      "\u001b[K     |████████████████████████████████| 224 kB 28.1 MB/s \n",
      "\u001b[?25hRequirement already satisfied: typing-extensions<5.0,>=3.7.4 in /usr/local/lib/python3.7/dist-packages (from rich>=10.4.0->keybert) (3.10.0.2)\n",
      "Requirement already satisfied: pygments<3.0.0,>=2.6.0 in /usr/local/lib/python3.7/dist-packages (from rich>=10.4.0->keybert) (2.6.1)\n",
      "Collecting commonmark<0.10.0,>=0.9.0\n",
      "  Downloading commonmark-0.9.1-py2.py3-none-any.whl (51 kB)\n",
      "\u001b[K     |████████████████████████████████| 51 kB 7.4 MB/s \n",
      "\u001b[?25hRequirement already satisfied: joblib>=0.11 in /usr/local/lib/python3.7/dist-packages (from scikit-learn>=0.22.2->keybert) (1.1.0)\n",
      "Requirement already satisfied: scipy>=1.1.0 in /usr/local/lib/python3.7/dist-packages (from scikit-learn>=0.22.2->keybert) (1.4.1)\n",
      "Requirement already satisfied: threadpoolctl>=2.0.0 in /usr/local/lib/python3.7/dist-packages (from scikit-learn>=0.22.2->keybert) (3.1.0)\n",
      "Requirement already satisfied: transformers<5.0.0,>=4.6.0 in /usr/local/lib/python3.7/dist-packages (from sentence-transformers>=0.3.8->keybert) (4.17.0)\n",
      "Requirement already satisfied: tqdm in /usr/local/lib/python3.7/dist-packages (from sentence-transformers>=0.3.8->keybert) (4.63.0)\n",
      "Requirement already satisfied: torch>=1.6.0 in /usr/local/lib/python3.7/dist-packages (from sentence-transformers>=0.3.8->keybert) (1.10.0+cu111)\n",
      "Requirement already satisfied: torchvision in /usr/local/lib/python3.7/dist-packages (from sentence-transformers>=0.3.8->keybert) (0.11.1+cu111)\n",
      "Requirement already satisfied: nltk in /usr/local/lib/python3.7/dist-packages (from sentence-transformers>=0.3.8->keybert) (3.2.5)\n",
      "Collecting sentencepiece\n",
      "  Downloading sentencepiece-0.1.96-cp37-cp37m-manylinux_2_17_x86_64.manylinux2014_x86_64.whl (1.2 MB)\n",
      "\u001b[K     |████████████████████████████████| 1.2 MB 25.0 MB/s \n",
      "\u001b[?25hRequirement already satisfied: huggingface-hub in /usr/local/lib/python3.7/dist-packages (from sentence-transformers>=0.3.8->keybert) (0.4.0)\n",
      "Requirement already satisfied: requests in /usr/local/lib/python3.7/dist-packages (from transformers<5.0.0,>=4.6.0->sentence-transformers>=0.3.8->keybert) (2.23.0)\n",
      "Requirement already satisfied: sacremoses in /usr/local/lib/python3.7/dist-packages (from transformers<5.0.0,>=4.6.0->sentence-transformers>=0.3.8->keybert) (0.0.49)\n",
      "Requirement already satisfied: tokenizers!=0.11.3,>=0.11.1 in /usr/local/lib/python3.7/dist-packages (from transformers<5.0.0,>=4.6.0->sentence-transformers>=0.3.8->keybert) (0.11.6)\n",
      "Requirement already satisfied: regex!=2019.12.17 in /usr/local/lib/python3.7/dist-packages (from transformers<5.0.0,>=4.6.0->sentence-transformers>=0.3.8->keybert) (2019.12.20)\n",
      "Requirement already satisfied: filelock in /usr/local/lib/python3.7/dist-packages (from transformers<5.0.0,>=4.6.0->sentence-transformers>=0.3.8->keybert) (3.6.0)\n",
      "Requirement already satisfied: packaging>=20.0 in /usr/local/lib/python3.7/dist-packages (from transformers<5.0.0,>=4.6.0->sentence-transformers>=0.3.8->keybert) (21.3)\n",
      "Requirement already satisfied: pyyaml>=5.1 in /usr/local/lib/python3.7/dist-packages (from transformers<5.0.0,>=4.6.0->sentence-transformers>=0.3.8->keybert) (6.0)\n",
      "Requirement already satisfied: importlib-metadata in /usr/local/lib/python3.7/dist-packages (from transformers<5.0.0,>=4.6.0->sentence-transformers>=0.3.8->keybert) (4.11.2)\n",
      "Requirement already satisfied: pyparsing!=3.0.5,>=2.0.2 in /usr/local/lib/python3.7/dist-packages (from packaging>=20.0->transformers<5.0.0,>=4.6.0->sentence-transformers>=0.3.8->keybert) (3.0.7)\n",
      "Requirement already satisfied: zipp>=0.5 in /usr/local/lib/python3.7/dist-packages (from importlib-metadata->transformers<5.0.0,>=4.6.0->sentence-transformers>=0.3.8->keybert) (3.7.0)\n",
      "Requirement already satisfied: six in /usr/local/lib/python3.7/dist-packages (from nltk->sentence-transformers>=0.3.8->keybert) (1.15.0)\n",
      "Requirement already satisfied: certifi>=2017.4.17 in /usr/local/lib/python3.7/dist-packages (from requests->transformers<5.0.0,>=4.6.0->sentence-transformers>=0.3.8->keybert) (2021.10.8)\n",
      "Requirement already satisfied: chardet<4,>=3.0.2 in /usr/local/lib/python3.7/dist-packages (from requests->transformers<5.0.0,>=4.6.0->sentence-transformers>=0.3.8->keybert) (3.0.4)\n",
      "Requirement already satisfied: idna<3,>=2.5 in /usr/local/lib/python3.7/dist-packages (from requests->transformers<5.0.0,>=4.6.0->sentence-transformers>=0.3.8->keybert) (2.10)\n",
      "Requirement already satisfied: urllib3!=1.25.0,!=1.25.1,<1.26,>=1.21.1 in /usr/local/lib/python3.7/dist-packages (from requests->transformers<5.0.0,>=4.6.0->sentence-transformers>=0.3.8->keybert) (1.24.3)\n",
      "Requirement already satisfied: click in /usr/local/lib/python3.7/dist-packages (from sacremoses->transformers<5.0.0,>=4.6.0->sentence-transformers>=0.3.8->keybert) (7.1.2)\n",
      "Requirement already satisfied: pillow!=8.3.0,>=5.3.0 in /usr/local/lib/python3.7/dist-packages (from torchvision->sentence-transformers>=0.3.8->keybert) (7.1.2)\n",
      "Building wheels for collected packages: keybert, sentence-transformers\n",
      "  Building wheel for keybert (setup.py) ... \u001b[?25l\u001b[?25hdone\n",
      "  Created wheel for keybert: filename=keybert-0.5.0-py3-none-any.whl size=20491 sha256=5e497f2a866f39fbd34d2b1add39b4224eb055b156ed440a1d590427d030c36e\n",
      "  Stored in directory: /root/.cache/pip/wheels/99/1f/3f/590d2997adbb2d0e1f82e8ee05d42d6910e92c3ed283015ff8\n",
      "  Building wheel for sentence-transformers (setup.py) ... \u001b[?25l\u001b[?25hdone\n",
      "  Created wheel for sentence-transformers: filename=sentence_transformers-2.2.0-py3-none-any.whl size=120747 sha256=8b38e416860a5cedcdaa95c6df1171cce6ee90a0e6bf24ee93777fa7a0221221\n",
      "  Stored in directory: /root/.cache/pip/wheels/83/c0/df/b6873ab7aac3f2465aa9144b6b4c41c4391cfecc027c8b07e7\n",
      "Successfully built keybert sentence-transformers\n",
      "Installing collected packages: sentencepiece, commonmark, sentence-transformers, rich, keybert\n",
      "Successfully installed commonmark-0.9.1 keybert-0.5.0 rich-12.0.0 sentence-transformers-2.2.0 sentencepiece-0.1.96\n"
     ]
    }
   ],
   "source": [
    "pip install keybert"
   ]
  },
  {
   "cell_type": "code",
   "execution_count": null,
   "metadata": {
    "id": "ZKpbR0IlbqjD"
   },
   "outputs": [],
   "source": [
    "from keybert import KeyBERT\n",
    "kw_model = KeyBERT(model='all-mpnet-base-v2')"
   ]
  },
  {
   "cell_type": "code",
   "execution_count": null,
   "metadata": {
    "colab": {
     "base_uri": "https://localhost:8080/"
    },
    "executionInfo": {
     "elapsed": 584,
     "status": "ok",
     "timestamp": 1647884919732,
     "user": {
      "displayName": "Jose Carlos Romero Moreno",
      "photoUrl": "https://lh3.googleusercontent.com/a-/AOh14GjzF8xkOOGIRSxLmltpndj0IEhQZ_eRXV20jAtklg=s64",
      "userId": "18382225234885919746"
     },
     "user_tz": -120
    },
    "id": "JQksv2ONbqdl",
    "outputId": "d838f549-8111-49ee-886f-04e078aa0a30"
   },
   "outputs": [
    {
     "name": "stdout",
     "output_type": "stream",
     "text": [
      "[('learning', 0.4818), ('supervised', 0.4577), ('algorithm', 0.3128), ('labeled', 0.3111), ('inductive', 0.298)]\n"
     ]
    }
   ],
   "source": [
    "doc=\"\"\"\n",
    "         Supervised learning is the machine learning task of learning a function that\n",
    "         maps an input to an output based on example input-output pairs. It infers a\n",
    "         function from labeled training data consisting of a set of training examples.\n",
    "         In supervised learning, each example is a pair consisting of an input object\n",
    "         (typically a vector) and a desired output value (also called the supervisory signal). \n",
    "         A supervised learning algorithm analyzes the training data and produces an inferred function, \n",
    "         which can be used for mapping new examples. An optimal scenario will allow for the \n",
    "         algorithm to correctly determine the class labels for unseen instances. This requires \n",
    "         the learning algorithm to generalize from the training data to unseen situations in a \n",
    "         'reasonable' way (see inductive bias).\n",
    "      \"\"\"\n",
    "keywords = kw_model.extract_keywords(doc)\n",
    "print(keywords)"
   ]
  },
  {
   "cell_type": "code",
   "execution_count": null,
   "metadata": {
    "colab": {
     "base_uri": "https://localhost:8080/",
     "height": 140
    },
    "executionInfo": {
     "elapsed": 12,
     "status": "ok",
     "timestamp": 1647884921272,
     "user": {
      "displayName": "Jose Carlos Romero Moreno",
      "photoUrl": "https://lh3.googleusercontent.com/a-/AOh14GjzF8xkOOGIRSxLmltpndj0IEhQZ_eRXV20jAtklg=s64",
      "userId": "18382225234885919746"
     },
     "user_tz": -120
    },
    "id": "QElWLqG_bqY7",
    "outputId": "5de29589-5c63-41c3-ec33-afc7373be1ef"
   },
   "outputs": [
    {
     "data": {
      "application/vnd.google.colaboratory.intrinsic+json": {
       "type": "string"
      },
      "text/plain": [
       "'Bows out in the back, creating a gap that allows in whatever is in your pocket which then scratches the back of the phone, defeating the purpose of the case.\\n\\nWill try reaching out to the seller.  If I get a replacement (at no cost or hassle) that fits correctly I will promptly update this review.\\n\\nI like the case in concept, there is a small protrusion on the top and bottom which gives an additional small measure of protection.  At first I wasn\\'t sure about that bit, but I\\'ve decided I like it.\\nThere\\'s also enough coverage on the front to keep the screen off of a flat surface when placed screen down.At first I wasn\\'t to sure about a Motorola droid phone as I owned a Samsung; but I have to say that I\\'m more than happy with this cell phone; after upgrading to ICS the menus and the applications are a lot faster; the battery duration is very good and I\\'m very suprised by the resolution of the display; It is a very cheap phone for the quality it has.My biggest complaint about my iPhone is by far, the battery power. In my opinion, it just does not last as long as it should. The Mophie Juice Pack Plus is a great addition to my phone. I do a lot of traveling, and with that, comes the need to be in touch with work, family and friends. That takes up a lot of time and even more battery. This is an indispensable tool to have in my day to day life.  The only complaint I have is that you have to remove the case to use any line-in device you might have for the iPhone. Other than that...A+++This battery was for an older LG phone. It was the same battery as the original and a LG brand. Works well with phone and the phone works like new. The battery arrived about four days earlier than estimated arrival date. My origianl battery can no longer hold a charge. This battery resolved the problem.<|start|>,\"I just received this today and tried them out. I was a little worried that they would not fit my olfactory bubble and the larger size, but they certainly are nice and snug. The olfactory area is very nicely ventilated. I can also hear my clients very well and really like their design. I didn\\'t think that I would like the olfactory area but now that I know how to use them, I will.This is a GREAT headset, but please make note:  This headset will NOT WORK if your OS version on your BlackBerry is less than OS v4.6.  I have 4.5 on my BlackBerry, and none of the features worked at all.  Nothing I could do but return it.  This isn\\'t disclosed anywhere in the listing for this item, so make sure that your phone is compatible with t before you go through with the purchase.\\n\\nThat being said, if my phone had OS 4.6 or higher, this would be the one that I would have.  It\\'s a GREAT accessory with really great features.  Bums me that I had to return it.I was hoping this would work. It didn\\'t, and on top of that it smelled quite strong and bad (very rubbery). It doesn\\'t elevate the laptop nearly enough to allow the laptop\\'s own fan to work. The black rubber pads you see in the picture also became unglued from the silver plastic bottom, and would slide around...horrible. I got this instead:&nbsp;<a data-hook=\"product-link-linked\" class=\"a-link-normal\" href=\"/Cool-Lift-Portable-Notebook-Cooling-Pad/dp/B00028VKLI/ref=cm_cr_arp_d_rvw_txt?ie=UTF8\">Cool Lift Portable Notebook Cooling Pad</a>. Cheaper, and it works.first off the seller did a great job in shipping this item to me.\\n\\nUnfortunately it is junk.  You basically get what you pay for.  I waited two weeks to write this review.  After a week the connection to my phone became intermittent.\\n\\nI am not going to bother trying to do a warranty exchange as it is not worth the effort for the $$ involved.\\n\\nI threw it away.Love this, just wish the battery life lasted longer,I only use it to drive to and from work to be hands free, but I am constantly being reminded to \"charge\" it and it lasts only 1.5days, IF that long.The product was delivered on time and is a great purchase. The quality of the item is strong and I would recommend it to others.<|start|>,\"I did a lot of research before finally settling on a pet barrier for my brand new Subaru Forester.  This was the model I decided on.  I do not regret my choice, because I think I picked the best one out there.  I just wish there was something a little better.  It\\'s a great solution to a bad combination.  I\\'m a 38ers fan, so I guess I just had luck...You would think this was an Otter Box. The case is excellent and the Red and Blue colors are beautiful the only flaw is the charge port cover and ear peice plug cover are loose fitting. I\\'m glad I got this case both for the excellent protection if dropped and the price is excellent.The three pack of screen protectors arrived in the mail today, two days after I placed the order and a day earlier than Amazon\\'s earliest estimate. Not only did they arrive early, but the three of them were individually packaged.\\n\\nIt took all of two minutes to install it using the very easy, four-step instructions. All you have to do is simply clean your phone using the included cloth, peel the protector backing, apply, and smooth out the bubbles. No complicated fuss. If you mess up the installation (as I did the first time), you can simply peel the protector back and reapply, not to mention that there are two more included.\\n\\nOn the downside, there is one pain in the tuckus that almost made me remove a star. The backing and the protector itself each have a little sticker tab on them to make it easier to separate the two. However, once the protector is installed, the sticker is ridiculously hard to get off the thing completely. This step took 3/4 of the total time.\\n\\nAfter that, though, I have absolutely no complaints. The screen protector literally invisible once installed. It does make the phone touch capability a little more resistive, but the pressure required is still very slight.\\n\\nI highly recommend the product for the $4 (with shipping) I paid for it. I plan on giving one to a friend of mine who has the same phone and keeping the other as a spare. Would order again.\\n\\nUPDATE\\n\\nI\\'ve now been using these for almost a year. I have to say, I\\'m very pleased with the results. I\\'m on my second one now, after replacing the first one due to scratches. All of the above still applies, still 1000% satisfied with the product.I got this for my LG phone and so far so good, it snapped right into place, I have not had it for long but it looks like it will last for a while, it\\'s much brighter than the picture kind of a hot neon pink color but it\\'s cute though.If you still donThis case is very nice especially for the $6 I paid for it.  It is stretchy enough to fit my Razr with a rubber sleeve around it.  The magnet that holds it closed could be a bit stronger.  The belt clip is very firm, holding the case on my belt well.Nothing much to say other than...\\n\\n1. It works as claimed.  Charge and sync capable - tested with several Android devices: Droid Charge, HTV EVO, Droid X, etc.\\n\\n2. It\\'s lightweight. Retractable thing is handy.\\n\\n3. It held together still after 6 months of use. However, I am pretty careful extending and retracting.\\n\\nThe Amzer logo label fell off, but it doesn\\'t bother me.I had this for a long time and I always get compliments on it.  The only thing about it is that it is VERY bulky.  I had it for a very long time and had to replace it every couple of months.  I hated it.  Now I hate it.  The only thing it offers me is an enormousGood material, sturdy and well made. Personally, installation was a bit of a chore. The manual (and online installation videos) mentioned removing tab 2. When you remove tab 1, you pull off a perfectly clear layer, and what is left is a hazy opaque layer. This leaves you to believe there will be another layer to peel off, but there isn\\'t. At first I thought they\\'d forgotten to put a 2nd tab on all of my sheets, but the last bit of the instructions does mention you may only have 1 layer. My first try had too many bubbles (sometimes you get tiny ones that just won\\'t go away, no matter how hard you try). The 2nd attempt got a piece of lint or something that floated between the screen as I applied it. The 3rd time was near perfect. Don\\'t try and line it up exactly on the edges...it will be off-center from the camera if you do that. You need to give it a little less than a 16th of an inch at the bottom and edge. My only concern is when you are getting rid of bubbles...since you don\\'t have a 2nd layer to peel off after removing bubbles, it is possible to scratch the plastic if you push too hard and your fingernail or other object is touching the screen. But using force is how you get rid of the tiniest bubbles.Got this in the other day and I am very pleased with it. I like how it has a clear slot for photo id\\'s and an extra slot underneath the card slots for money. I am also very pleased with the way my iPhone fits into it. i feel as if it is going to protect it. All in all, this is a very useful item I would recommend it to a friend. I also like how I can just throw this into a small purse and have everything I need.Seems hard to find a holster for this phone, especially one that doesn\\'t expose the screen to potential damage (outward facing instead of inward facing). So I bought this one in spite of some of the reviews.\\n\\nI\\'ve had it for a week or so, and it\\'s holding up so far.\\n\\nPros:\\n - Lightweight\\n - Fairly easy to put on and remove from belt.\\n\\nCons:\\n - Body plastic is fairly flimsy\\n - The retaining clip which keeps the phone from falling out of the holster is very blocky with hard edges. It can and does dig into your side.\\n - Difficult to get the phone out of the holster. There is only a small area next to the retaining clip to get your finger into once you release the clip.\\n\\nI work in a warehouse environment, so we\\'ll have to see how well it holds up.\\n\\nUpdate June 17, 2012: Well, I\\'ve broken two of these now. The first was doing fine until I was getting out of the passenger seat of my wife\\'s tiny car. I\\'m right-handed, so it was on my right side, and caught on the door frame of the car. The holster made very little fuss as the clip snapped right off.\\n\\nThe second one broke today. We were looking at furniture, and I sat in a recliner. The belt clipped snapped off when the phone was pressed against me and the chair arm. I guess the Spanish Inquisition were right in their use of the comfy chair as a torture device (j/k).\\n\\nSo, I\\'ve downgraded the rating from 3 to 2, and won\\'t be buying another one. Instead I\\'ve just spent $40 on a holster/case combo. Stay away from this holster, unless you never move.Cons:I just want to confirm,\\nThis unit will work fine on both Galaxy S2 and Galaxy Nexus\\nBut as previously mentioned, the Media Storage will not work on the Galaxy nexus as it lacks the drivers I think,\\nBut I did try it on a Galaxy S2 and it did recognize my flash drive (32 GB) and I was able to play movies directly from the drive..Just received the Defender case and so far very impressed.  Great fit on the phone, and works as described.  Protects ports from dust and debris, and buttons are all still very easy to use.  Screen cover is very clear, and doesn\\'t reduce responsiveness of touch screen at all.\\n\\nI would highly recommend it.The only downside is not comparing! The cables are a bit cheaply made and it takes a bit of finesse to finish the job.\",<|start|>,\"I\\'ve been trading off between Symbian and Android for the past few years and thought I was through with Nokia after the n97 mini with its resistive screen and sluggish design. But I was tempted by the N8\\'s camera and have been pleased by the UI improvements of Symbian ^3.  My N8 has been fast and rock solid.  No dropped calls or any strange hardware problems.  My N9 is rock solid!  I\\'m using it with the HTC EVO 4G LTE signal, which is a plus.  My wife is also using the Nokia Lumia 900, which is a minus.  She is using it with the EVO 4G LTE signal and is far happier with it.  The Symbian 3.0 build of this phone does make it easier (if not easier than I had imagined)  to switch from phone to phone, but  the \"\"hardware\"\" challenges are much more difficult.  Without any fancy OS or carrier support,I would not recommend this phone to anyone who has the Acase Touch screen protectors.  They should have fit more like the ones the CR-007 protectors come with.  The Acase screen protectors are much less expensive, but have a much better chance of causing a burning issue with the touch screen.  recommend!\",<|~~~~~~~~~~~~~~~~~~~~~~~~~~~~~~~~~~~~~~~~This case appears to protect the Droid4 better then the Otterbox case.\\nAlso the Otterbox has a tall thing top frame that is uncomfortable against the ear, the Trident case has a wide flat topped frame that is acceptable.\\nThe wide frame does hinder access to the number keys, but I can still access them and this case will be used when I need the additional protection. (working on hard surfaces)\\nThe Puregear kickstand case is my everyday case.I really like these but the quality is not great. I would have gladly paid a little more to have ones that last.  I ordered multiples to give to friends.  None of ours lasted.I have gotten a few solar powered chargers and have been consistently disappointed. I guess this is as good as it gets when it comes to portable solar chargers which isn\\'t saying much. I do like its portability and two panels. Also, while I like that it can directly charge something via USB, I don\\'t like how it doesn\\'t come with some kind of battery period. They advertise this like it\\'s some kind of bonus or something...the fact that it doesn\\'t come with something?? For as expensive as it is, you would think it would come with some kind of external battery to connect. That way you can still have the concept of not having to wait for an internal battery to charge before being able to charge your device, but you have to option of charging an external battery if you want as well.\\n\\nI think I might have had high expectations for this thing as I have been so gravely disappointed with other solar chargers in the past. But even this, the best one I\\'ve found thus far, still will charge a portable battery in the sun all day and not even put a dent in it. I mean, not even 10%. But maybe that is just to be expected of all solar chargers I suppose... So I give it three stars. It is the best I\\'ve found, but not the best it could  be.This is not a 5* case.  Mostly because the phone doesn\\'t lock in real snugly.  Snugly enough though to warrant a strong 4* rating.  I ordered multiple different cases for my Note 2.  This is the most attractive, of them all.  I know it isn\\'t, but it looks like real leather.  It provides a good view angle for watching media.  It isn\\'t going to be my everyday case.  That is an X line plastic case that I ordered through Amazon, that really looks and feels great.  This case however will be used at times.  It offer nice screen protection when closed.  It would fit in fine, in a boardroom.  I am very pleased with it, especially considering the price.  I will order from Bear Motion again.I had a close friend see this particular cell phone cover on my dining room table (it had just been delivered in the mail) and she tried to make it fit her iPhone 3!  She wanted it so bad.  I told her where I purchased it and how she could find covers for her specific phone on Amazon.  I hope she found this one for her phone.  I have 7 new cell covers and I love each one equally.  Sort of like your kids!  You don\\'t have a favorite, you adore each one!I had a previous Speck case for an iPhone 4 when Apple was issuing free cases after the reception debacle a few years ago. It was the best case I have ever had. I prefer a rubberized grip case that gives a good grip, but is still relatively lightweight. Even the Apple store employees have recommended this case as a favorite and it is easy to see why. It is easy to add your phone, provides protection and some lightweight drop protection if dropped on the side or back (also pointed out by an Apple employee). There are the necessary openings for your peripherals and a covered button for the On/Off switch. The grip is great and you can charge and sync in the case with no problems! This is the only case I use for my phones. I highly recommend them.I ordered mine for HTC EVO. The quality was better than I expected. Most of the silicone covers have a wide opening in the back for flash, camera & speaker. But the one I got, has 3 small individual opening for each of the 3 above, adds more protection. It does not smell like some other silicon skins that I have seen. Just be careful which amazon seller you buy it from.What? It is a locked phone! Why you say it is an unlocked phone? Although it is a good cell phone, I want to return back.This case is easy to put on, doesn\\'t impeded buttons (even though some buttons to have the case over them), and protects the phone against small falls. It\\'s very slim and doesn\\'t add much additional size to the phone, so it still fits in my front pocket without issue. This is my second case of this type (also have the smoke color), and these are much better than other cases we\\'ve used.I really have enjoyed using this headphone amplifier. It is easier to hear everything with using these and my awesome headphones. I have used these with two different headphones. I am not an audiophile my any means, but I still have really enjoyed using this Fiio E6 headphone amp.\\n\\nAs for the splitter - nothing is wrong with it. A little flimsy, but it is built well where it matters. I have enjoyed using this too!\\n\\nGreat overall purchase. I highly recommend this product and think that anyone wanting more focused sound needs to look here\\n\\nFelt the need to update this review a little since it is a little out of date. I have recently used this amp to power my audiotechnica headphones. When I was studying, it gave the music a very solid sound. I used this amp because I like to listen to instrumental music while studying. The music was so clear. Even after using this amp for nearly 4 years, it still is up to par. For the price, what more could you ask for from a portable headphone amp. I paid full price for this amp and provided my honest opinion because I hope to help out any potential buyer to know what my thoughts were on it. Hopefully this helped!.<|start|>,\"The case fits my Nokia N8-01 with all ports secured. The case is made out of a soft rubber material and feels good in the hand. It slips closed and close enough that I don\\'t want to slip my phone into the case every time I need to access it.  The case also slips closed enough that it doesn\\'t make contact with any buttons.  The volume rocker and power users users users only, but open to the whole world.Almost impossible to put your iPhone into this case and 10 times harder to remove your iPhone.\\n\\nThe case is slick looking but they should have used an outer shell which was a little more flexible.,\"Can\\'t beat the quality for all of the features and the price.  It\\'s a great deal.  The only problem I have with it is the size.  I got the smaller version and it fits me perfectly.  It fits me perfectly when I sit back and watch the sunset set video.  It\\'s small but so wonderful.  I adore it.\",I am careful with my things. I almost never lose anything. I bought this case so I had a consistent place to store my Voyager Pro headset as I don\\'t always wear shirts with pockets and don\\'t like to put my headset in the same pocket as my work phone or keys. I\\'ve had my headset since just after Christmas and haven\\'t lost it despite having in in various different pockets depending upon what I was wearing. I get this case and within 3 days, it had fallen off my belt. Now I\\'m out both the cost of the case and the headset that it was supposed to protect.\\n\\nDO NOT BUY THIS PRODUCT IF YOU INTEND TO WEAR IT ON YOUR BELT! YOU WILL END UP LOSING YOUR HEADSET!!!Otterbox for galaxy note looks elegant and feels durable. Perfectly fits the Galaxy Note. Easy to install and comes with two\\nscreen protectors- for the International and U.S. versions. THE BEST! I ended up discarding my Elago white slim case.This is a very handy product!  Having the retractable cord allows you to stow it away so you don\\'t have cords running all over your car.  I wish more products had cords like this.I purchased this phone as an upgrade from my Optimus V I owned for one year. Touch screens are fun, but a keyboard is the most efficient and fastest way to text/email. The Optimus Slider has basically the same layout of the other phone, but has a faster processor and a brighter, cleaner looking display. The call quality is clear as well. The keyboard is easy to use and has decent sized keys. The phone feels solid and substantial in my hand. Obviously, a screen protector and case are needed to protect the phone from getting beat up. Virgin Mobile\\'s plan is cost effective and reasonable. I\\'ve had no problem with their service since I signed on in 2006 after getting fed up with the ever rising costs of being locked into a contract with ATT. This phone works well for me and the only thing preventing me from giving it 5 stars is what everyone mentions: lack of battery life. Obviously, that is just part of owning a smartphone. The limitation can be worked around by tweaking the brightness and limiting some of the running apps. Anyone looking for a reasonable cell plan and good performing phone should not hesitate to purchase this phone. It does everything I need and more. Very happy with my purchase!<|start|>,\"I read many other reviews before I made my purchase that said the clip snapped on poorly and did not work.  I tried sewing it to look like a flimsy cable but after 30 days it broke.  I tried everything to make it work.  It is poorly made and has many problems.  I wanted to return it and get another one.  It snaps on easily and stays on even after you open it the next day.  It is made to look like a penny tube so you don\\'t waste your money.  You can\\'t have it both ways.  I will not buy from them again.I was looking for a power block that would allow me to charge my iPad 3G 64GB and Kindle 2nd generation at the same time.  I will mix in my iPhone 4 at times as well.  This block does all those things just fine and works as promised.  The only thing is that it\\'s footprint of course is a little larger than just a single power block for example that from Apple.  I would recommend this for my uses as an item that works just as it should.CONS (What this Battery Is not):I love this blue case & holster (both have kickstands).  I bought this for my new galaxy note 2. I love it. It is sweet. No ports get blocked and there is easy access when you have to charge the phone. So in all I am very pleased with this item.I love love love these things. This was for my wife\\'s phone. I have the same thing on my droid. These are not your normal hard plastic screen protectors. They\\'re more like ruggedized clear window tinting. This is the same plastic used by the military to protect helicopter blades from wear. Lifetime replacement warranty.\\n\\nThey use a \"wet\" method to install. U have to make sure there is NO lint around. Comes with a sprayer and sqeege. Takes about 10 minutes to install. Make sure you turn your phone off and remove the battery first. Get BOTH sides of the film very wet and put it in the exact position you want, then squeegee the air out working from the center out. There will be small micro-bubbles for a day or two until it fully dries. Once it does it\\'ll be flawless. If you notice bubbles from dirt or something just peel up slowly from a corner, clean, re-wet and re-apply.\\n\\nBest screen protector i\\'ve ever owned.I have looked so many I phone 5 cases.  I have found this one to be the most perfect.  Fits tight, light weight.The phone recognizes the \"clone\" battery and complains of unsupported battery at power up.  However, the phone works until the battery runs out of juice then it won\\'t charge it.  The charger will charge the original battery just fine.  Samsung, stop this nonsense!  We paid you enough!!!\\nWith three batteries on hand, I won\\'t fear of not having access to the phone while it being charged. The charger also serves as night-light while it plugs into the socket with its red/green leds.  Another use, for free!Looks cool, but connect is loose, phone moves easy. I would not buy again. Mine is in a desk drawer.This screnn protector works awesome. It came packaged real well and arrived quicker than i thought. They sent me a email link with a quick tutorial about how to install the protector easily and with no annoying bubbles. The protector fit perfectly, didn\\'t block camera or speaker and covered the screen completely. I even tried to scratch the screen by lightly rubbing keys on the screen like they would if put in your pocket and didn\\'t damage it at all. With 3 protectors and the cheap price you can\\'t find a better choice out there.it\\'s cheap and does the job. I suggest this product for nature enthusiasts, The lens is exactly like you would expect for iPhone photography.I have only used this case for about a week and the entire rubber coating that protects the color is peeling off and the paint is coming off too. Looked good maybe 1 whole day.I\\'ve went through a few cases from Case Crown, Elago and now Incase.\\n\\nThe case looks great but I do agree, in some lighting conditions, the top part does look purplish but not that much.\\n\\nI love the soft feeling top and the glossy bottom. It gives the phone a great look.\\n\\nIf you have a screen protector on it, there\\'s going to be a 95% chance the slider is going to cause it to bubble. I think that\\'s why Incase charges $20 for their custom fit screen protectors which fits the screen area with the case on.\\n\\nFor $7 and some change, you can\\'t go wrong with this case.\\n\\nAnother thing, no flash problems when using the camera with the case on.<|start|>,\"Order this item to replace my entire case that I purchased through Amazon. The fit is poor and the material is really soft. It makes your phone much more slippery. With soap and water you can remove the case but it will not sulk over your phone and slide it onto your phone. Also, the opening for the charging port is pretty small and obtrusive. Thats, it is good for the iPhone 4S, but not great for the iPhone. The plastic is easily scratched up. Even with the case sagged over most of it\\'s life there are still fingerprints to wipe off the hard plastic. It also covers the opening for the rear camera. The flash is fine, just not as large as the Xoom. I wouldn\\'t recommend this item unless you are absolutely desperate. The price is great because it really cuts down on your monthly bills. It also doesn\\'t cost as much as other cheaper cases that you can get your fingers going on the cheap side by side. OverallSettings it comes with which works well for me.I bought this thinking it would be great to be able to use my phone on my motorcycle while riding and being able to use the GPS. Although it hold the phone great, you cannot connect the charger because the \"Grips\" block my Droid power inlet and that really sucks. If you plan on using it as a GPS and would like to have the charges plugged in, this it not the one.So my wife is having a hard time with the phone after using it for a few weeks. It keeps getting its charges wrong. I actually wanted it to work the way I wanted it to work, but realized on a weekend run that it wouldn\\'t. I sent it back to Amazon, and they changed the firmware to make it work on the rest of the world instead of the UK, which is dead last in terms of terms ofThis is a great case for the price.  I use it with a slip on case and it stays on.  I will also be trying other designs as well.I was quite taken back when I discovered on the box inside the charger that the actual cable was made by a different manufacturer! The end result is exactly the same as the original: a neat, neat little charger, but it\\'s an actual pinhole in the USB port, NOT a micro USB cable. I\\'m not aware of any other product that provides true neat keys, so I\\'m left with the less expensive, cleaner, sanitary-scale charger.I\\'m the worst when it comes to tripping, slipping and dropping my phone. The otterbox has been a life saver!  And call me weird, but as much as I love my iPhone its just too small and slick when it\\'s not in the case so the otterbox adds some bulk and grip which is great for me.I like that this case comes with a card (you need to bring both).  Card slots are provided for options such as foam or soft silicone.  I can\\'t imagine there\\'s anything unusual about combining two cases (of the same brand) and adding foam or soft silicone.  I\\'m quite happy aboutI recently sent this unit flying into a brick wall, so im in the market again thats why im here now. The Clipper should be known as the chopper the unit does not seem to be able to hold on to a solid signal.  When you walk it cuts out, if you run it cuts out, sometimes if your just standing still it cuts outs.  went back to my corded headphones it was a good try but fails in the end.Hey people! I mean u people with ANY complaints. Guess what? This is a $100 phone. It acts like a $100 phone should. If u wana whine about what it doesnt do. Then buy a $300 phone and quit whining cuz u were cheap to start with.... Ok maybe there is a battery issue. Maybe there is a memory issue. Its a $100 phone. Deal with it!'"
      ]
     },
     "execution_count": 105,
     "metadata": {},
     "output_type": "execute_result"
    }
   ],
   "source": [
    "doc= df.iloc[Array_Index_Complete]['reviewText'].sum()\n",
    "doc"
   ]
  },
  {
   "cell_type": "code",
   "execution_count": null,
   "metadata": {
    "colab": {
     "base_uri": "https://localhost:8080/"
    },
    "executionInfo": {
     "elapsed": 1744,
     "status": "ok",
     "timestamp": 1647884929716,
     "user": {
      "displayName": "Jose Carlos Romero Moreno",
      "photoUrl": "https://lh3.googleusercontent.com/a-/AOh14GjzF8xkOOGIRSxLmltpndj0IEhQZ_eRXV20jAtklg=s64",
      "userId": "18382225234885919746"
     },
     "user_tz": -120
    },
    "id": "HS4CBEMKbqTM",
    "outputId": "976b0355-5a3c-4893-8b9c-ac722cb16fe8"
   },
   "outputs": [
    {
     "name": "stdout",
     "output_type": "stream",
     "text": [
      "[('otterbox', 0.4355), ('motorola', 0.3825), ('razr', 0.3619), ('droid4', 0.3537), ('mophie', 0.3401)]\n"
     ]
    }
   ],
   "source": [
    "keywords = kw_model.extract_keywords(doc)\n",
    "print(keywords)"
   ]
  },
  {
   "cell_type": "code",
   "execution_count": null,
   "metadata": {
    "colab": {
     "base_uri": "https://localhost:8080/"
    },
    "executionInfo": {
     "elapsed": 1323,
     "status": "ok",
     "timestamp": 1647884932707,
     "user": {
      "displayName": "Jose Carlos Romero Moreno",
      "photoUrl": "https://lh3.googleusercontent.com/a-/AOh14GjzF8xkOOGIRSxLmltpndj0IEhQZ_eRXV20jAtklg=s64",
      "userId": "18382225234885919746"
     },
     "user_tz": -120
    },
    "id": "YAYFsunpbqJN",
    "outputId": "983ce20e-17d0-4c65-be52-aae59eb69906"
   },
   "outputs": [
    {
     "data": {
      "text/plain": [
       "[('otterbox', 0.4355),\n",
       " ('longer', 0.0557),\n",
       " ('cuz', 0.0798),\n",
       " ('hated', 0.0437),\n",
       " ('cm_cr_arp_d_rvw_txt', 0.0684),\n",
       " ('does', 0.0205),\n",
       " ('coming', 0.0129),\n",
       " ('responsiveness', 0.1435),\n",
       " ('unless', 0.0211),\n",
       " ('slide', 0.0889),\n",
       " ('combining', 0.0886),\n",
       " ('instrumental', 0.0211),\n",
       " ('allow', 0.0522),\n",
       " ('2006', 0.0641),\n",
       " ('buy', 0.0342),\n",
       " ('abouti', 0.1043),\n",
       " ('sqeege', 0.0839),\n",
       " ('unsupported', 0.0625),\n",
       " ('calls', 0.1766),\n",
       " ('tiniest', 0.0598)]"
      ]
     },
     "execution_count": 107,
     "metadata": {},
     "output_type": "execute_result"
    }
   ],
   "source": [
    "keywords=kw_model.extract_keywords(doc, keyphrase_ngram_range=(1, 1), stop_words='english', top_n=20, use_mmr=True, diversity=0.7)\n",
    "keywords\n",
    "#aux=[item[0] for item in keywords]\n",
    "#aux2=[item[1] for item in keywords]\n",
    "#KeyWords = pd.DataFrame(aux, columns=['Barcelona'])\n",
    "#KeyWords['Barcelona_value'] = aux2"
   ]
  },
  {
   "cell_type": "code",
   "execution_count": null,
   "metadata": {
    "colab": {
     "base_uri": "https://localhost:8080/"
    },
    "executionInfo": {
     "elapsed": 833,
     "status": "ok",
     "timestamp": 1647884937948,
     "user": {
      "displayName": "Jose Carlos Romero Moreno",
      "photoUrl": "https://lh3.googleusercontent.com/a-/AOh14GjzF8xkOOGIRSxLmltpndj0IEhQZ_eRXV20jAtklg=s64",
      "userId": "18382225234885919746"
     },
     "user_tz": -120
    },
    "id": "PlRnTmOlbpmE",
    "outputId": "08fdeca3-1d89-4c39-adeb-6919f3b0232c"
   },
   "outputs": [
    {
     "data": {
      "text/plain": [
       "['otterbox',\n",
       " 'longer',\n",
       " 'cuz',\n",
       " 'hated',\n",
       " 'cm_cr_arp_d_rvw_txt',\n",
       " 'does',\n",
       " 'coming',\n",
       " 'responsiveness',\n",
       " 'unless',\n",
       " 'slide',\n",
       " 'combining',\n",
       " 'instrumental',\n",
       " 'allow',\n",
       " '2006',\n",
       " 'buy',\n",
       " 'abouti',\n",
       " 'sqeege',\n",
       " 'unsupported',\n",
       " 'calls',\n",
       " 'tiniest']"
      ]
     },
     "execution_count": 108,
     "metadata": {},
     "output_type": "execute_result"
    }
   ],
   "source": [
    "[item[0] for item in keywords]"
   ]
  }
 ],
 "metadata": {
  "accelerator": "GPU",
  "colab": {
   "collapsed_sections": [
    "R4NxVOkeJj5o"
   ],
   "machine_shape": "hm",
   "provenance": []
  },
  "kernelspec": {
   "display_name": "Python 3",
   "language": "python",
   "name": "python3"
  },
  "language_info": {
   "codemirror_mode": {
    "name": "ipython",
    "version": 3
   },
   "file_extension": ".py",
   "mimetype": "text/x-python",
   "name": "python",
   "nbconvert_exporter": "python",
   "pygments_lexer": "ipython3",
   "version": "3.6.5"
  },
  "widgets": {
   "application/vnd.jupyter.widget-state+json": {
    "0026388285604e53b2718fddd23da21f": {
     "model_module": "@jupyter-widgets/controls",
     "model_module_version": "1.5.0",
     "model_name": "DescriptionStyleModel",
     "state": {
      "_model_module": "@jupyter-widgets/controls",
      "_model_module_version": "1.5.0",
      "_model_name": "DescriptionStyleModel",
      "_view_count": null,
      "_view_module": "@jupyter-widgets/base",
      "_view_module_version": "1.2.0",
      "_view_name": "StyleView",
      "description_width": ""
     }
    },
    "034cdef0a3bd4c1d9b0d40c008ef6f81": {
     "model_module": "@jupyter-widgets/controls",
     "model_module_version": "1.5.0",
     "model_name": "HBoxModel",
     "state": {
      "_dom_classes": [],
      "_model_module": "@jupyter-widgets/controls",
      "_model_module_version": "1.5.0",
      "_model_name": "HBoxModel",
      "_view_count": null,
      "_view_module": "@jupyter-widgets/controls",
      "_view_module_version": "1.5.0",
      "_view_name": "HBoxView",
      "box_style": "",
      "children": [
       "IPY_MODEL_460d64fb29c740abaa056b628f835f17",
       "IPY_MODEL_595adf5fd18f4e209e1b3002f0956df5",
       "IPY_MODEL_f66656c1bb794a5e824ddbb70fd9637f"
      ],
      "layout": "IPY_MODEL_43b2301646264110a55bfc46f5425946"
     }
    },
    "04518b99e68040fcbfd9e3175ca1557e": {
     "model_module": "@jupyter-widgets/controls",
     "model_module_version": "1.5.0",
     "model_name": "HTMLModel",
     "state": {
      "_dom_classes": [],
      "_model_module": "@jupyter-widgets/controls",
      "_model_module_version": "1.5.0",
      "_model_name": "HTMLModel",
      "_view_count": null,
      "_view_module": "@jupyter-widgets/controls",
      "_view_module_version": "1.5.0",
      "_view_name": "HTMLView",
      "description": "",
      "description_tooltip": null,
      "layout": "IPY_MODEL_615fd31082404b9e92c577c05db38974",
      "placeholder": "​",
      "style": "IPY_MODEL_3b5dc790feab4d4c98475109d780bce6",
      "value": "Downloading: 100%"
     }
    },
    "0bf399dcb13a4054ae388874b693542d": {
     "model_module": "@jupyter-widgets/controls",
     "model_module_version": "1.5.0",
     "model_name": "DescriptionStyleModel",
     "state": {
      "_model_module": "@jupyter-widgets/controls",
      "_model_module_version": "1.5.0",
      "_model_name": "DescriptionStyleModel",
      "_view_count": null,
      "_view_module": "@jupyter-widgets/base",
      "_view_module_version": "1.2.0",
      "_view_name": "StyleView",
      "description_width": ""
     }
    },
    "103fd3fd5ddb4cada382cf17a2661036": {
     "model_module": "@jupyter-widgets/controls",
     "model_module_version": "1.5.0",
     "model_name": "DescriptionStyleModel",
     "state": {
      "_model_module": "@jupyter-widgets/controls",
      "_model_module_version": "1.5.0",
      "_model_name": "DescriptionStyleModel",
      "_view_count": null,
      "_view_module": "@jupyter-widgets/base",
      "_view_module_version": "1.2.0",
      "_view_name": "StyleView",
      "description_width": ""
     }
    },
    "1201686698e6424b8e2ee30853d8d296": {
     "model_module": "@jupyter-widgets/controls",
     "model_module_version": "1.5.0",
     "model_name": "ProgressStyleModel",
     "state": {
      "_model_module": "@jupyter-widgets/controls",
      "_model_module_version": "1.5.0",
      "_model_name": "ProgressStyleModel",
      "_view_count": null,
      "_view_module": "@jupyter-widgets/base",
      "_view_module_version": "1.2.0",
      "_view_name": "StyleView",
      "bar_color": null,
      "description_width": ""
     }
    },
    "13a2741ad3fa4068b98d20bc0b59f6d4": {
     "model_module": "@jupyter-widgets/base",
     "model_module_version": "1.2.0",
     "model_name": "LayoutModel",
     "state": {
      "_model_module": "@jupyter-widgets/base",
      "_model_module_version": "1.2.0",
      "_model_name": "LayoutModel",
      "_view_count": null,
      "_view_module": "@jupyter-widgets/base",
      "_view_module_version": "1.2.0",
      "_view_name": "LayoutView",
      "align_content": null,
      "align_items": null,
      "align_self": null,
      "border": null,
      "bottom": null,
      "display": null,
      "flex": null,
      "flex_flow": null,
      "grid_area": null,
      "grid_auto_columns": null,
      "grid_auto_flow": null,
      "grid_auto_rows": null,
      "grid_column": null,
      "grid_gap": null,
      "grid_row": null,
      "grid_template_areas": null,
      "grid_template_columns": null,
      "grid_template_rows": null,
      "height": null,
      "justify_content": null,
      "justify_items": null,
      "left": null,
      "margin": null,
      "max_height": null,
      "max_width": null,
      "min_height": null,
      "min_width": null,
      "object_fit": null,
      "object_position": null,
      "order": null,
      "overflow": null,
      "overflow_x": null,
      "overflow_y": null,
      "padding": null,
      "right": null,
      "top": null,
      "visibility": null,
      "width": null
     }
    },
    "13d6c23e598e4920a1d3ea87247667ca": {
     "model_module": "@jupyter-widgets/controls",
     "model_module_version": "1.5.0",
     "model_name": "HTMLModel",
     "state": {
      "_dom_classes": [],
      "_model_module": "@jupyter-widgets/controls",
      "_model_module_version": "1.5.0",
      "_model_name": "HTMLModel",
      "_view_count": null,
      "_view_module": "@jupyter-widgets/controls",
      "_view_module_version": "1.5.0",
      "_view_name": "HTMLView",
      "description": "",
      "description_tooltip": null,
      "layout": "IPY_MODEL_13a2741ad3fa4068b98d20bc0b59f6d4",
      "placeholder": "​",
      "style": "IPY_MODEL_f61a618eb84340ee8b5b3d6dac4eadc0",
      "value": " 28.0/28.0 [00:00&lt;00:00, 722B/s]"
     }
    },
    "241a0457fe4e48ed9b2eb6a24c04a1f0": {
     "model_module": "@jupyter-widgets/base",
     "model_module_version": "1.2.0",
     "model_name": "LayoutModel",
     "state": {
      "_model_module": "@jupyter-widgets/base",
      "_model_module_version": "1.2.0",
      "_model_name": "LayoutModel",
      "_view_count": null,
      "_view_module": "@jupyter-widgets/base",
      "_view_module_version": "1.2.0",
      "_view_name": "LayoutView",
      "align_content": null,
      "align_items": null,
      "align_self": null,
      "border": null,
      "bottom": null,
      "display": null,
      "flex": null,
      "flex_flow": null,
      "grid_area": null,
      "grid_auto_columns": null,
      "grid_auto_flow": null,
      "grid_auto_rows": null,
      "grid_column": null,
      "grid_gap": null,
      "grid_row": null,
      "grid_template_areas": null,
      "grid_template_columns": null,
      "grid_template_rows": null,
      "height": null,
      "justify_content": null,
      "justify_items": null,
      "left": null,
      "margin": null,
      "max_height": null,
      "max_width": null,
      "min_height": null,
      "min_width": null,
      "object_fit": null,
      "object_position": null,
      "order": null,
      "overflow": null,
      "overflow_x": null,
      "overflow_y": null,
      "padding": null,
      "right": null,
      "top": null,
      "visibility": null,
      "width": null
     }
    },
    "29d3ca18cd604ff482a554e793c7634b": {
     "model_module": "@jupyter-widgets/controls",
     "model_module_version": "1.5.0",
     "model_name": "HTMLModel",
     "state": {
      "_dom_classes": [],
      "_model_module": "@jupyter-widgets/controls",
      "_model_module_version": "1.5.0",
      "_model_name": "HTMLModel",
      "_view_count": null,
      "_view_module": "@jupyter-widgets/controls",
      "_view_module_version": "1.5.0",
      "_view_name": "HTMLView",
      "description": "",
      "description_tooltip": null,
      "layout": "IPY_MODEL_fc5da3d00fc44366ac13b55fedbde3b1",
      "placeholder": "​",
      "style": "IPY_MODEL_0bf399dcb13a4054ae388874b693542d",
      "value": " 226k/226k [00:00&lt;00:00, 518kB/s]"
     }
    },
    "3053594127da42d7a3853e4bf11085a8": {
     "model_module": "@jupyter-widgets/base",
     "model_module_version": "1.2.0",
     "model_name": "LayoutModel",
     "state": {
      "_model_module": "@jupyter-widgets/base",
      "_model_module_version": "1.2.0",
      "_model_name": "LayoutModel",
      "_view_count": null,
      "_view_module": "@jupyter-widgets/base",
      "_view_module_version": "1.2.0",
      "_view_name": "LayoutView",
      "align_content": null,
      "align_items": null,
      "align_self": null,
      "border": null,
      "bottom": null,
      "display": null,
      "flex": null,
      "flex_flow": null,
      "grid_area": null,
      "grid_auto_columns": null,
      "grid_auto_flow": null,
      "grid_auto_rows": null,
      "grid_column": null,
      "grid_gap": null,
      "grid_row": null,
      "grid_template_areas": null,
      "grid_template_columns": null,
      "grid_template_rows": null,
      "height": null,
      "justify_content": null,
      "justify_items": null,
      "left": null,
      "margin": null,
      "max_height": null,
      "max_width": null,
      "min_height": null,
      "min_width": null,
      "object_fit": null,
      "object_position": null,
      "order": null,
      "overflow": null,
      "overflow_x": null,
      "overflow_y": null,
      "padding": null,
      "right": null,
      "top": null,
      "visibility": null,
      "width": null
     }
    },
    "34907786eb7445259728e35b9b1b2545": {
     "model_module": "@jupyter-widgets/base",
     "model_module_version": "1.2.0",
     "model_name": "LayoutModel",
     "state": {
      "_model_module": "@jupyter-widgets/base",
      "_model_module_version": "1.2.0",
      "_model_name": "LayoutModel",
      "_view_count": null,
      "_view_module": "@jupyter-widgets/base",
      "_view_module_version": "1.2.0",
      "_view_name": "LayoutView",
      "align_content": null,
      "align_items": null,
      "align_self": null,
      "border": null,
      "bottom": null,
      "display": null,
      "flex": null,
      "flex_flow": null,
      "grid_area": null,
      "grid_auto_columns": null,
      "grid_auto_flow": null,
      "grid_auto_rows": null,
      "grid_column": null,
      "grid_gap": null,
      "grid_row": null,
      "grid_template_areas": null,
      "grid_template_columns": null,
      "grid_template_rows": null,
      "height": null,
      "justify_content": null,
      "justify_items": null,
      "left": null,
      "margin": null,
      "max_height": null,
      "max_width": null,
      "min_height": null,
      "min_width": null,
      "object_fit": null,
      "object_position": null,
      "order": null,
      "overflow": null,
      "overflow_x": null,
      "overflow_y": null,
      "padding": null,
      "right": null,
      "top": null,
      "visibility": null,
      "width": null
     }
    },
    "3b5dc790feab4d4c98475109d780bce6": {
     "model_module": "@jupyter-widgets/controls",
     "model_module_version": "1.5.0",
     "model_name": "DescriptionStyleModel",
     "state": {
      "_model_module": "@jupyter-widgets/controls",
      "_model_module_version": "1.5.0",
      "_model_name": "DescriptionStyleModel",
      "_view_count": null,
      "_view_module": "@jupyter-widgets/base",
      "_view_module_version": "1.2.0",
      "_view_name": "StyleView",
      "description_width": ""
     }
    },
    "43b2301646264110a55bfc46f5425946": {
     "model_module": "@jupyter-widgets/base",
     "model_module_version": "1.2.0",
     "model_name": "LayoutModel",
     "state": {
      "_model_module": "@jupyter-widgets/base",
      "_model_module_version": "1.2.0",
      "_model_name": "LayoutModel",
      "_view_count": null,
      "_view_module": "@jupyter-widgets/base",
      "_view_module_version": "1.2.0",
      "_view_name": "LayoutView",
      "align_content": null,
      "align_items": null,
      "align_self": null,
      "border": null,
      "bottom": null,
      "display": null,
      "flex": null,
      "flex_flow": null,
      "grid_area": null,
      "grid_auto_columns": null,
      "grid_auto_flow": null,
      "grid_auto_rows": null,
      "grid_column": null,
      "grid_gap": null,
      "grid_row": null,
      "grid_template_areas": null,
      "grid_template_columns": null,
      "grid_template_rows": null,
      "height": null,
      "justify_content": null,
      "justify_items": null,
      "left": null,
      "margin": null,
      "max_height": null,
      "max_width": null,
      "min_height": null,
      "min_width": null,
      "object_fit": null,
      "object_position": null,
      "order": null,
      "overflow": null,
      "overflow_x": null,
      "overflow_y": null,
      "padding": null,
      "right": null,
      "top": null,
      "visibility": null,
      "width": null
     }
    },
    "460d64fb29c740abaa056b628f835f17": {
     "model_module": "@jupyter-widgets/controls",
     "model_module_version": "1.5.0",
     "model_name": "HTMLModel",
     "state": {
      "_dom_classes": [],
      "_model_module": "@jupyter-widgets/controls",
      "_model_module_version": "1.5.0",
      "_model_name": "HTMLModel",
      "_view_count": null,
      "_view_module": "@jupyter-widgets/controls",
      "_view_module_version": "1.5.0",
      "_view_name": "HTMLView",
      "description": "",
      "description_tooltip": null,
      "layout": "IPY_MODEL_d0c60ef9c5f04677bba3275095a3d6b1",
      "placeholder": "​",
      "style": "IPY_MODEL_0026388285604e53b2718fddd23da21f",
      "value": "Downloading: 100%"
     }
    },
    "4d88a3622bcf4ed9961d56cd924aebea": {
     "model_module": "@jupyter-widgets/controls",
     "model_module_version": "1.5.0",
     "model_name": "FloatProgressModel",
     "state": {
      "_dom_classes": [],
      "_model_module": "@jupyter-widgets/controls",
      "_model_module_version": "1.5.0",
      "_model_name": "FloatProgressModel",
      "_view_count": null,
      "_view_module": "@jupyter-widgets/controls",
      "_view_module_version": "1.5.0",
      "_view_name": "ProgressView",
      "bar_style": "success",
      "description": "",
      "description_tooltip": null,
      "layout": "IPY_MODEL_6e022e47929c4a6ea6e3215327c104ef",
      "max": 440473133,
      "min": 0,
      "orientation": "horizontal",
      "style": "IPY_MODEL_bf719c84b4d54a6cae733d049af7fd60",
      "value": 440473133
     }
    },
    "51abd2d6bd594a3880dfc4563eaf310b": {
     "model_module": "@jupyter-widgets/controls",
     "model_module_version": "1.5.0",
     "model_name": "FloatProgressModel",
     "state": {
      "_dom_classes": [],
      "_model_module": "@jupyter-widgets/controls",
      "_model_module_version": "1.5.0",
      "_model_name": "FloatProgressModel",
      "_view_count": null,
      "_view_module": "@jupyter-widgets/controls",
      "_view_module_version": "1.5.0",
      "_view_name": "ProgressView",
      "bar_style": "success",
      "description": "",
      "description_tooltip": null,
      "layout": "IPY_MODEL_3053594127da42d7a3853e4bf11085a8",
      "max": 570,
      "min": 0,
      "orientation": "horizontal",
      "style": "IPY_MODEL_ed1cda39c6fe4bb486a0979fb998f5f9",
      "value": 570
     }
    },
    "58cd02ddfcb742d193031aea7eb1a3b7": {
     "model_module": "@jupyter-widgets/controls",
     "model_module_version": "1.5.0",
     "model_name": "FloatProgressModel",
     "state": {
      "_dom_classes": [],
      "_model_module": "@jupyter-widgets/controls",
      "_model_module_version": "1.5.0",
      "_model_name": "FloatProgressModel",
      "_view_count": null,
      "_view_module": "@jupyter-widgets/controls",
      "_view_module_version": "1.5.0",
      "_view_name": "ProgressView",
      "bar_style": "success",
      "description": "",
      "description_tooltip": null,
      "layout": "IPY_MODEL_b475d0efaf034d3cbb67fef02e190b76",
      "max": 231508,
      "min": 0,
      "orientation": "horizontal",
      "style": "IPY_MODEL_1201686698e6424b8e2ee30853d8d296",
      "value": 231508
     }
    },
    "592b077fbbcb4d48a608ed514cec84eb": {
     "model_module": "@jupyter-widgets/base",
     "model_module_version": "1.2.0",
     "model_name": "LayoutModel",
     "state": {
      "_model_module": "@jupyter-widgets/base",
      "_model_module_version": "1.2.0",
      "_model_name": "LayoutModel",
      "_view_count": null,
      "_view_module": "@jupyter-widgets/base",
      "_view_module_version": "1.2.0",
      "_view_name": "LayoutView",
      "align_content": null,
      "align_items": null,
      "align_self": null,
      "border": null,
      "bottom": null,
      "display": null,
      "flex": null,
      "flex_flow": null,
      "grid_area": null,
      "grid_auto_columns": null,
      "grid_auto_flow": null,
      "grid_auto_rows": null,
      "grid_column": null,
      "grid_gap": null,
      "grid_row": null,
      "grid_template_areas": null,
      "grid_template_columns": null,
      "grid_template_rows": null,
      "height": null,
      "justify_content": null,
      "justify_items": null,
      "left": null,
      "margin": null,
      "max_height": null,
      "max_width": null,
      "min_height": null,
      "min_width": null,
      "object_fit": null,
      "object_position": null,
      "order": null,
      "overflow": null,
      "overflow_x": null,
      "overflow_y": null,
      "padding": null,
      "right": null,
      "top": null,
      "visibility": null,
      "width": null
     }
    },
    "595adf5fd18f4e209e1b3002f0956df5": {
     "model_module": "@jupyter-widgets/controls",
     "model_module_version": "1.5.0",
     "model_name": "FloatProgressModel",
     "state": {
      "_dom_classes": [],
      "_model_module": "@jupyter-widgets/controls",
      "_model_module_version": "1.5.0",
      "_model_name": "FloatProgressModel",
      "_view_count": null,
      "_view_module": "@jupyter-widgets/controls",
      "_view_module_version": "1.5.0",
      "_view_name": "ProgressView",
      "bar_style": "success",
      "description": "",
      "description_tooltip": null,
      "layout": "IPY_MODEL_592b077fbbcb4d48a608ed514cec84eb",
      "max": 466062,
      "min": 0,
      "orientation": "horizontal",
      "style": "IPY_MODEL_d5d9ef3522204920bd48fa5539d7ca7b",
      "value": 466062
     }
    },
    "615fd31082404b9e92c577c05db38974": {
     "model_module": "@jupyter-widgets/base",
     "model_module_version": "1.2.0",
     "model_name": "LayoutModel",
     "state": {
      "_model_module": "@jupyter-widgets/base",
      "_model_module_version": "1.2.0",
      "_model_name": "LayoutModel",
      "_view_count": null,
      "_view_module": "@jupyter-widgets/base",
      "_view_module_version": "1.2.0",
      "_view_name": "LayoutView",
      "align_content": null,
      "align_items": null,
      "align_self": null,
      "border": null,
      "bottom": null,
      "display": null,
      "flex": null,
      "flex_flow": null,
      "grid_area": null,
      "grid_auto_columns": null,
      "grid_auto_flow": null,
      "grid_auto_rows": null,
      "grid_column": null,
      "grid_gap": null,
      "grid_row": null,
      "grid_template_areas": null,
      "grid_template_columns": null,
      "grid_template_rows": null,
      "height": null,
      "justify_content": null,
      "justify_items": null,
      "left": null,
      "margin": null,
      "max_height": null,
      "max_width": null,
      "min_height": null,
      "min_width": null,
      "object_fit": null,
      "object_position": null,
      "order": null,
      "overflow": null,
      "overflow_x": null,
      "overflow_y": null,
      "padding": null,
      "right": null,
      "top": null,
      "visibility": null,
      "width": null
     }
    },
    "69c1eb6a9da74b0f8b77bb9e26db7c91": {
     "model_module": "@jupyter-widgets/controls",
     "model_module_version": "1.5.0",
     "model_name": "HTMLModel",
     "state": {
      "_dom_classes": [],
      "_model_module": "@jupyter-widgets/controls",
      "_model_module_version": "1.5.0",
      "_model_name": "HTMLModel",
      "_view_count": null,
      "_view_module": "@jupyter-widgets/controls",
      "_view_module_version": "1.5.0",
      "_view_name": "HTMLView",
      "description": "",
      "description_tooltip": null,
      "layout": "IPY_MODEL_846b4a8b0d7f4a3e87ccb85fee0a5fc9",
      "placeholder": "​",
      "style": "IPY_MODEL_103fd3fd5ddb4cada382cf17a2661036",
      "value": "Downloading: 100%"
     }
    },
    "6cf840f7e9f343c8b0dcbfe3c034270f": {
     "model_module": "@jupyter-widgets/controls",
     "model_module_version": "1.5.0",
     "model_name": "HBoxModel",
     "state": {
      "_dom_classes": [],
      "_model_module": "@jupyter-widgets/controls",
      "_model_module_version": "1.5.0",
      "_model_name": "HBoxModel",
      "_view_count": null,
      "_view_module": "@jupyter-widgets/controls",
      "_view_module_version": "1.5.0",
      "_view_name": "HBoxView",
      "box_style": "",
      "children": [
       "IPY_MODEL_69c1eb6a9da74b0f8b77bb9e26db7c91",
       "IPY_MODEL_de4873b26ad14c41bf93bfab21badf5e",
       "IPY_MODEL_13d6c23e598e4920a1d3ea87247667ca"
      ],
      "layout": "IPY_MODEL_241a0457fe4e48ed9b2eb6a24c04a1f0"
     }
    },
    "6e022e47929c4a6ea6e3215327c104ef": {
     "model_module": "@jupyter-widgets/base",
     "model_module_version": "1.2.0",
     "model_name": "LayoutModel",
     "state": {
      "_model_module": "@jupyter-widgets/base",
      "_model_module_version": "1.2.0",
      "_model_name": "LayoutModel",
      "_view_count": null,
      "_view_module": "@jupyter-widgets/base",
      "_view_module_version": "1.2.0",
      "_view_name": "LayoutView",
      "align_content": null,
      "align_items": null,
      "align_self": null,
      "border": null,
      "bottom": null,
      "display": null,
      "flex": null,
      "flex_flow": null,
      "grid_area": null,
      "grid_auto_columns": null,
      "grid_auto_flow": null,
      "grid_auto_rows": null,
      "grid_column": null,
      "grid_gap": null,
      "grid_row": null,
      "grid_template_areas": null,
      "grid_template_columns": null,
      "grid_template_rows": null,
      "height": null,
      "justify_content": null,
      "justify_items": null,
      "left": null,
      "margin": null,
      "max_height": null,
      "max_width": null,
      "min_height": null,
      "min_width": null,
      "object_fit": null,
      "object_position": null,
      "order": null,
      "overflow": null,
      "overflow_x": null,
      "overflow_y": null,
      "padding": null,
      "right": null,
      "top": null,
      "visibility": null,
      "width": null
     }
    },
    "6e4e78f629d0442ba546a5c5165d6091": {
     "model_module": "@jupyter-widgets/controls",
     "model_module_version": "1.5.0",
     "model_name": "HBoxModel",
     "state": {
      "_dom_classes": [],
      "_model_module": "@jupyter-widgets/controls",
      "_model_module_version": "1.5.0",
      "_model_name": "HBoxModel",
      "_view_count": null,
      "_view_module": "@jupyter-widgets/controls",
      "_view_module_version": "1.5.0",
      "_view_name": "HBoxView",
      "box_style": "",
      "children": [
       "IPY_MODEL_effba2f36c4540848ec139cd50b91612",
       "IPY_MODEL_51abd2d6bd594a3880dfc4563eaf310b",
       "IPY_MODEL_90f04a7ddeac4f98a8192ecb5b5ec5bd"
      ],
      "layout": "IPY_MODEL_c15c9b0c687749a0a7551c477d57475c"
     }
    },
    "6e8554159ad2430e93506da45dd3855e": {
     "model_module": "@jupyter-widgets/controls",
     "model_module_version": "1.5.0",
     "model_name": "DescriptionStyleModel",
     "state": {
      "_model_module": "@jupyter-widgets/controls",
      "_model_module_version": "1.5.0",
      "_model_name": "DescriptionStyleModel",
      "_view_count": null,
      "_view_module": "@jupyter-widgets/base",
      "_view_module_version": "1.2.0",
      "_view_name": "StyleView",
      "description_width": ""
     }
    },
    "75a15f29c8ca42d0991fd2750ad33f19": {
     "model_module": "@jupyter-widgets/base",
     "model_module_version": "1.2.0",
     "model_name": "LayoutModel",
     "state": {
      "_model_module": "@jupyter-widgets/base",
      "_model_module_version": "1.2.0",
      "_model_name": "LayoutModel",
      "_view_count": null,
      "_view_module": "@jupyter-widgets/base",
      "_view_module_version": "1.2.0",
      "_view_name": "LayoutView",
      "align_content": null,
      "align_items": null,
      "align_self": null,
      "border": null,
      "bottom": null,
      "display": null,
      "flex": null,
      "flex_flow": null,
      "grid_area": null,
      "grid_auto_columns": null,
      "grid_auto_flow": null,
      "grid_auto_rows": null,
      "grid_column": null,
      "grid_gap": null,
      "grid_row": null,
      "grid_template_areas": null,
      "grid_template_columns": null,
      "grid_template_rows": null,
      "height": null,
      "justify_content": null,
      "justify_items": null,
      "left": null,
      "margin": null,
      "max_height": null,
      "max_width": null,
      "min_height": null,
      "min_width": null,
      "object_fit": null,
      "object_position": null,
      "order": null,
      "overflow": null,
      "overflow_x": null,
      "overflow_y": null,
      "padding": null,
      "right": null,
      "top": null,
      "visibility": null,
      "width": null
     }
    },
    "764e527b3ff94bcabbc6e540e3882ad0": {
     "model_module": "@jupyter-widgets/base",
     "model_module_version": "1.2.0",
     "model_name": "LayoutModel",
     "state": {
      "_model_module": "@jupyter-widgets/base",
      "_model_module_version": "1.2.0",
      "_model_name": "LayoutModel",
      "_view_count": null,
      "_view_module": "@jupyter-widgets/base",
      "_view_module_version": "1.2.0",
      "_view_name": "LayoutView",
      "align_content": null,
      "align_items": null,
      "align_self": null,
      "border": null,
      "bottom": null,
      "display": null,
      "flex": null,
      "flex_flow": null,
      "grid_area": null,
      "grid_auto_columns": null,
      "grid_auto_flow": null,
      "grid_auto_rows": null,
      "grid_column": null,
      "grid_gap": null,
      "grid_row": null,
      "grid_template_areas": null,
      "grid_template_columns": null,
      "grid_template_rows": null,
      "height": null,
      "justify_content": null,
      "justify_items": null,
      "left": null,
      "margin": null,
      "max_height": null,
      "max_width": null,
      "min_height": null,
      "min_width": null,
      "object_fit": null,
      "object_position": null,
      "order": null,
      "overflow": null,
      "overflow_x": null,
      "overflow_y": null,
      "padding": null,
      "right": null,
      "top": null,
      "visibility": null,
      "width": null
     }
    },
    "79007bfd2c2e4188932119913dacf67c": {
     "model_module": "@jupyter-widgets/controls",
     "model_module_version": "1.5.0",
     "model_name": "DescriptionStyleModel",
     "state": {
      "_model_module": "@jupyter-widgets/controls",
      "_model_module_version": "1.5.0",
      "_model_name": "DescriptionStyleModel",
      "_view_count": null,
      "_view_module": "@jupyter-widgets/base",
      "_view_module_version": "1.2.0",
      "_view_name": "StyleView",
      "description_width": ""
     }
    },
    "846b4a8b0d7f4a3e87ccb85fee0a5fc9": {
     "model_module": "@jupyter-widgets/base",
     "model_module_version": "1.2.0",
     "model_name": "LayoutModel",
     "state": {
      "_model_module": "@jupyter-widgets/base",
      "_model_module_version": "1.2.0",
      "_model_name": "LayoutModel",
      "_view_count": null,
      "_view_module": "@jupyter-widgets/base",
      "_view_module_version": "1.2.0",
      "_view_name": "LayoutView",
      "align_content": null,
      "align_items": null,
      "align_self": null,
      "border": null,
      "bottom": null,
      "display": null,
      "flex": null,
      "flex_flow": null,
      "grid_area": null,
      "grid_auto_columns": null,
      "grid_auto_flow": null,
      "grid_auto_rows": null,
      "grid_column": null,
      "grid_gap": null,
      "grid_row": null,
      "grid_template_areas": null,
      "grid_template_columns": null,
      "grid_template_rows": null,
      "height": null,
      "justify_content": null,
      "justify_items": null,
      "left": null,
      "margin": null,
      "max_height": null,
      "max_width": null,
      "min_height": null,
      "min_width": null,
      "object_fit": null,
      "object_position": null,
      "order": null,
      "overflow": null,
      "overflow_x": null,
      "overflow_y": null,
      "padding": null,
      "right": null,
      "top": null,
      "visibility": null,
      "width": null
     }
    },
    "868b7756916f43808790d6f957c3a268": {
     "model_module": "@jupyter-widgets/base",
     "model_module_version": "1.2.0",
     "model_name": "LayoutModel",
     "state": {
      "_model_module": "@jupyter-widgets/base",
      "_model_module_version": "1.2.0",
      "_model_name": "LayoutModel",
      "_view_count": null,
      "_view_module": "@jupyter-widgets/base",
      "_view_module_version": "1.2.0",
      "_view_name": "LayoutView",
      "align_content": null,
      "align_items": null,
      "align_self": null,
      "border": null,
      "bottom": null,
      "display": null,
      "flex": null,
      "flex_flow": null,
      "grid_area": null,
      "grid_auto_columns": null,
      "grid_auto_flow": null,
      "grid_auto_rows": null,
      "grid_column": null,
      "grid_gap": null,
      "grid_row": null,
      "grid_template_areas": null,
      "grid_template_columns": null,
      "grid_template_rows": null,
      "height": null,
      "justify_content": null,
      "justify_items": null,
      "left": null,
      "margin": null,
      "max_height": null,
      "max_width": null,
      "min_height": null,
      "min_width": null,
      "object_fit": null,
      "object_position": null,
      "order": null,
      "overflow": null,
      "overflow_x": null,
      "overflow_y": null,
      "padding": null,
      "right": null,
      "top": null,
      "visibility": null,
      "width": null
     }
    },
    "90f04a7ddeac4f98a8192ecb5b5ec5bd": {
     "model_module": "@jupyter-widgets/controls",
     "model_module_version": "1.5.0",
     "model_name": "HTMLModel",
     "state": {
      "_dom_classes": [],
      "_model_module": "@jupyter-widgets/controls",
      "_model_module_version": "1.5.0",
      "_model_name": "HTMLModel",
      "_view_count": null,
      "_view_module": "@jupyter-widgets/controls",
      "_view_module_version": "1.5.0",
      "_view_name": "HTMLView",
      "description": "",
      "description_tooltip": null,
      "layout": "IPY_MODEL_764e527b3ff94bcabbc6e540e3882ad0",
      "placeholder": "​",
      "style": "IPY_MODEL_d01a653d5d4e4d6b88c5567cf4f9f83b",
      "value": " 570/570 [00:00&lt;00:00, 2.79kB/s]"
     }
    },
    "9f4cc98028de4daebba964eabef9f698": {
     "model_module": "@jupyter-widgets/controls",
     "model_module_version": "1.5.0",
     "model_name": "HTMLModel",
     "state": {
      "_dom_classes": [],
      "_model_module": "@jupyter-widgets/controls",
      "_model_module_version": "1.5.0",
      "_model_name": "HTMLModel",
      "_view_count": null,
      "_view_module": "@jupyter-widgets/controls",
      "_view_module_version": "1.5.0",
      "_view_name": "HTMLView",
      "description": "",
      "description_tooltip": null,
      "layout": "IPY_MODEL_d7819000c5964e76843f64a9ba05b45c",
      "placeholder": "​",
      "style": "IPY_MODEL_79007bfd2c2e4188932119913dacf67c",
      "value": "Downloading: 100%"
     }
    },
    "9f6d4fcf17f74091997c1da0ec584564": {
     "model_module": "@jupyter-widgets/controls",
     "model_module_version": "1.5.0",
     "model_name": "HBoxModel",
     "state": {
      "_dom_classes": [],
      "_model_module": "@jupyter-widgets/controls",
      "_model_module_version": "1.5.0",
      "_model_name": "HBoxModel",
      "_view_count": null,
      "_view_module": "@jupyter-widgets/controls",
      "_view_module_version": "1.5.0",
      "_view_name": "HBoxView",
      "box_style": "",
      "children": [
       "IPY_MODEL_9f4cc98028de4daebba964eabef9f698",
       "IPY_MODEL_4d88a3622bcf4ed9961d56cd924aebea",
       "IPY_MODEL_c166a935258d4254b84acb84aaf29587"
      ],
      "layout": "IPY_MODEL_75a15f29c8ca42d0991fd2750ad33f19"
     }
    },
    "a6deead89b3f413997ad25654b1179be": {
     "model_module": "@jupyter-widgets/controls",
     "model_module_version": "1.5.0",
     "model_name": "DescriptionStyleModel",
     "state": {
      "_model_module": "@jupyter-widgets/controls",
      "_model_module_version": "1.5.0",
      "_model_name": "DescriptionStyleModel",
      "_view_count": null,
      "_view_module": "@jupyter-widgets/base",
      "_view_module_version": "1.2.0",
      "_view_name": "StyleView",
      "description_width": ""
     }
    },
    "b475d0efaf034d3cbb67fef02e190b76": {
     "model_module": "@jupyter-widgets/base",
     "model_module_version": "1.2.0",
     "model_name": "LayoutModel",
     "state": {
      "_model_module": "@jupyter-widgets/base",
      "_model_module_version": "1.2.0",
      "_model_name": "LayoutModel",
      "_view_count": null,
      "_view_module": "@jupyter-widgets/base",
      "_view_module_version": "1.2.0",
      "_view_name": "LayoutView",
      "align_content": null,
      "align_items": null,
      "align_self": null,
      "border": null,
      "bottom": null,
      "display": null,
      "flex": null,
      "flex_flow": null,
      "grid_area": null,
      "grid_auto_columns": null,
      "grid_auto_flow": null,
      "grid_auto_rows": null,
      "grid_column": null,
      "grid_gap": null,
      "grid_row": null,
      "grid_template_areas": null,
      "grid_template_columns": null,
      "grid_template_rows": null,
      "height": null,
      "justify_content": null,
      "justify_items": null,
      "left": null,
      "margin": null,
      "max_height": null,
      "max_width": null,
      "min_height": null,
      "min_width": null,
      "object_fit": null,
      "object_position": null,
      "order": null,
      "overflow": null,
      "overflow_x": null,
      "overflow_y": null,
      "padding": null,
      "right": null,
      "top": null,
      "visibility": null,
      "width": null
     }
    },
    "bf719c84b4d54a6cae733d049af7fd60": {
     "model_module": "@jupyter-widgets/controls",
     "model_module_version": "1.5.0",
     "model_name": "ProgressStyleModel",
     "state": {
      "_model_module": "@jupyter-widgets/controls",
      "_model_module_version": "1.5.0",
      "_model_name": "ProgressStyleModel",
      "_view_count": null,
      "_view_module": "@jupyter-widgets/base",
      "_view_module_version": "1.2.0",
      "_view_name": "StyleView",
      "bar_color": null,
      "description_width": ""
     }
    },
    "c15c9b0c687749a0a7551c477d57475c": {
     "model_module": "@jupyter-widgets/base",
     "model_module_version": "1.2.0",
     "model_name": "LayoutModel",
     "state": {
      "_model_module": "@jupyter-widgets/base",
      "_model_module_version": "1.2.0",
      "_model_name": "LayoutModel",
      "_view_count": null,
      "_view_module": "@jupyter-widgets/base",
      "_view_module_version": "1.2.0",
      "_view_name": "LayoutView",
      "align_content": null,
      "align_items": null,
      "align_self": null,
      "border": null,
      "bottom": null,
      "display": null,
      "flex": null,
      "flex_flow": null,
      "grid_area": null,
      "grid_auto_columns": null,
      "grid_auto_flow": null,
      "grid_auto_rows": null,
      "grid_column": null,
      "grid_gap": null,
      "grid_row": null,
      "grid_template_areas": null,
      "grid_template_columns": null,
      "grid_template_rows": null,
      "height": null,
      "justify_content": null,
      "justify_items": null,
      "left": null,
      "margin": null,
      "max_height": null,
      "max_width": null,
      "min_height": null,
      "min_width": null,
      "object_fit": null,
      "object_position": null,
      "order": null,
      "overflow": null,
      "overflow_x": null,
      "overflow_y": null,
      "padding": null,
      "right": null,
      "top": null,
      "visibility": null,
      "width": null
     }
    },
    "c166a935258d4254b84acb84aaf29587": {
     "model_module": "@jupyter-widgets/controls",
     "model_module_version": "1.5.0",
     "model_name": "HTMLModel",
     "state": {
      "_dom_classes": [],
      "_model_module": "@jupyter-widgets/controls",
      "_model_module_version": "1.5.0",
      "_model_name": "HTMLModel",
      "_view_count": null,
      "_view_module": "@jupyter-widgets/controls",
      "_view_module_version": "1.5.0",
      "_view_name": "HTMLView",
      "description": "",
      "description_tooltip": null,
      "layout": "IPY_MODEL_868b7756916f43808790d6f957c3a268",
      "placeholder": "​",
      "style": "IPY_MODEL_6e8554159ad2430e93506da45dd3855e",
      "value": " 420M/420M [00:21&lt;00:00, 36.3MB/s]"
     }
    },
    "c3d507d5d52c4bf0b1223915189cd9ac": {
     "model_module": "@jupyter-widgets/controls",
     "model_module_version": "1.5.0",
     "model_name": "HBoxModel",
     "state": {
      "_dom_classes": [],
      "_model_module": "@jupyter-widgets/controls",
      "_model_module_version": "1.5.0",
      "_model_name": "HBoxModel",
      "_view_count": null,
      "_view_module": "@jupyter-widgets/controls",
      "_view_module_version": "1.5.0",
      "_view_name": "HBoxView",
      "box_style": "",
      "children": [
       "IPY_MODEL_04518b99e68040fcbfd9e3175ca1557e",
       "IPY_MODEL_58cd02ddfcb742d193031aea7eb1a3b7",
       "IPY_MODEL_29d3ca18cd604ff482a554e793c7634b"
      ],
      "layout": "IPY_MODEL_d75bdbc91c3c4db89596b4370751e645"
     }
    },
    "c5c7ea26ba4b42369dbb731f76b9cfe6": {
     "model_module": "@jupyter-widgets/controls",
     "model_module_version": "1.5.0",
     "model_name": "DescriptionStyleModel",
     "state": {
      "_model_module": "@jupyter-widgets/controls",
      "_model_module_version": "1.5.0",
      "_model_name": "DescriptionStyleModel",
      "_view_count": null,
      "_view_module": "@jupyter-widgets/base",
      "_view_module_version": "1.2.0",
      "_view_name": "StyleView",
      "description_width": ""
     }
    },
    "cc218c48578a4993a74271bcfe4c9417": {
     "model_module": "@jupyter-widgets/base",
     "model_module_version": "1.2.0",
     "model_name": "LayoutModel",
     "state": {
      "_model_module": "@jupyter-widgets/base",
      "_model_module_version": "1.2.0",
      "_model_name": "LayoutModel",
      "_view_count": null,
      "_view_module": "@jupyter-widgets/base",
      "_view_module_version": "1.2.0",
      "_view_name": "LayoutView",
      "align_content": null,
      "align_items": null,
      "align_self": null,
      "border": null,
      "bottom": null,
      "display": null,
      "flex": null,
      "flex_flow": null,
      "grid_area": null,
      "grid_auto_columns": null,
      "grid_auto_flow": null,
      "grid_auto_rows": null,
      "grid_column": null,
      "grid_gap": null,
      "grid_row": null,
      "grid_template_areas": null,
      "grid_template_columns": null,
      "grid_template_rows": null,
      "height": null,
      "justify_content": null,
      "justify_items": null,
      "left": null,
      "margin": null,
      "max_height": null,
      "max_width": null,
      "min_height": null,
      "min_width": null,
      "object_fit": null,
      "object_position": null,
      "order": null,
      "overflow": null,
      "overflow_x": null,
      "overflow_y": null,
      "padding": null,
      "right": null,
      "top": null,
      "visibility": null,
      "width": null
     }
    },
    "d01a653d5d4e4d6b88c5567cf4f9f83b": {
     "model_module": "@jupyter-widgets/controls",
     "model_module_version": "1.5.0",
     "model_name": "DescriptionStyleModel",
     "state": {
      "_model_module": "@jupyter-widgets/controls",
      "_model_module_version": "1.5.0",
      "_model_name": "DescriptionStyleModel",
      "_view_count": null,
      "_view_module": "@jupyter-widgets/base",
      "_view_module_version": "1.2.0",
      "_view_name": "StyleView",
      "description_width": ""
     }
    },
    "d0c60ef9c5f04677bba3275095a3d6b1": {
     "model_module": "@jupyter-widgets/base",
     "model_module_version": "1.2.0",
     "model_name": "LayoutModel",
     "state": {
      "_model_module": "@jupyter-widgets/base",
      "_model_module_version": "1.2.0",
      "_model_name": "LayoutModel",
      "_view_count": null,
      "_view_module": "@jupyter-widgets/base",
      "_view_module_version": "1.2.0",
      "_view_name": "LayoutView",
      "align_content": null,
      "align_items": null,
      "align_self": null,
      "border": null,
      "bottom": null,
      "display": null,
      "flex": null,
      "flex_flow": null,
      "grid_area": null,
      "grid_auto_columns": null,
      "grid_auto_flow": null,
      "grid_auto_rows": null,
      "grid_column": null,
      "grid_gap": null,
      "grid_row": null,
      "grid_template_areas": null,
      "grid_template_columns": null,
      "grid_template_rows": null,
      "height": null,
      "justify_content": null,
      "justify_items": null,
      "left": null,
      "margin": null,
      "max_height": null,
      "max_width": null,
      "min_height": null,
      "min_width": null,
      "object_fit": null,
      "object_position": null,
      "order": null,
      "overflow": null,
      "overflow_x": null,
      "overflow_y": null,
      "padding": null,
      "right": null,
      "top": null,
      "visibility": null,
      "width": null
     }
    },
    "d5d9ef3522204920bd48fa5539d7ca7b": {
     "model_module": "@jupyter-widgets/controls",
     "model_module_version": "1.5.0",
     "model_name": "ProgressStyleModel",
     "state": {
      "_model_module": "@jupyter-widgets/controls",
      "_model_module_version": "1.5.0",
      "_model_name": "ProgressStyleModel",
      "_view_count": null,
      "_view_module": "@jupyter-widgets/base",
      "_view_module_version": "1.2.0",
      "_view_name": "StyleView",
      "bar_color": null,
      "description_width": ""
     }
    },
    "d75bdbc91c3c4db89596b4370751e645": {
     "model_module": "@jupyter-widgets/base",
     "model_module_version": "1.2.0",
     "model_name": "LayoutModel",
     "state": {
      "_model_module": "@jupyter-widgets/base",
      "_model_module_version": "1.2.0",
      "_model_name": "LayoutModel",
      "_view_count": null,
      "_view_module": "@jupyter-widgets/base",
      "_view_module_version": "1.2.0",
      "_view_name": "LayoutView",
      "align_content": null,
      "align_items": null,
      "align_self": null,
      "border": null,
      "bottom": null,
      "display": null,
      "flex": null,
      "flex_flow": null,
      "grid_area": null,
      "grid_auto_columns": null,
      "grid_auto_flow": null,
      "grid_auto_rows": null,
      "grid_column": null,
      "grid_gap": null,
      "grid_row": null,
      "grid_template_areas": null,
      "grid_template_columns": null,
      "grid_template_rows": null,
      "height": null,
      "justify_content": null,
      "justify_items": null,
      "left": null,
      "margin": null,
      "max_height": null,
      "max_width": null,
      "min_height": null,
      "min_width": null,
      "object_fit": null,
      "object_position": null,
      "order": null,
      "overflow": null,
      "overflow_x": null,
      "overflow_y": null,
      "padding": null,
      "right": null,
      "top": null,
      "visibility": null,
      "width": null
     }
    },
    "d7819000c5964e76843f64a9ba05b45c": {
     "model_module": "@jupyter-widgets/base",
     "model_module_version": "1.2.0",
     "model_name": "LayoutModel",
     "state": {
      "_model_module": "@jupyter-widgets/base",
      "_model_module_version": "1.2.0",
      "_model_name": "LayoutModel",
      "_view_count": null,
      "_view_module": "@jupyter-widgets/base",
      "_view_module_version": "1.2.0",
      "_view_name": "LayoutView",
      "align_content": null,
      "align_items": null,
      "align_self": null,
      "border": null,
      "bottom": null,
      "display": null,
      "flex": null,
      "flex_flow": null,
      "grid_area": null,
      "grid_auto_columns": null,
      "grid_auto_flow": null,
      "grid_auto_rows": null,
      "grid_column": null,
      "grid_gap": null,
      "grid_row": null,
      "grid_template_areas": null,
      "grid_template_columns": null,
      "grid_template_rows": null,
      "height": null,
      "justify_content": null,
      "justify_items": null,
      "left": null,
      "margin": null,
      "max_height": null,
      "max_width": null,
      "min_height": null,
      "min_width": null,
      "object_fit": null,
      "object_position": null,
      "order": null,
      "overflow": null,
      "overflow_x": null,
      "overflow_y": null,
      "padding": null,
      "right": null,
      "top": null,
      "visibility": null,
      "width": null
     }
    },
    "de4873b26ad14c41bf93bfab21badf5e": {
     "model_module": "@jupyter-widgets/controls",
     "model_module_version": "1.5.0",
     "model_name": "FloatProgressModel",
     "state": {
      "_dom_classes": [],
      "_model_module": "@jupyter-widgets/controls",
      "_model_module_version": "1.5.0",
      "_model_name": "FloatProgressModel",
      "_view_count": null,
      "_view_module": "@jupyter-widgets/controls",
      "_view_module_version": "1.5.0",
      "_view_name": "ProgressView",
      "bar_style": "success",
      "description": "",
      "description_tooltip": null,
      "layout": "IPY_MODEL_e81a8de7e47d4e1589a637b238a1b9cb",
      "max": 28,
      "min": 0,
      "orientation": "horizontal",
      "style": "IPY_MODEL_f53f84cb2c33483abad174aa7187e11f",
      "value": 28
     }
    },
    "e81a8de7e47d4e1589a637b238a1b9cb": {
     "model_module": "@jupyter-widgets/base",
     "model_module_version": "1.2.0",
     "model_name": "LayoutModel",
     "state": {
      "_model_module": "@jupyter-widgets/base",
      "_model_module_version": "1.2.0",
      "_model_name": "LayoutModel",
      "_view_count": null,
      "_view_module": "@jupyter-widgets/base",
      "_view_module_version": "1.2.0",
      "_view_name": "LayoutView",
      "align_content": null,
      "align_items": null,
      "align_self": null,
      "border": null,
      "bottom": null,
      "display": null,
      "flex": null,
      "flex_flow": null,
      "grid_area": null,
      "grid_auto_columns": null,
      "grid_auto_flow": null,
      "grid_auto_rows": null,
      "grid_column": null,
      "grid_gap": null,
      "grid_row": null,
      "grid_template_areas": null,
      "grid_template_columns": null,
      "grid_template_rows": null,
      "height": null,
      "justify_content": null,
      "justify_items": null,
      "left": null,
      "margin": null,
      "max_height": null,
      "max_width": null,
      "min_height": null,
      "min_width": null,
      "object_fit": null,
      "object_position": null,
      "order": null,
      "overflow": null,
      "overflow_x": null,
      "overflow_y": null,
      "padding": null,
      "right": null,
      "top": null,
      "visibility": null,
      "width": null
     }
    },
    "ed1cda39c6fe4bb486a0979fb998f5f9": {
     "model_module": "@jupyter-widgets/controls",
     "model_module_version": "1.5.0",
     "model_name": "ProgressStyleModel",
     "state": {
      "_model_module": "@jupyter-widgets/controls",
      "_model_module_version": "1.5.0",
      "_model_name": "ProgressStyleModel",
      "_view_count": null,
      "_view_module": "@jupyter-widgets/base",
      "_view_module_version": "1.2.0",
      "_view_name": "StyleView",
      "bar_color": null,
      "description_width": ""
     }
    },
    "effba2f36c4540848ec139cd50b91612": {
     "model_module": "@jupyter-widgets/controls",
     "model_module_version": "1.5.0",
     "model_name": "HTMLModel",
     "state": {
      "_dom_classes": [],
      "_model_module": "@jupyter-widgets/controls",
      "_model_module_version": "1.5.0",
      "_model_name": "HTMLModel",
      "_view_count": null,
      "_view_module": "@jupyter-widgets/controls",
      "_view_module_version": "1.5.0",
      "_view_name": "HTMLView",
      "description": "",
      "description_tooltip": null,
      "layout": "IPY_MODEL_cc218c48578a4993a74271bcfe4c9417",
      "placeholder": "​",
      "style": "IPY_MODEL_c5c7ea26ba4b42369dbb731f76b9cfe6",
      "value": "Downloading: 100%"
     }
    },
    "f53f84cb2c33483abad174aa7187e11f": {
     "model_module": "@jupyter-widgets/controls",
     "model_module_version": "1.5.0",
     "model_name": "ProgressStyleModel",
     "state": {
      "_model_module": "@jupyter-widgets/controls",
      "_model_module_version": "1.5.0",
      "_model_name": "ProgressStyleModel",
      "_view_count": null,
      "_view_module": "@jupyter-widgets/base",
      "_view_module_version": "1.2.0",
      "_view_name": "StyleView",
      "bar_color": null,
      "description_width": ""
     }
    },
    "f61a618eb84340ee8b5b3d6dac4eadc0": {
     "model_module": "@jupyter-widgets/controls",
     "model_module_version": "1.5.0",
     "model_name": "DescriptionStyleModel",
     "state": {
      "_model_module": "@jupyter-widgets/controls",
      "_model_module_version": "1.5.0",
      "_model_name": "DescriptionStyleModel",
      "_view_count": null,
      "_view_module": "@jupyter-widgets/base",
      "_view_module_version": "1.2.0",
      "_view_name": "StyleView",
      "description_width": ""
     }
    },
    "f66656c1bb794a5e824ddbb70fd9637f": {
     "model_module": "@jupyter-widgets/controls",
     "model_module_version": "1.5.0",
     "model_name": "HTMLModel",
     "state": {
      "_dom_classes": [],
      "_model_module": "@jupyter-widgets/controls",
      "_model_module_version": "1.5.0",
      "_model_name": "HTMLModel",
      "_view_count": null,
      "_view_module": "@jupyter-widgets/controls",
      "_view_module_version": "1.5.0",
      "_view_name": "HTMLView",
      "description": "",
      "description_tooltip": null,
      "layout": "IPY_MODEL_34907786eb7445259728e35b9b1b2545",
      "placeholder": "​",
      "style": "IPY_MODEL_a6deead89b3f413997ad25654b1179be",
      "value": " 455k/455k [00:00&lt;00:00, 739kB/s]"
     }
    },
    "fc5da3d00fc44366ac13b55fedbde3b1": {
     "model_module": "@jupyter-widgets/base",
     "model_module_version": "1.2.0",
     "model_name": "LayoutModel",
     "state": {
      "_model_module": "@jupyter-widgets/base",
      "_model_module_version": "1.2.0",
      "_model_name": "LayoutModel",
      "_view_count": null,
      "_view_module": "@jupyter-widgets/base",
      "_view_module_version": "1.2.0",
      "_view_name": "LayoutView",
      "align_content": null,
      "align_items": null,
      "align_self": null,
      "border": null,
      "bottom": null,
      "display": null,
      "flex": null,
      "flex_flow": null,
      "grid_area": null,
      "grid_auto_columns": null,
      "grid_auto_flow": null,
      "grid_auto_rows": null,
      "grid_column": null,
      "grid_gap": null,
      "grid_row": null,
      "grid_template_areas": null,
      "grid_template_columns": null,
      "grid_template_rows": null,
      "height": null,
      "justify_content": null,
      "justify_items": null,
      "left": null,
      "margin": null,
      "max_height": null,
      "max_width": null,
      "min_height": null,
      "min_width": null,
      "object_fit": null,
      "object_position": null,
      "order": null,
      "overflow": null,
      "overflow_x": null,
      "overflow_y": null,
      "padding": null,
      "right": null,
      "top": null,
      "visibility": null,
      "width": null
     }
    }
   }
  }
 },
 "nbformat": 4,
 "nbformat_minor": 1
}
